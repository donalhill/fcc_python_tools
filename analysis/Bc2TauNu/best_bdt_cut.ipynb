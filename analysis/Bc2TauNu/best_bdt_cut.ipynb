{
 "cells": [
  {
   "cell_type": "code",
   "execution_count": 1,
   "metadata": {},
   "outputs": [
    {
     "name": "stdout",
     "output_type": "stream",
     "text": [
      "Welcome to JupyROOT 6.20/06\n"
     ]
    },
    {
     "name": "stderr",
     "output_type": "stream",
     "text": [
      "/cvmfs/sft.cern.ch/lcg/views/LCG_97apython3/x86_64-centos7-gcc8-opt/lib/python3.7/site-packages/root_numpy/__init__.py:46: RuntimeWarning: numpy 1.18.5 is currently installed but you installed root_numpy against numpy 1.16.4. Please consider reinstalling root_numpy for this numpy version.\n",
      "  RuntimeWarning)\n",
      "/cvmfs/sft.cern.ch/lcg/views/LCG_97apython3/x86_64-centos7-gcc8-opt/lib/python3.7/site-packages/sklearn/externals/joblib/__init__.py:15: DeprecationWarning: sklearn.externals.joblib is deprecated in 0.21 and will be removed in 0.23. Please import this functionality directly from joblib, which can be installed with: pip install joblib. If this warning is raised when loading pickled models, you may need to re-serialize those models with scikit-learn 0.21+.\n",
      "  warnings.warn(msg, category=DeprecationWarning)\n"
     ]
    }
   ],
   "source": [
    "import sys,os\n",
    "import json\n",
    "import numpy as np\n",
    "import matplotlib.pyplot as plt\n",
    "from fcc_python_tools.locations import loc\n",
    "from fcc_python_tools import plotting\n",
    "import pandas as pd\n",
    "from root_pandas import read_root, to_root\n",
    "import xgboost as xgb\n",
    "from sklearn.model_selection import train_test_split\n",
    "from sklearn.ensemble import GradientBoostingClassifier\n",
    "from sklearn.metrics import classification_report, roc_auc_score\n",
    "from sklearn.metrics import roc_curve, auc\n",
    "from sklearn.externals import joblib\n",
    "from sklearn.utils.class_weight import compute_sample_weight\n",
    "from scipy.stats import ks_2samp\n",
    "import xgboost as xgb\n",
    "\n",
    "from matplotlib import rc\n",
    "rc('font',**{'family':'serif','serif':['Roman']})\n",
    "rc('text', usetex=True)"
   ]
  },
  {
   "cell_type": "code",
   "execution_count": 4,
   "metadata": {},
   "outputs": [],
   "source": [
    "#Load signal with all the BDTs applied\n",
    "BDT_str = \"Zuds_BDT_Zcc_BDT_Zbb_BDT_all_BDT\"\n",
    "path = f\"{loc.OUT}/ROOT\"\n",
    "df_sig = read_root(f\"{path}/Bc2TauNu_{BDT_str}.root\",\"events\")"
   ]
  },
  {
   "cell_type": "code",
   "execution_count": 5,
   "metadata": {},
   "outputs": [],
   "source": [
    "#Load backgrounds with all BDTs applied\n",
    "df_bkg = {}\n",
    "for q in [\"uds\",\"cc\",\"bb\"]:\n",
    "    df_bkg[q] = read_root(f\"{path}/inclusive_Z{q}_{BDT_str}.root\",\"events\")"
   ]
  },
  {
   "cell_type": "code",
   "execution_count": 12,
   "metadata": {},
   "outputs": [
    {
     "name": "stdout",
     "output_type": "stream",
     "text": [
      "0.9950550198554993\n"
     ]
    }
   ],
   "source": [
    "#Get maximum BDT scores for each background type\n",
    "BDT_high = {}\n",
    "for q in [\"uds\",\"cc\",\"bb\"]:\n",
    "    BDT_high[q] = df_bkg[q][\"BDT_all\"].max()\n",
    "#Find highest of these\n",
    "max_BDT = 0.\n",
    "for q in [\"uds\",\"cc\",\"bb\"]:\n",
    "    if(BDT_high[q] > max_BDT):\n",
    "        max_BDT = BDT_high[q]\n",
    "print(max_BDT)"
   ]
  },
  {
   "cell_type": "code",
   "execution_count": 14,
   "metadata": {},
   "outputs": [
    {
     "name": "stdout",
     "output_type": "stream",
     "text": [
      "Signal efficiency for BDT cut that rejects 10^6 of all three backgrounds: 0.600\n"
     ]
    }
   ],
   "source": [
    "#Cut on the maximum BDT score, which rejects all of the background in each sample i.e. 10^6 rejection of qq, cc, and bb\n",
    "n_sig_tot = float(len(df_sig))\n",
    "n_sig_pass = float(len(df_sig.query(f\"BDT_all > {max_BDT}\")))\n",
    "eff_sig = n_sig_pass / n_sig_tot\n",
    "print(\"Signal efficiency for BDT cut that rejects 10^6 of all three backgrounds: %.3f\" % eff_sig)"
   ]
  },
  {
   "cell_type": "code",
   "execution_count": 15,
   "metadata": {},
   "outputs": [
    {
     "name": "stdout",
     "output_type": "stream",
     "text": [
      "{'uds': 0.9978569746017456, 'cc': 0.9948310256004333, 'bb': 0.9901398122310638}\n"
     ]
    }
   ],
   "source": [
    "#Cut on each background with its own MVA for comparison\n",
    "BDT_type = {\"uds\": \"qq\",\n",
    "            \"cc\": \"cc\",\n",
    "            \"bb\": \"bb\"\n",
    "            }\n",
    "BDT_high = {}\n",
    "for q in [\"uds\",\"cc\",\"bb\"]:\n",
    "    BDT_high[q] = df_bkg[q][f\"BDT_{BDT_type[q]}\"].max()\n",
    "print(BDT_high)"
   ]
  },
  {
   "cell_type": "code",
   "execution_count": 16,
   "metadata": {},
   "outputs": [
    {
     "name": "stdout",
     "output_type": "stream",
     "text": [
      "Signal efficiency for BDT cuts that rejects 10^6 of all three backgrounds: 0.537\n"
     ]
    }
   ],
   "source": [
    "#Cut on the three BDTs in signal and check the efficiency\n",
    "n_sig_pass = float(len(df_sig.query(f\"BDT_qq > {BDT_high['uds']} and BDT_cc > {BDT_high['cc']} and BDT_bb > {BDT_high['bb']}\")))\n",
    "eff_sig = n_sig_pass / n_sig_tot\n",
    "print(\"Signal efficiency for BDT cuts that rejects 10^6 of all three backgrounds: %.3f\" % eff_sig)"
   ]
  }
 ],
 "metadata": {
  "kernelspec": {
   "display_name": "Python 3",
   "language": "python",
   "name": "python3"
  },
  "language_info": {
   "codemirror_mode": {
    "name": "ipython",
    "version": 3
   },
   "file_extension": ".py",
   "mimetype": "text/x-python",
   "name": "python",
   "nbconvert_exporter": "python",
   "pygments_lexer": "ipython3",
   "version": "3.7.6"
  }
 },
 "nbformat": 4,
 "nbformat_minor": 4
}

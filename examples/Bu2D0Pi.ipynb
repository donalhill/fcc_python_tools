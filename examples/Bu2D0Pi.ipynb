{
 "cells": [
  {
   "cell_type": "markdown",
   "metadata": {},
   "source": [
    "Imports and load charged hadrons from file:"
   ]
  },
  {
   "cell_type": "code",
   "execution_count": null,
   "metadata": {},
   "outputs": [],
   "source": [
    "import sys,os\n",
    "import uproot4 as uproot\n",
    "import awkward1 as ak\n",
    "import json\n",
    "import numpy as np\n",
    "import matplotlib.pyplot as plt\n",
    "from fcc_python_tools.locations import loc\n",
    "from fcc_python_tools import kinematics\n",
    "from particle import literals as lp\n",
    "from fcc_python_tools import plotting\n",
    "import tensorflow as tf\n",
    "import zfit\n",
    "import random\n",
    "\n",
    "from matplotlib import rc\n",
    "rc('font',**{'family':'serif','serif':['Roman']})\n",
    "rc('text', usetex=True)\n",
    "\n",
    "file_type = \"p8_ee_Zbb_ecm91_EvtGen_Bu2D0Pi\"\n",
    "\n",
    "#Load 1 sub-file of 100k events\n",
    "file = uproot.open(f\"/eos/experiment/fcc/ee/generation/DelphesEvents/fcc_tmp/{file_type}/events_001133159.root\")\n",
    "tree = file['events']\n",
    "\n",
    "#Get all the variables in the tree\n",
    "vars = tree.keys()\n",
    "\n",
    "#Loacation of the reco particles\n",
    "h_container = \"ReconstructedParticles\"\n",
    "h_c = f'{h_container}/{h_container}'\n",
    "\n",
    "#Keep the variables that aren't covMatrix\n",
    "keep_vars = []\n",
    "for v in vars:\n",
    "    if(\"covMatrix\" not in v and h_c in v):\n",
    "        keep_vars.append(v)\n",
    "\n",
    "n_keep = 10000\n",
    "h = tree.arrays(keep_vars,how=\"zip\")[:n_keep]"
   ]
  },
  {
   "cell_type": "markdown",
   "metadata": {},
   "source": [
    "Build $D^0$ candidates:"
   ]
  },
  {
   "cell_type": "code",
   "execution_count": null,
   "metadata": {},
   "outputs": [],
   "source": [
    "h[h_c,'p'] = kinematics.calc_p(h,h_c)\n",
    "p_cut = h[h_c,\"p\"] > 0.\n",
    "h = h[p_cut]\n",
    "\n",
    "pi_cut = abs(h[h_c,\"mass\"] - lp.pi_plus.mass/1000.) < 1e-4\n",
    "h[\"pi\"] = h[h_c][pi_cut]\n",
    "\n",
    "k_cut = abs(h[h_c,\"mass\"] - lp.K_plus.mass/1000.) < 1e-4\n",
    "h[\"k\"] = h[h_c][k_cut]\n",
    "\n",
    "D = ak.cartesian({\"k\": h[\"k\"], \"pi\": h[\"pi\"]})\n",
    "D_cut = np.sign(D[\"k\",\"charge\"]) != np.sign(D[\"pi\",\"charge\"])\n",
    "D = D[D_cut]\n",
    "\n",
    "PDG_K_m = lp.K_plus.mass/1000.\n",
    "PDG_pi_m = lp.pi_plus.mass/1000.\n",
    "D[\"mass\"] = kinematics.mass([D[\"k\"], D[\"pi\"]], [PDG_K_m, PDG_pi_m])\n",
    "\n",
    "PDG_D_m = lp.D_0.mass/1000.\n",
    "D_window = 0.05\n",
    "D_cut = abs(D[\"mass\"] - PDG_D_m) < D_window\n",
    "D = D[D_cut]\n",
    "\n",
    "plt.hist(ak.flatten(D[\"mass\"]),bins=40)\n",
    "plt.show()"
   ]
  },
  {
   "cell_type": "markdown",
   "metadata": {},
   "source": [
    "Build $B^\\pm \\to D^0 \\pi^\\pm$ candidates, keeping only those where the $K$ from the $D^0$ has the same charge as the $\\pi$ produced in the $B^\\pm$ decay:"
   ]
  },
  {
   "cell_type": "code",
   "execution_count": null,
   "metadata": {},
   "outputs": [],
   "source": [
    "B = ak.cartesian({\"D_k\": D[\"k\"], \"D_pi\": D[\"pi\"], \"pi\": h[\"pi\"]})\n",
    "B_cut = np.sign(B[\"D_k\",\"charge\"]) == np.sign(B[\"pi\",\"charge\"])\n",
    "B = B[B_cut]\n",
    "B[\"mass\"] = kinematics.mass([B[\"D_k\"], B[\"D_pi\"], B[\"pi\"]], [PDG_K_m, PDG_pi_m, PDG_pi_m])"
   ]
  },
  {
   "cell_type": "markdown",
   "metadata": {},
   "source": [
    "Keep $B^\\pm$ candidates within a certain mass range and plot:"
   ]
  },
  {
   "cell_type": "code",
   "execution_count": null,
   "metadata": {},
   "outputs": [],
   "source": [
    "low = 5.22\n",
    "high = 5.34\n",
    "B_cut = np.logical_and(B[\"mass\"] > low, B[\"mass\"] < high)\n",
    "B = B[B_cut]\n",
    "\n",
    "plotting.errorbar_hist(B,\"mass\",\"B\",\"$m([K^\\pm \\pi^\\mp]_D \\pi^\\pm)$\",\"GeV/$c^2$\",low,high,100)"
   ]
  },
  {
   "cell_type": "markdown",
   "metadata": {},
   "source": [
    "Fit the distribution with zfit, including a signal peak component and an exponential component for random combinations:"
   ]
  },
  {
   "cell_type": "code",
   "execution_count": null,
   "metadata": {},
   "outputs": [],
   "source": [
    "obs = zfit.Space('mB', limits=(low, high))\n",
    "\n",
    "rand = random.randint(0,999)\n",
    "#Signal PDF\n",
    "B_mu = zfit.Parameter(f\"B_mu_{rand}\", 5.279, low, high)\n",
    "B_sigma = zfit.Parameter(f\"B_sigma_{rand}\", 0.005, 0., 0.1)\n",
    "B_alphaL = zfit.Parameter(f\"B_alphaL_{rand}\", 0.5, 0., 5.)\n",
    "B_nL = zfit.Parameter(f\"B_nL_{rand}\", 100., 0., 200.)\n",
    "B_alphaR = zfit.Parameter(f\"B_alphaR_{rand}\", -0.5, -5., 0.)\n",
    "B_nR = zfit.Parameter(f\"B_nR_{rand}\", 100., 0., 200.)\n",
    "frac = zfit.Parameter(f\"frac_{rand}\", 0.5, 0., 1.)\n",
    "\n",
    "n_sig = zfit.Parameter(f\"n_sig_{rand}\", 8000., 0., 20000.)\n",
    "\n",
    "pdf_sigL = zfit.pdf.CrystalBall(obs=obs, mu=B_mu, sigma=B_sigma, alpha=B_alphaL, n=B_nL)\n",
    "pdf_sigR = zfit.pdf.CrystalBall(obs=obs, mu=B_mu, sigma=B_sigma, alpha=B_alphaR, n=B_nR)\n",
    "pdf_sig = zfit.pdf.SumPDF([pdf_sigL, pdf_sigR], frac).create_extended(n_sig)\n",
    "\n",
    "#Background PDF\n",
    "comb = zfit.Parameter(f\"comb_{rand}\", -0.1, -1, 1.)\n",
    "\n",
    "n_bkg = zfit.Parameter(f\"n_bkg_{rand}\", 500., 0., 10000.)\n",
    "\n",
    "pdf_bkg = zfit.pdf.Chebyshev(obs=obs, coeffs=[comb]).create_extended(n_bkg)\n",
    "\n",
    "#Total PDF\n",
    "pdf = zfit.pdf.SumPDF([pdf_sig, pdf_bkg])"
   ]
  },
  {
   "cell_type": "code",
   "execution_count": null,
   "metadata": {},
   "outputs": [],
   "source": [
    "data_np = ak.to_numpy(ak.flatten(B[\"mass\"]))\n",
    "data = zfit.Data.from_numpy(obs=obs, array=data_np)"
   ]
  },
  {
   "cell_type": "code",
   "execution_count": null,
   "metadata": {},
   "outputs": [],
   "source": [
    "nll = zfit.loss.ExtendedUnbinnedNLL(model=pdf, data=data)\n",
    "minimizer = zfit.minimize.Minuit(tolerance=1e-5)\n",
    "result = minimizer.minimize(nll)\n",
    "param_errors, _ = result.errors(method=\"minuit_minos\")\n",
    "\n",
    "print(\"m(B) fit function minimum:\", result.fmin)\n",
    "print(\"m(B) fit converged:\", result.converged)\n",
    "print(\"m(B) fit full minimizer information:\", result.info)\n",
    "\n",
    "params = result.params\n",
    "print(params)\n",
    "\n",
    "n_sig_val = params[n_sig]['value']"
   ]
  },
  {
   "cell_type": "markdown",
   "metadata": {},
   "source": [
    "Plot the fit result:"
   ]
  },
  {
   "cell_type": "code",
   "execution_count": null,
   "metadata": {},
   "outputs": [],
   "source": [
    "fig,ax = plt.subplots(figsize=(10,8))\n",
    "lower, upper = obs.limits\n",
    "low = lower[-1][0]\n",
    "high = upper[0][0]\n",
    "bin_width = 0.002\n",
    "bins = int(float(high - low)/bin_width)\n",
    "counts, bin_edges = np.histogram(data_np, bins, range=(low,high))\n",
    "bin_centres = (bin_edges[:-1] + bin_edges[1:])/2.\n",
    "err = np.sqrt(counts)\n",
    "plt.errorbar(bin_centres, counts, yerr=err, fmt='o', markersize=3, color='black')\n",
    "x_plot = np.linspace(low, high, num=1000)\n",
    "y_plot_tot = zfit.run(pdf.pdf(x_plot, norm_range=obs))\n",
    "plt.plot(x_plot, y_plot_tot*len(data_np)/bins*obs.area(), color='navy', linewidth=2.5, alpha=0.6)\n",
    "y_plot_sig = zfit.run(pdf_sig.pdf(x_plot, norm_range=obs))\n",
    "plt.plot(x_plot,y_plot_sig*params[n_sig]['value']/bins*obs.area(), color='crimson')\n",
    "y_plot_bkg = zfit.run(pdf_bkg.pdf(x_plot, norm_range=obs))\n",
    "plt.plot(x_plot,y_plot_bkg*params[n_bkg]['value']/bins*obs.area(), color='forestgreen', linestyle='dashed')\n",
    "ax.tick_params(axis='both', which='major', labelsize=25)\n",
    "plt.ylabel(\"Candidates / (%.3f GeV/$c^2$)\" % bin_width,fontsize=25)\n",
    "plt.xlabel(\"$m([K^\\pm \\pi^\\mp]_D \\pi^\\pm)$ [GeV/$c^2$]\",fontsize=25)\n",
    "plt.xlim(low,high)\n",
    "ymin, ymax = plt.ylim()\n",
    "plt.ylim(0,1.05*ymax)\n",
    "plt.text(5.295,0.9*ymax,\"\\\\textbf{FCC-ee}\",fontsize=20)\n",
    "plt.text(5.295,0.82*ymax,\"$Z^0 \\\\to b\\\\bar{b}$ sim.\",fontsize=20)\n",
    "plt.text(5.295,0.74*ymax,\"$B^\\\\pm \\\\to [K^\\pm \\pi^\\mp]_{D^0} \\\\pi^\\\\pm$ excl.\",fontsize=20)\n",
    "plt.tight_layout()\n",
    "fig.savefig(loc.PLOTS+f\"/{file_type}_Bu_M_fit.pdf\")"
   ]
  },
  {
   "cell_type": "markdown",
   "metadata": {},
   "source": [
    "Estimate the expected yield of this mode per year and per experiment:"
   ]
  },
  {
   "cell_type": "code",
   "execution_count": null,
   "metadata": {},
   "outputs": [],
   "source": [
    "#Number of Z's produced per year (4) per experiment (2)\n",
    "N_Z = 3e12 * 0.25 * 0.5\n",
    "#Number of b quarks produced\n",
    "N_b = 2 * 0.1512 * N_Z\n",
    "#Number of B -> D0 pi produced\n",
    "N_Bu2D0Pi = N_b * 0.43 * 4.68e-3 * 0.0395\n",
    "\n",
    "print(\"N expected per year per exp = %.3e\" % N_Bu2D0Pi)"
   ]
  },
  {
   "cell_type": "markdown",
   "metadata": {},
   "source": [
    "Fit the D0 peak to measure resolution:"
   ]
  },
  {
   "cell_type": "code",
   "execution_count": null,
   "metadata": {},
   "outputs": [],
   "source": [
    "low = PDG_D_m - D_window\n",
    "high = PDG_D_m + D_window\n",
    "obs_D = zfit.Space('mD', limits=(low, high))\n",
    "\n",
    "rand = random.randint(0,999)\n",
    "#Signal PDF\n",
    "D_mu = zfit.Parameter(f\"D_mu_{rand}\", 1.864, low, high)\n",
    "D_sigma = zfit.Parameter(f\"D_sigma_{rand}\", 0.004, 0., 0.02)\n",
    "D_alphaL = zfit.Parameter(f\"D_alphaL_{rand}\", 0.5, 0., 5.)\n",
    "D_nL = zfit.Parameter(f\"D_nL_{rand}\", 10., 0., 200.)\n",
    "D_alphaR = zfit.Parameter(f\"D_alphaR_{rand}\", -0.5, -5., 0.)\n",
    "D_nR = zfit.Parameter(f\"D_nR_{rand}\", 10., 0., 200.)\n",
    "D_frac = zfit.Parameter(f\"D_frac_{rand}\", 0.4, 0., 1.)\n",
    "\n",
    "n_sig_D = zfit.Parameter(f\"n_sig_D_{rand}\", 7000, 0., 20000.)\n",
    "\n",
    "pdf_sigL_D = zfit.pdf.CrystalBall(obs=obs_D, mu=D_mu, sigma=D_sigma, alpha=D_alphaL, n=D_nL)\n",
    "pdf_sigR_D = zfit.pdf.CrystalBall(obs=obs_D, mu=D_mu, sigma=D_sigma, alpha=D_alphaR, n=D_nR)\n",
    "pdf_sig_D = zfit.pdf.SumPDF([pdf_sigL_D, pdf_sigR_D], D_frac).create_extended(n_sig_D)\n",
    "\n",
    "#Background PDF\n",
    "comb_D = zfit.Parameter(f\"comb_D_{rand}\", 0., -0.5, 0.5)\n",
    "\n",
    "n_bkg_D = zfit.Parameter(f\"n_bkg_D_{rand}\", 500., 0., 10000.)\n",
    "\n",
    "pdf_bkg_D = zfit.pdf.Chebyshev(obs=obs_D, coeffs=[comb_D]).create_extended(n_bkg_D)\n",
    "\n",
    "#Total PDF\n",
    "pdf_D = zfit.pdf.SumPDF([pdf_sig_D, pdf_bkg_D])"
   ]
  },
  {
   "cell_type": "code",
   "execution_count": null,
   "metadata": {},
   "outputs": [],
   "source": [
    "D_data_np = ak.to_numpy(ak.flatten(D[\"mass\"]))\n",
    "D_data = zfit.Data.from_numpy(obs=obs_D, array=D_data_np)"
   ]
  },
  {
   "cell_type": "code",
   "execution_count": null,
   "metadata": {},
   "outputs": [],
   "source": [
    "nll = zfit.loss.ExtendedUnbinnedNLL(model=pdf_D, data=D_data)\n",
    "minimizer = zfit.minimize.Minuit(tolerance=1e-5)\n",
    "result = minimizer.minimize(nll)\n",
    "param_errors, _ = result.errors(method=\"minuit_minos\")\n",
    "\n",
    "print(\"m(D) fit function minimum:\", result.fmin)\n",
    "print(\"m(D) fit converged:\", result.converged)\n",
    "print(\"m(D) fit full minimizer information:\", result.info)\n",
    "\n",
    "params = result.params\n",
    "print(params)"
   ]
  },
  {
   "cell_type": "code",
   "execution_count": null,
   "metadata": {
    "scrolled": false
   },
   "outputs": [],
   "source": [
    "fig,ax = plt.subplots(figsize=(10,8))\n",
    "lower, upper = obs_D.limits\n",
    "low = lower[-1][0]\n",
    "high = upper[0][0]\n",
    "bin_width = 0.002\n",
    "bins = int(float(high - low)/bin_width)\n",
    "counts, bin_edges = np.histogram(D_data_np, bins, range=(low,high))\n",
    "bin_centres = (bin_edges[:-1] + bin_edges[1:])/2.\n",
    "err = np.sqrt(counts)\n",
    "plt.errorbar(bin_centres, counts, yerr=err, fmt='o', markersize=3, color='black')\n",
    "x_plot = np.linspace(low, high, num=1000)\n",
    "y_plot_tot = zfit.run(pdf_D.pdf(x_plot, norm_range=obs_D))\n",
    "plt.plot(x_plot, y_plot_tot*len(D_data_np)/bins*obs_D.area(), color='navy', linewidth=2.5, alpha=0.6)\n",
    "y_plot_sig = zfit.run(pdf_sig_D.pdf(x_plot, norm_range=obs_D))\n",
    "plt.plot(x_plot,y_plot_sig*params[n_sig_D]['value']/bins*obs_D.area(), color='crimson')\n",
    "y_plot_bkg = zfit.run(pdf_bkg_D.pdf(x_plot, norm_range=obs_D))\n",
    "plt.plot(x_plot,y_plot_bkg*params[n_bkg_D]['value']/bins*obs_D.area(), color='forestgreen', linestyle='dashed')\n",
    "ax.tick_params(axis='both', which='major', labelsize=25)\n",
    "plt.ylabel(\"Candidates / (%.3f GeV/$c^2$)\" % bin_width,fontsize=25)\n",
    "plt.xlabel(\"$m(K^\\pm \\pi^\\mp)$ [GeV/$c^2$]\",fontsize=25)\n",
    "plt.xlim(low,high)\n",
    "ymin, ymax = plt.ylim()\n",
    "plt.ylim(0,1.05*ymax)\n",
    "plt.text(1.88,0.9*ymax,\"\\\\textbf{FCC-ee}\",fontsize=20)\n",
    "plt.text(1.88,0.82*ymax,\"$Z^0 \\\\to b\\\\bar{b}$ sim.\",fontsize=20)\n",
    "plt.text(1.88,0.74*ymax,\"$B^\\\\pm \\\\to [K^\\pm \\pi^\\mp]_{D^0} \\\\pi^\\\\pm$ excl.\",fontsize=20)\n",
    "plt.tight_layout()\n",
    "fig.savefig(loc.PLOTS+f\"/{file_type}_D0_M_fit.pdf\")"
   ]
  }
 ],
 "metadata": {
  "kernelspec": {
   "display_name": "Python 3",
   "language": "python",
   "name": "python3"
  },
  "language_info": {
   "codemirror_mode": {
    "name": "ipython",
    "version": 3
   },
   "file_extension": ".py",
   "mimetype": "text/x-python",
   "name": "python",
   "nbconvert_exporter": "python",
   "pygments_lexer": "ipython3",
   "version": "3.7.6"
  }
 },
 "nbformat": 4,
 "nbformat_minor": 4
}

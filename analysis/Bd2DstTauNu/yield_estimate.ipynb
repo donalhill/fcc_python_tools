{
 "cells": [
  {
   "cell_type": "code",
   "execution_count": 1,
   "metadata": {},
   "outputs": [],
   "source": [
    "import json\n",
    "from fcc_python_tools.locations import loc\n",
    "\n",
    "#Load species yields per year per IP at FCC-ee\n",
    "with open(f'{loc.JSON}/FCCee_species_yields.json','r') as json_file:\n",
    "    dict = json.load(json_file)"
   ]
  },
  {
   "cell_type": "code",
   "execution_count": 3,
   "metadata": {},
   "outputs": [
    {
     "name": "stdout",
     "output_type": "stream",
     "text": [
      "N(FCC-ee) = 2.0e+06\n"
     ]
    }
   ],
   "source": [
    "#B0 -> D* tau nu branching fraction with tau -> 3pi nu and D0 -> Kpi\n",
    "BF = 0.0157 * 0.677 * 0.0395 * 0.098\n",
    "\n",
    "#Total number expected at FCC-ee per year per IP\n",
    "N_FCCee = dict[\"Bd\"] * BF\n",
    "print(\"N(FCC-ee) = %.1e\" % N_FCCee)"
   ]
  },
  {
   "cell_type": "code",
   "execution_count": 5,
   "metadata": {},
   "outputs": [
    {
     "name": "stdout",
     "output_type": "stream",
     "text": [
      "N(LHCb UII) = 600000\n"
     ]
    }
   ],
   "source": [
    "#LHCb 50 fb-1 yield estimate from angular analysis paper (arXiv:1908.04643)\n",
    "N_LHCb_50fb = 100000\n",
    "\n",
    "N_LHCb_300fb = N_LHCb_50fb * (300./50.)\n",
    "\n",
    "print(\"N(LHCb UII) = %.0f\" % N_LHCb_300fb)"
   ]
  }
 ],
 "metadata": {
  "kernelspec": {
   "display_name": "Python 3",
   "language": "python",
   "name": "python3"
  },
  "language_info": {
   "codemirror_mode": {
    "name": "ipython",
    "version": 3
   },
   "file_extension": ".py",
   "mimetype": "text/x-python",
   "name": "python",
   "nbconvert_exporter": "python",
   "pygments_lexer": "ipython3",
   "version": "3.7.6"
  }
 },
 "nbformat": 4,
 "nbformat_minor": 4
}

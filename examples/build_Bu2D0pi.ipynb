{
 "cells": [
  {
   "cell_type": "markdown",
   "metadata": {},
   "source": [
    "Imports and load charged hadrons from file:"
   ]
  },
  {
   "cell_type": "code",
   "execution_count": null,
   "metadata": {},
   "outputs": [],
   "source": [
    "import sys,os\n",
    "import uproot4 as uproot\n",
    "import awkward1 as ak\n",
    "import json\n",
    "import numpy as np\n",
    "import matplotlib.pyplot as plt\n",
    "from fcc_python_tools.locations import loc\n",
    "from fcc_python_tools import kinematics\n",
    "from particle import literals as lp\n",
    "from fcc_python_tools import plotting\n",
    "\n",
    "from matplotlib import rc\n",
    "rc('font',**{'family':'serif','serif':['Roman']})\n",
    "rc('text', usetex=True)\n",
    "\n",
    "file = uproot.open(\"/eos/experiment/fcc/ee/tmp/fcc_python_tools/FCCDelphesOutput_total.root\")\n",
    "tree = file['events']\n",
    "\n",
    "h_container = \"efcharged.core\"\n",
    "h = tree.arrays(filter_name=f\"{h_container}*\",how=\"zip\")"
   ]
  },
  {
   "cell_type": "markdown",
   "metadata": {},
   "source": [
    "Build $D^0$ candidates:"
   ]
  },
  {
   "cell_type": "code",
   "execution_count": null,
   "metadata": {},
   "outputs": [],
   "source": [
    "h[h_container,'p4.p'] = kinematics.calc_p(h,h_container)\n",
    "p_cut = h[h_container,\"p4.p\"] > 3.\n",
    "h = h[p_cut]\n",
    "\n",
    "pi_cut = abs(h[h_container,\"pdgId\"]) == abs(lp.pi_plus.pdgid)\n",
    "h[\"pi\"] = h[h_container][pi_cut]\n",
    "\n",
    "k_cut = abs(h[h_container,\"pdgId\"]) == abs(lp.K_plus.pdgid)\n",
    "h[\"k\"] = h[h_container][k_cut]\n",
    "\n",
    "D = ak.cartesian({\"k\": h[\"k\"], \"pi\": h[\"pi\"]})\n",
    "D_cut = np.sign(D[\"k\",\"pdgId\"]) != np.sign(D[\"pi\",\"pdgId\"])\n",
    "D = D[D_cut]\n",
    "\n",
    "PDG_K_m = lp.K_plus.mass/1000.\n",
    "PDG_pi_m = lp.pi_plus.mass/1000.\n",
    "D[\"mass\"] = kinematics.mass_2body(D[\"k\"], D[\"pi\"], PDG_K_m, PDG_pi_m)\n",
    "\n",
    "PDG_D_m = lp.D_0.mass/1000.\n",
    "D_cut = abs(D[\"mass\"] - PDG_D_m) < 0.01\n",
    "D = D[D_cut]"
   ]
  },
  {
   "cell_type": "markdown",
   "metadata": {},
   "source": [
    "Build $B^\\pm \\to D^0 \\pi^\\pm$ candidates, keeping only those where the $K$ from the $D^0$ has the same charge as the $\\pi$ produced in the $B^\\pm$ decay:"
   ]
  },
  {
   "cell_type": "code",
   "execution_count": null,
   "metadata": {},
   "outputs": [],
   "source": [
    "B = ak.cartesian({\"D_k\": D[\"k\"], \"D_pi\": D[\"pi\"], \"pi\": h[\"pi\"]})\n",
    "B_cut = np.sign(B[\"D_k\",\"pdgId\"]) == np.sign(B[\"pi\",\"pdgId\"])\n",
    "B = B[B_cut]\n",
    "B[\"mass\"] = kinematics.mass_3body(B[\"D_k\"], B[\"D_pi\"], B[\"pi\"], PDG_K_m, PDG_pi_m, PDG_pi_m)"
   ]
  },
  {
   "cell_type": "markdown",
   "metadata": {},
   "source": [
    "Keep $B^\\pm$ candidates within a certain mass range and plot:"
   ]
  },
  {
   "cell_type": "code",
   "execution_count": null,
   "metadata": {},
   "outputs": [],
   "source": [
    "low = 5.1\n",
    "high = 5.4\n",
    "B_cut = np.logical_and(B[\"mass\"] > low, B[\"mass\"] < high)\n",
    "B = B[B_cut]\n",
    "\n",
    "plotting.errorbar_hist(B,\"mass\",\"B\",\"$m([K^\\pm \\pi^\\mp]_D \\pi^\\pm)$\",\"GeV/$c^2$\",low,high,20)"
   ]
  }
 ],
 "metadata": {
  "kernelspec": {
   "display_name": "fcc_pyenv",
   "language": "python",
   "name": "fcc_pyenv"
  },
  "language_info": {
   "codemirror_mode": {
    "name": "ipython",
    "version": 3
   },
   "file_extension": ".py",
   "mimetype": "text/x-python",
   "name": "python",
   "nbconvert_exporter": "python",
   "pygments_lexer": "ipython3",
   "version": "3.7.8"
  }
 },
 "nbformat": 4,
 "nbformat_minor": 4
}

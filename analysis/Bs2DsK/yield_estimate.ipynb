{
 "cells": [
  {
   "cell_type": "code",
   "execution_count": 1,
   "metadata": {},
   "outputs": [],
   "source": [
    "import json\n",
    "from fcc_python_tools.locations import loc\n",
    "\n",
    "#Load species yields per year per IP at FCC-ee\n",
    "with open(f'{loc.JSON}/FCCee_species_yields.json','r') as json_file:\n",
    "    dict = json.load(json_file)"
   ]
  },
  {
   "cell_type": "code",
   "execution_count": 2,
   "metadata": {},
   "outputs": [
    {
     "name": "stdout",
     "output_type": "stream",
     "text": [
      "N(FCC-ee) = 135973\n"
     ]
    }
   ],
   "source": [
    "#Bs -> Ds K branching fraction \n",
    "BF = 0.0539 * 2.27e-4\n",
    "\n",
    "#Total number expected at FCC-ee per year per IP\n",
    "N_FCCee = dict[\"Bs\"] * BF\n",
    "print(\"N(FCC-ee) = %.0f\" % N_FCCee)"
   ]
  },
  {
   "cell_type": "code",
   "execution_count": 3,
   "metadata": {},
   "outputs": [
    {
     "name": "stdout",
     "output_type": "stream",
     "text": [
      "N(LHCb UII) = 340725\n"
     ]
    }
   ],
   "source": [
    "#LHCb (3 fb-1) yield of Bs -> Ds K gamma\n",
    "N_LHCb_Run1 = 1770.\n",
    "N_LHCb_Run2 = N_LHCb_Run1 * 2 * (6./3.)\n",
    "N_LHCb_9fb = N_LHCb_Run1 + N_LHCb_Run2\n",
    "\n",
    "#300 fb-1 yield (300/8 where 8 is used because first 3 fb-1 count as 2 fb-1 at 13 TeV)\n",
    "N_LHCb_300fb = N_LHCb_9fb + N_LHCb_9fb*(300./8.)\n",
    "\n",
    "print(\"N(LHCb UII) = %.0f\" % N_LHCb_300fb)"
   ]
  }
 ],
 "metadata": {
  "kernelspec": {
   "display_name": "Python 3",
   "language": "python",
   "name": "python3"
  },
  "language_info": {
   "codemirror_mode": {
    "name": "ipython",
    "version": 3
   },
   "file_extension": ".py",
   "mimetype": "text/x-python",
   "name": "python",
   "nbconvert_exporter": "python",
   "pygments_lexer": "ipython3",
   "version": "3.7.6"
  }
 },
 "nbformat": 4,
 "nbformat_minor": 4
}

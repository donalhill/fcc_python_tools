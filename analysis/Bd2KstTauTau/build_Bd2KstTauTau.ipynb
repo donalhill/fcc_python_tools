{
 "cells": [
  {
   "cell_type": "code",
   "execution_count": 1,
   "metadata": {},
   "outputs": [],
   "source": [
    "import sys,os\n",
    "import uproot4 as uproot\n",
    "import awkward1 as ak\n",
    "import json\n",
    "import numpy as np\n",
    "import matplotlib.pyplot as plt\n",
    "from fcc_python_tools.locations import loc\n",
    "from fcc_python_tools import kinematics_flat\n",
    "from particle import literals as lp\n",
    "from fcc_python_tools import plotting\n",
    "import tensorflow as tf\n",
    "import zfit\n",
    "import random\n",
    "\n",
    "from matplotlib import rc\n",
    "rc('font',**{'family':'serif','serif':['Roman']})\n",
    "rc('text', usetex=True)"
   ]
  },
  {
   "cell_type": "code",
   "execution_count": 2,
   "metadata": {},
   "outputs": [],
   "source": [
    "path = \"/eos/experiment/fcc/ee/tmp/testmatching/\"\n",
    "mode = \"Bd2KstTauTauTAUHADNU\"\n",
    "\n",
    "file = uproot.open(path+f\"events_{mode}.root\")\n",
    "tree = file['events']\n",
    "events = tree.arrays(library=\"ak\", how=\"zip\")\n",
    "\n",
    "n_keep = 100000\n",
    "events = events[:n_keep] "
   ]
  },
  {
   "cell_type": "markdown",
   "metadata": {},
   "source": [
    "Relate reco particles with their MC info, to get the parent PDG ID (for truth-matching) and the production vertex (to calculate flight vectors for the $B$ and $\\tau$'s) "
   ]
  },
  {
   "cell_type": "code",
   "execution_count": 3,
   "metadata": {},
   "outputs": [],
   "source": [
    "events[\"RP\",\"pdg\"] = events[\"MC\",\"pdg\"][events[\"RP\",\"MC_parentindex\"]]\n",
    "#Get the production vertex of the track, smeared by 5%\n",
    "for v in [\"x\",\"y\",\"z\"]:\n",
    "    events[\"RP\",f\"vertex_{v}\"] = events[\"MC\",f\"vertex_{v}\"][events[\"RP\",\"MC_index\"]] \n",
    "#Separation of vertex from PV\n",
    "events[\"RP\",\"PVsep\"] = np.sqrt(events[\"RP\",f\"vertex_x\"]**2 + events[\"RP\",f\"vertex_y\"]**2 + events[\"RP\",f\"vertex_z\"]**2)"
   ]
  },
  {
   "cell_type": "code",
   "execution_count": 4,
   "metadata": {},
   "outputs": [],
   "source": [
    "rp = events[\"RP\"]\n",
    "\n",
    "#Pions\n",
    "pi_cut = abs(rp[\"mass\"] - lp.pi_plus.mass/1000.) < 1e-4\n",
    "pions = rp[pi_cut]\n",
    "p_cut = pions[\"p\"] > 1.\n",
    "pions = pions[p_cut]\n",
    "\n",
    "#Kaons\n",
    "k_cut = abs(rp[\"mass\"] - lp.K_plus.mass/1000.) < 1e-4\n",
    "kaons = rp[k_cut]\n",
    "p_cut = kaons[\"p\"] > 1.\n",
    "kaons = kaons[p_cut]"
   ]
  },
  {
   "cell_type": "markdown",
   "metadata": {},
   "source": [
    "Make $K^*$"
   ]
  },
  {
   "cell_type": "code",
   "execution_count": 5,
   "metadata": {},
   "outputs": [],
   "source": [
    "Kst = ak.cartesian({\"k\": kaons, \"pi\": pions})\n",
    "Kst_cut = np.sign(Kst[\"k\",\"charge\"]) != np.sign(Kst[\"pi\",\"charge\"])\n",
    "Kst = Kst[Kst_cut]\n",
    "\n",
    "PDG_K_m = lp.K_plus.mass/1000.\n",
    "PDG_pi_m = lp.pi_plus.mass/1000.\n",
    "Kst[\"mass\"] = kinematics_flat.mass([Kst[\"k\"], Kst[\"pi\"]], [PDG_K_m, PDG_pi_m])\n",
    "\n",
    "PDG_Kst_m = lp.Kst_892_0.mass/1000.\n",
    "Kst_window = 0.1\n",
    "Kst_cut = abs(Kst[\"mass\"] - PDG_Kst_m) < Kst_window\n",
    "Kst = Kst[Kst_cut]\n",
    "\n",
    "#Truth-matching\n",
    "Kst_parent_cut_pi = abs(Kst[\"pi\"][\"pdg\"]) == abs(lp.Kst_892_0.pdgid)\n",
    "Kst_parent_cut_k = abs(Kst[\"k\"][\"pdg\"]) == abs(lp.Kst_892_0.pdgid)\n",
    "Kst_parent_cut_all = np.logical_and(Kst_parent_cut_pi, Kst_parent_cut_k)\n",
    "Kst = Kst[Kst_parent_cut_all]\n",
    "#Ensure kaon and pion come from the same K*\n",
    "Kst_parent_cut_kpi = Kst[\"pi\",\"MC_parentindex\"] == Kst[\"k\",\"MC_parentindex\"]\n",
    "Kst = Kst[Kst_parent_cut_kpi]\n",
    "\n",
    "for comp in [\"x\",\"y\",\"z\"]:\n",
    "    Kst[f\"p{comp}\"] = Kst[\"k\",f\"p{comp}\"] + Kst[\"pi\",f\"p{comp}\"]\n",
    "Kst[\"p\"] = np.sqrt(Kst[\"px\"]**2 + Kst[\"py\"]**2 + Kst[\"pz\"]**2)\n",
    "Kst[\"e\"] = np.sqrt(Kst[\"p\"]**2 + Kst[\"mass\"]**2)"
   ]
  },
  {
   "cell_type": "markdown",
   "metadata": {},
   "source": [
    "Make $\\tau \\to 3\\pi$ "
   ]
  },
  {
   "cell_type": "code",
   "execution_count": 6,
   "metadata": {},
   "outputs": [],
   "source": [
    "tau = ak.combinations(pions,3)\n",
    "tau[\"pi_1\"], tau[\"pi_2\"], tau[\"pi_3\"] = ak.unzip(tau)\n",
    "\n",
    "#Charge cut on the pions\n",
    "tau_charge_cut_1 = np.sign(tau[\"pi_1\",\"charge\"]) != np.sign(tau[\"pi_3\",\"charge\"]) \n",
    "tau_charge_cut_2 = np.sign(tau[\"pi_2\",\"charge\"]) != np.sign(tau[\"pi_3\",\"charge\"])\n",
    "tau_charge_cut = np.logical_and(tau_charge_cut_1, tau_charge_cut_2)\n",
    "\n",
    "tau = tau[tau_charge_cut]\n",
    "\n",
    "PDG_pi_m = lp.pi_plus.mass/1000.\n",
    "tau[\"mass\"] = kinematics_flat.mass([tau[\"pi_1\"], tau[\"pi_2\"], tau[\"pi_3\"]], [PDG_pi_m, PDG_pi_m, PDG_pi_m])\n",
    "tau_m_low_cut_val = 3*PDG_pi_m\n",
    "tau_m_high_cut_val = lp.tau_plus.mass/1000.\n",
    "tau_m_low_cut = tau[\"mass\"] >= tau_m_low_cut_val\n",
    "tau_m_high_cut = tau[\"mass\"] <= lp.tau_plus.mass/1000.\n",
    "tau_m_cut = np.logical_and(tau_m_low_cut, tau_m_high_cut)\n",
    "tau = tau[tau_m_cut]\n",
    "\n",
    "#Truth-matching\n",
    "tau_parent_cut_pi1 = abs(tau[\"pi_1\"][\"pdg\"]) == abs(lp.tau_plus.pdgid)\n",
    "tau_parent_cut_pi2 = abs(tau[\"pi_2\"][\"pdg\"]) == abs(lp.tau_plus.pdgid) \n",
    "tau_parent_cut_pi3 = abs(tau[\"pi_3\"][\"pdg\"]) == abs(lp.tau_plus.pdgid)\n",
    "tau_parent_cut_12 = np.logical_and(tau_parent_cut_pi1, tau_parent_cut_pi2)\n",
    "tau_parent_cut_all = np.logical_and(tau_parent_cut_12, tau_parent_cut_pi3)\n",
    "tau = tau[tau_parent_cut_all]\n",
    "#Ensure pions come from the same tau\n",
    "tau_parent_cut_12 = tau[\"pi_1\",\"MC_parentindex\"] == tau[\"pi_2\",\"MC_parentindex\"]\n",
    "tau_parent_cut_13 = tau[\"pi_1\",\"MC_parentindex\"] == tau[\"pi_3\",\"MC_parentindex\"]\n",
    "tau_parent_cut = np.logical_and(tau_parent_cut_12, tau_parent_cut_13)\n",
    "tau = tau[tau_parent_cut]\n",
    "tau[\"charge\"] = tau[\"pi_1\",\"charge\"] + tau[\"pi_2\",\"charge\"] + tau[\"pi_3\",\"charge\"]"
   ]
  },
  {
   "cell_type": "markdown",
   "metadata": {},
   "source": [
    "Make combination of two $\\tau$ candidates"
   ]
  },
  {
   "cell_type": "code",
   "execution_count": 7,
   "metadata": {},
   "outputs": [],
   "source": [
    "tt = ak.combinations(tau,2)\n",
    "tt[\"tau_1\"], tt[\"tau_2\"] = ak.unzip(tt)\n",
    "tt_charge_cut = tt[\"tau_1\",\"charge\"] != tt[\"tau_2\",\"charge\"]\n",
    "tt = tt[tt_charge_cut]"
   ]
  },
  {
   "cell_type": "markdown",
   "metadata": {},
   "source": [
    "Combine $K^*$ and $\\tau\\tau$ to form a $B$ candidate"
   ]
  },
  {
   "cell_type": "code",
   "execution_count": 8,
   "metadata": {},
   "outputs": [],
   "source": [
    "B = ak.cartesian({\"Kst\": Kst, \"tt\": tt})\n",
    "\n",
    "B[\"mass\"] = kinematics_flat.mass([B[\"Kst\",\"k\"],\n",
    "                                  B[\"Kst\",\"pi\"],\n",
    "                                  B[\"tt\",\"tau_1\",\"pi_1\"],\n",
    "                                  B[\"tt\",\"tau_1\",\"pi_2\"],\n",
    "                                  B[\"tt\",\"tau_1\",\"pi_3\"],\n",
    "                                  B[\"tt\",\"tau_2\",\"pi_1\"],\n",
    "                                  B[\"tt\",\"tau_2\",\"pi_2\"],\n",
    "                                  B[\"tt\",\"tau_2\",\"pi_3\"]\n",
    "                                 ],\n",
    "                                 [PDG_K_m,\n",
    "                                  PDG_pi_m,\n",
    "                                  PDG_pi_m,\n",
    "                                  PDG_pi_m,\n",
    "                                  PDG_pi_m,\n",
    "                                  PDG_pi_m,\n",
    "                                  PDG_pi_m,\n",
    "                                  PDG_pi_m\n",
    "                                 ])\n",
    "\n",
    "B_M_cut = B[\"mass\"] < lp.B_0.mass/1000.\n",
    "B = B[B_M_cut]                       "
   ]
  },
  {
   "cell_type": "markdown",
   "metadata": {},
   "source": [
    "Flight components for the $B$ and the two $\\tau$ candidates"
   ]
  },
  {
   "cell_type": "code",
   "execution_count": 9,
   "metadata": {},
   "outputs": [],
   "source": [
    "for v in [\"x\",\"y\",\"z\"]:\n",
    "    #B flight based on end vertex of the K*, assuming PV is at origin\n",
    "    B[f\"FD_{v}\"] = B[\"Kst\",\"k\",f\"vertex_{v}\"]\n",
    "    #Tau flight from difference between tau decay vertex and B\n",
    "    for tau in [\"1\",\"2\"]:\n",
    "        B[\"tt\",f\"tau_{tau}\",f\"FD_{v}\"] = B[\"tt\",f\"tau_{tau}\",\"pi_1\",f\"vertex_{v}\"] - B[f\"FD_{v}\"]\n",
    "B[\"FD\"] = np.sqrt(B[\"FD_x\"]**2 + B[\"FD_y\"]**2 + B[\"FD_z\"]**2)\n",
    "for tau in [\"1\",\"2\"]:\n",
    "    B[\"tt\",f\"tau_{tau}\",\"FD\"] = np.sqrt(B[\"tt\",f\"tau_{tau}\",\"FD_x\"]**2 + B[\"tt\",f\"tau_{tau}\",\"FD_y\"]**2 + B[\"tt\",f\"tau_{tau}\",\"FD_z\"]**2)\n",
    "    "
   ]
  },
  {
   "cell_type": "markdown",
   "metadata": {},
   "source": [
    "$3\\pi$ momentum components"
   ]
  },
  {
   "cell_type": "code",
   "execution_count": 10,
   "metadata": {},
   "outputs": [],
   "source": [
    "for tau in [\"1\",\"2\"]:\n",
    "    for comp in [\"x\",\"y\",\"z\"]:\n",
    "        B[\"tt\",f\"tau_{tau}\",f\"p{comp}\"] = B[\"tt\",f\"tau_{tau}\",\"pi_1\",f\"p{comp}\"] + B[\"tt\",f\"tau_{tau}\",\"pi_2\",f\"p{comp}\"] + B[\"tt\",f\"tau_{tau}\",\"pi_3\",f\"p{comp}\"]\n",
    "    B[\"tt\",f\"tau_{tau}\",\"p\"] = np.sqrt(B[\"tt\",f\"tau_{tau}\",\"px\"]**2 + B[\"tt\",f\"tau_{tau}\",\"py\"]**2 + B[\"tt\",f\"tau_{tau}\",\"pz\"]**2)\n",
    "    B[\"tt\",f\"tau_{tau}\",\"e\"] = np.sqrt(B[\"tt\",f\"tau_{tau}\",\"p\"]**2 + B[\"tt\",f\"tau_{tau}\",\"mass\"]**2)\n",
    "        "
   ]
  },
  {
   "cell_type": "markdown",
   "metadata": {},
   "source": [
    "Angle between $\\tau$ flight vectors and the $3\\pi$ momenta"
   ]
  },
  {
   "cell_type": "code",
   "execution_count": 11,
   "metadata": {},
   "outputs": [],
   "source": [
    "for tau in [\"1\",\"2\"]:\n",
    "    B[\"tt\",f\"tau_{tau}\",\"costheta\"] = (B[\"tt\",f\"tau_{tau}\",\"px\"]*B[\"tt\",f\"tau_{tau}\",\"FD_x\"] + B[\"tt\",f\"tau_{tau}\",\"py\"]*B[\"tt\",f\"tau_{tau}\",\"FD_y\"] + B[\"tt\",f\"tau_{tau}\",\"pz\"]*B[\"tt\",f\"tau_{tau}\",\"FD_z\"])/(B[\"tt\",f\"tau_{tau}\",\"p\"]*B[\"tt\",f\"tau_{tau}\",\"FD\"])\n",
    "    B[\"tt\",f\"tau_{tau}\",\"theta\"] = np.arccos(B[\"tt\",f\"tau_{tau}\",\"costheta\"])"
   ]
  },
  {
   "cell_type": "markdown",
   "metadata": {},
   "source": [
    "$\\tau$ momentum solutions using this angle"
   ]
  },
  {
   "cell_type": "code",
   "execution_count": 12,
   "metadata": {},
   "outputs": [
    {
     "name": "stderr",
     "output_type": "stream",
     "text": [
      "/eos/user/d/dhill/.local/lib/python3.7/site-packages/awkward1/_connect/_numpy.py:101: RuntimeWarning: invalid value encountered in sqrt\n",
      "  *[nplike.asarray(x) for x in inputs], **kwargs\n"
     ]
    }
   ],
   "source": [
    "PDG_tau_m = lp.tau_plus.mass/1000.\n",
    "for tau in [\"1\",\"2\"]:\n",
    "    B[\"tt\",f\"tau_{tau}\",\"quad\"] = B[\"tt\",f\"tau_{tau}\",\"e\"]*np.sqrt((PDG_tau_m**2 - B[\"tt\",f\"tau_{tau}\",\"mass\"]**2)**2 - 4*PDG_tau_m**2*B[\"tt\",f\"tau_{tau}\",\"p\"]**2*(np.sin(B[\"tt\",f\"tau_{tau}\",\"theta\"]))**2)\n",
    "    B[\"tt\",f\"tau_{tau}\",\"p_reco_plus\"] = ((B[\"tt\",f\"tau_{tau}\",\"mass\"]**2 + PDG_tau_m**2)*B[\"tt\",f\"tau_{tau}\",\"p\"]*np.cos(B[\"tt\",f\"tau_{tau}\",\"theta\"]) + B[\"tt\",f\"tau_{tau}\",\"quad\"])/(2.*(B[\"tt\",f\"tau_{tau}\",\"e\"]**2 - B[\"tt\",f\"tau_{tau}\",\"p\"]**2*(np.cos(B[\"tt\",f\"tau_{tau}\",\"theta\"]))**2))     \n",
    "    B[\"tt\",f\"tau_{tau}\",\"p_reco_minus\"] = ((B[\"tt\",f\"tau_{tau}\",\"mass\"]**2 + PDG_tau_m**2)*B[\"tt\",f\"tau_{tau}\",\"p\"]*np.cos(B[\"tt\",f\"tau_{tau}\",\"theta\"]) - B[\"tt\",f\"tau_{tau}\",\"quad\"])/(2.*(B[\"tt\",f\"tau_{tau}\",\"e\"]**2 - B[\"tt\",f\"tau_{tau}\",\"p\"]**2*(np.cos(B[\"tt\",f\"tau_{tau}\",\"theta\"]))**2))     \n",
    "    B[\"tt\",f\"tau_{tau}\",\"e_reco_plus\"] = np.sqrt(B[\"tt\",f\"tau_{tau}\",\"p_reco_plus\"]**2 + PDG_tau_m**2)\n",
    "    B[\"tt\",f\"tau_{tau}\",\"e_reco_minus\"] = np.sqrt(B[\"tt\",f\"tau_{tau}\",\"p_reco_minus\"]**2 + PDG_tau_m**2)"
   ]
  },
  {
   "cell_type": "markdown",
   "metadata": {},
   "source": [
    "Resolve momentum components using $\\tau$ flight"
   ]
  },
  {
   "cell_type": "code",
   "execution_count": 13,
   "metadata": {},
   "outputs": [],
   "source": [
    "for tau in [\"1\",\"2\"]:\n",
    "    for sol in [\"plus\",\"minus\"]:\n",
    "        for comp in [\"x\",\"y\",\"z\"]:\n",
    "            B[\"tt\",f\"tau_{tau}\",f\"p{comp}_reco_{sol}\"] = B[\"tt\",f\"tau_{tau}\",f\"p_reco_{sol}\"] * (B[\"tt\",f\"tau_{tau}\",f\"FD_{comp}\"]/B[\"tt\",f\"tau_{tau}\",\"FD\"])\n"
   ]
  },
  {
   "cell_type": "markdown",
   "metadata": {},
   "source": [
    "$B$ solutions - 4 in total due to two $\\tau$'s"
   ]
  },
  {
   "cell_type": "code",
   "execution_count": 14,
   "metadata": {},
   "outputs": [],
   "source": [
    "for sol1 in [\"plus\",\"minus\"]:\n",
    "    for sol2 in [\"plus\",\"minus\"]:\n",
    "        for comp in [\"px\",\"py\",\"pz\",\"e\"]:\n",
    "            B[f\"{comp}_reco_{sol1}_{sol2}\"] = B[\"Kst\",comp] + B[\"tt\",\"tau_1\",f\"{comp}_reco_{sol1}\"] + B[\"tt\",\"tau_2\",f\"{comp}_reco_{sol2}\"]\n",
    "        B[f\"p_reco_{sol1}_{sol2}\"] = np.sqrt(B[f\"px_reco_{sol1}_{sol2}\"]**2 + B[f\"py_reco_{sol1}_{sol2}\"]**2 + B[f\"pz_reco_{sol1}_{sol2}\"]**2)\n",
    "        B[f\"mass_reco_{sol1}_{sol2}\"] = np.sqrt(B[f\"e_reco_{sol1}_{sol2}\"]**2 - B[f\"p_reco_{sol1}_{sol2}\"]**2)\n"
   ]
  },
  {
   "cell_type": "markdown",
   "metadata": {},
   "source": [
    "Calculate angle between the $B$ momentum solution and the $B$ flight"
   ]
  },
  {
   "cell_type": "code",
   "execution_count": 15,
   "metadata": {},
   "outputs": [
    {
     "name": "stderr",
     "output_type": "stream",
     "text": [
      "/eos/user/d/dhill/.local/lib/python3.7/site-packages/awkward1/_connect/_numpy.py:101: RuntimeWarning: invalid value encountered in arccos\n",
      "  *[nplike.asarray(x) for x in inputs], **kwargs\n"
     ]
    }
   ],
   "source": [
    "for sol1 in [\"plus\",\"minus\"]:\n",
    "    for sol2 in [\"plus\",\"minus\"]:\n",
    "        B[f\"costheta_{sol1}_{sol2}\"] = (B[f\"px_reco_{sol1}_{sol2}\"]*B[\"FD_x\"] + B[f\"py_reco_{sol1}_{sol2}\"]*B[\"FD_y\"] + B[f\"pz_reco_{sol1}_{sol2}\"]*B[\"FD_z\"])/(B[f\"p_reco_{sol1}_{sol2}\"]*B[\"FD\"])\n",
    "        B[f\"theta_{sol1}_{sol2}\"] = np.arccos(B[f\"costheta_{sol1}_{sol2}\"])"
   ]
  },
  {
   "cell_type": "markdown",
   "metadata": {},
   "source": [
    "Loop over $B$ candidates, and find minimum angle for each one. Take the corresponding mass solution"
   ]
  },
  {
   "cell_type": "code",
   "execution_count": 16,
   "metadata": {},
   "outputs": [],
   "source": [
    "mass_reco_best = []\n",
    "\n",
    "#Loop over events\n",
    "for i in range(0,len(B)):\n",
    "    #Loop over B candidates in the event\n",
    "    for j in range(0,len(B[i])):\n",
    "        #Check if valid angle exists for the B candidate\n",
    "        if(B[\"theta_plus_plus\"][i][j] and not np.isnan(B[\"theta_plus_plus\"][i][j])):\n",
    "            \n",
    "            min_angle = np.pi\n",
    "            best_sol = \"\"\n",
    "            for sol1 in [\"plus\",\"minus\"]:\n",
    "                for sol2 in [\"plus\",\"minus\"]:\n",
    "                    if(B[f\"theta_{sol1}_{sol2}\"][i][j] < min_angle):\n",
    "                        min_angle = B[f\"theta_{sol1}_{sol2}\"][i][j]\n",
    "                        best_sol = f\"{sol1}_{sol2}\"\n",
    "            mass_reco_best.append(B[f\"mass_reco_{best_sol}\"][i][j])"
   ]
  },
  {
   "cell_type": "markdown",
   "metadata": {},
   "source": [
    "Fit the $B$ peak with zfit"
   ]
  },
  {
   "cell_type": "code",
   "execution_count": 18,
   "metadata": {},
   "outputs": [],
   "source": [
    "low = 5.2\n",
    "high = 5.35\n",
    "obs = zfit.Space('mB', limits=(low, high))\n",
    "\n",
    "#PDF\n",
    "rand = random.randint(0,999)\n",
    "mu = zfit.Parameter(f\"mu_{rand}\", lp.B_0.mass/100., low, high)\n",
    "sigma = zfit.Parameter(f\"sigma_{rand}\", 0.04, 0., 0.1)\n",
    "alphaL = zfit.Parameter(f\"alphaL_{rand}\", 0.2, 0., 5.)\n",
    "nL = zfit.Parameter(f\"nL_{rand}\", 10., 0., 200.)\n",
    "alphaR = zfit.Parameter(f\"alphaR_{rand}\", -0.2, -5., 0.)\n",
    "nR = zfit.Parameter(f\"nR_{rand}\", 10., 0., 200.)\n",
    "frac = zfit.Parameter(f\"frac_{rand}\", 0.5, 0., 1.)\n",
    "\n",
    "pdf_sigL = zfit.pdf.CrystalBall(obs=obs, mu=mu, sigma=sigma, alpha=alphaL, n=nL)\n",
    "pdf_sigR = zfit.pdf.CrystalBall(obs=obs, mu=mu, sigma=sigma, alpha=alphaR, n=nR)\n",
    "pdf = zfit.pdf.SumPDF([pdf_sigL, pdf_sigR], frac)"
   ]
  },
  {
   "cell_type": "code",
   "execution_count": 19,
   "metadata": {},
   "outputs": [],
   "source": [
    "data_np = ak.to_numpy(mass_reco_best)\n",
    "data_low_cut = data_np >= low\n",
    "data_high_cut = data_np <= high\n",
    "data_cut = np.logical_and(data_low_cut, data_high_cut)\n",
    "data_np = data_np[data_cut]\n",
    "data = zfit.Data.from_numpy(obs=obs, array=data_np)"
   ]
  },
  {
   "cell_type": "code",
   "execution_count": 20,
   "metadata": {},
   "outputs": [
    {
     "name": "stdout",
     "output_type": "stream",
     "text": [
      "┌──────────────────────────────────┬──────────────────────────────────────┐\n",
      "│ FCN = -4310                      │       Ncalls = 913 (913 total)       │\n",
      "│ EDM = 0.000101 (Goal: 0.001)     │               up = 0.5               │\n",
      "├───────────────┬──────────────────┼──────────────────────────────────────┤\n",
      "│ Valid Minimum │ Valid Parameters │       SOME Parameters at limit       │\n",
      "├───────────────┴──────────────────┼──────────────────────────────────────┤\n",
      "│ Below EDM threshold (goal x 10)  │           Below call limit           │\n",
      "├───────────────┬──────────────────┼───────────┬─────────────┬────────────┤\n",
      "│   Hesse ok    │  Has Covariance  │ Accurate  │  Pos. def.  │ Not forced │\n",
      "└───────────────┴──────────────────┴───────────┴─────────────┴────────────┘\n",
      "Fit function minimum: -4310.434396904182\n",
      "Fit converged: True\n",
      "Fit full minimizer information: {'n_eval': 913, 'n_iter': 913, 'original': FMin(fval=-4310.434396904182, edm=0.00010112145417146988, tolerance=1.0, nfcn=913, ncalls=913, up=0.5, is_valid=True, has_valid_parameters=True, has_accurate_covar=True, has_posdef_covar=True, has_made_posdef_covar=False, hesse_failed=False, has_covariance=True, is_above_max_edm=False, has_reached_call_limit=False, has_parameters_at_limit=True)}\n",
      "name           value    minuit_hesse    at limit\n",
      "----------  --------  --------------  ----------\n",
      "frac_899      0.5402     +/-    0.06       False\n",
      "alphaL_899     0.525     +/-    0.11       False\n",
      "mu_899         5.279     +/- 0.00032       False\n",
      "nL_899         3.985     +/-     1.3       False\n",
      "sigma_899   0.004754     +/- 0.00042       False\n",
      "alphaR_899   -0.3198     +/-   0.087       False\n",
      "nR_899         19.49     +/-      48       False\n"
     ]
    }
   ],
   "source": [
    "nll = zfit.loss.UnbinnedNLL(model=pdf, data=data)\n",
    "minimizer = zfit.minimize.Minuit()\n",
    "result = minimizer.minimize(nll)\n",
    "param_errors = result.hesse()\n",
    "\n",
    "print(\"Fit function minimum:\", result.fmin)\n",
    "print(\"Fit converged:\", result.converged)\n",
    "print(\"Fit full minimizer information:\", result.info)\n",
    "\n",
    "params = result.params\n",
    "print(params)"
   ]
  },
  {
   "cell_type": "code",
   "execution_count": 21,
   "metadata": {},
   "outputs": [
    {
     "name": "stderr",
     "output_type": "stream",
     "text": [
      "/usr/local/bin/start_ipykernel.py:12: UserWarning: The function <function Space.area at 0x7f776969ad40> may does not return the actual area/limits but rather the rectangular limits. <zfit Space obs=('mB',), axes=None, limits=(array([[5.2]]), array([[5.35]]))> can also have functional limits that are arbitrarily defined and lay inside the rect_limits. To test if a value is inside, use `inside` or `filter`.\n"
     ]
    },
    {
     "data": {
      "image/png": "[encoded data removed]",
      "text/plain": [
       "<Figure size 864x576 with 1 Axes>"
      ]
     },
     "metadata": {
      "needs_background": "light"
     },
     "output_type": "display_data"
    }
   ],
   "source": [
    "fig, ax = plt.subplots(figsize=(12,8))\n",
    "n = len(data_np)\n",
    "bins = 2*int(np.sqrt(n))\n",
    "bin_w = (high - low)/bins\n",
    "units = \"GeV/$c^2$\"\n",
    "counts, bin_edges = np.histogram(data_np, bins, range=(low,high))\n",
    "bin_centres = (bin_edges[:-1] + bin_edges[1:])/2.\n",
    "err = np.sqrt(counts)\n",
    "plt.errorbar(bin_centres, counts, yerr=err, fmt='o', color='k')\n",
    "x_plot = np.linspace(low, high, num=1000)\n",
    "y_plot_tot = zfit.run(pdf.pdf(x_plot, norm_range=obs))\n",
    "plt.plot(x_plot, y_plot_tot*len(data_np)/bins*obs.area(), color='navy', linewidth=2.5, alpha=0.6)\n",
    "ax.tick_params(axis='both', which='major', labelsize=25)\n",
    "plt.ylabel(\"Candidates / (%.3f GeV/$c^2$)\" % bin_w,fontsize=25)\n",
    "plt.xlabel(\"$m(K^* [3\\pi]_\\\\tau [3\\pi]_\\\\tau)$ [GeV/$c^2$]\",fontsize=25)\n",
    "plt.xlim(low,high)\n",
    "ymin, ymax = plt.ylim()\n",
    "plt.ylim(0,1.05*ymax)\n",
    "plt.text(5.3,0.9*ymax,\"\\\\textbf{FCC-ee}\",fontsize=20)\n",
    "plt.text(5.3,0.82*ymax,\"$Z^0 \\\\to b\\\\bar{b}$ sim.\",fontsize=20)\n",
    "plt.text(5.3,0.76*ymax,\"$B^0 \\\\to K^{*0} \\\\tau^+ \\\\tau^-$ excl.\",fontsize=20)\n",
    "plt.text(5.21,0.82*ymax,\"\\\\textbf{TRUE DECAY VERTICES USED}\",fontsize=18)\n",
    "sigma_val = 1000.*params[sigma]['value']\n",
    "plt.text(5.21,0.7*ymax,\"Core $\\\\sigma = %.1f$ MeV/$c^2$\" % sigma_val,fontsize=25)\n",
    "plt.tight_layout()\n",
    "fig.savefig(loc.PLOTS+f\"/{mode}_B_M_reco_fit.pdf\")"
   ]
  },
  {
   "cell_type": "markdown",
   "metadata": {},
   "source": [
    "Plot the $B$ flight distance from the PV "
   ]
  },
  {
   "cell_type": "code",
   "execution_count": 25,
   "metadata": {},
   "outputs": [
    {
     "data": {
      "image/png": "[encoded data removed]",
      "text/plain": [
       "<Figure size 576x576 with 1 Axes>"
      ]
     },
     "metadata": {
      "needs_background": "light"
     },
     "output_type": "display_data"
    }
   ],
   "source": [
    "plotting.errorbar_hist(B,\"FD\",f\"{mode}_B\",\"$B$ flight distance\",\"mm\",0.,8.,50)"
   ]
  },
  {
   "cell_type": "code",
   "execution_count": null,
   "metadata": {},
   "outputs": [],
   "source": []
  }
 ],
 "metadata": {
  "kernelspec": {
   "display_name": "Python 3",
   "language": "python",
   "name": "python3"
  },
  "language_info": {
   "codemirror_mode": {
    "name": "ipython",
    "version": 3
   },
   "file_extension": ".py",
   "mimetype": "text/x-python",
   "name": "python",
   "nbconvert_exporter": "python",
   "pygments_lexer": "ipython3",
   "version": "3.7.6"
  }
 },
 "nbformat": 4,
 "nbformat_minor": 4
}

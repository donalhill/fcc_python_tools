{
 "cells": [
  {
   "cell_type": "markdown",
   "metadata": {},
   "source": [
    "# Accessing generated particles to calculate production fractions\n",
    "\n",
    "In this example, we access the container of generated particles (`genParticles`) and count the number of different $B$-hadron species produced in the $Z^0 \\to b\\bar{b}$ hadronisation."
   ]
  },
  {
   "cell_type": "code",
   "execution_count": 1,
   "metadata": {},
   "outputs": [],
   "source": [
    "import uproot4 as uproot\n",
    "import awkward1 as ak\n",
    "import sys,os\n",
    "import json\n",
    "import numpy as np\n",
    "from fcc_python_tools.locations import loc\n",
    "from particle import literals as lp"
   ]
  },
  {
   "cell_type": "markdown",
   "metadata": {},
   "source": [
    "Let's load the `ROOT` file with `uproot` and access the `events` tree:"
   ]
  },
  {
   "cell_type": "code",
   "execution_count": 2,
   "metadata": {},
   "outputs": [],
   "source": [
    "#file = uproot.open(\"/eos/experiment/fcc/ee/tmp/fcc_python_tools/FCCDelphesOutput_10k.root\")\n",
    "file = uproot.open(\"/eos/experiment/fcc/ee/tmp/FCCDelphesOutput_Bu2D0Pi_qq.root\")\n",
    "tree = file['events']"
   ]
  },
  {
   "cell_type": "markdown",
   "metadata": {},
   "source": [
    "Next we load the `genParticles` container into an `awkward array`, using the wildcard `*` to load all branches."
   ]
  },
  {
   "cell_type": "code",
   "execution_count": 3,
   "metadata": {},
   "outputs": [],
   "source": [
    "gen_container = \"genParticles.core\"\n",
    "gen = tree.arrays(filter_name=f\"{gen_container}*\",how=\"zip\")"
   ]
  },
  {
   "cell_type": "markdown",
   "metadata": {},
   "source": [
    "There is a useful package called [particle](https://github.com/scikit-hep/particle) which contains information on PDG particles. We use it here to access the PDG IDs of various $B$-hadrons, and check which particles in our sample have that PDG ID. \n",
    "\n",
    "We access the values through the `literals` module of `particle`, which provides shortcuts to lots of common particles. So doing `lp.B_0.pdgid` gives us the PDG ID of the $B^0$ meson. A full list of these literals can be found [here](https://github.com/scikit-hep/particle/blob/master/src/particle/shared_literals.py).\n",
    "\n",
    "Here we loop over some different $B$-hadrons, defined in the `b_types` dictionary. This dictionary contains the literal for a given $B$-hadron from the `particle` package, and also a LaTeX name we'll use later."
   ]
  },
  {
   "cell_type": "code",
   "execution_count": 4,
   "metadata": {},
   "outputs": [
    {
     "name": "stdout",
     "output_type": "stream",
     "text": [
      "{'Bd': 1058, 'Bu': 859, 'Bs': 349, 'Bc': 3, 'Lb': 70}\n"
     ]
    }
   ],
   "source": [
    "b_types = {\"Bd\": [lp.B_0,\"$B^0$\"], \n",
    "           \"Bu\": [lp.B_plus,\"$B^\\pm$\"], \n",
    "           \"Bs\": [lp.B_s_0,\"$B_s^0$\"], \n",
    "           \"Bc\": [lp.B_c_plus,\"$B_c^\\pm$\"],\n",
    "           \"Lb\": [lp.Lambda_b_0,\"$\\\\Lambda_b^0$\"],\n",
    "          }\n",
    "n = {}\n",
    "for b in b_types:\n",
    "    b_cut = abs(gen[gen_container,\"pdgId\"]) == abs(b_types[b][0].pdgid)\n",
    "    n[b] = ak.sum(ak.flatten(b_cut))\n",
    "print(n)"
   ]
  },
  {
   "cell_type": "markdown",
   "metadata": {},
   "source": [
    "Here we have used `ak.flatten()` to turn the jagged array (more than one particle per event) into a flat array. We then use the `ak.sum()` function to count the total number of each $B$-hadron species across all events.\n",
    "\n",
    "We want to know what fraction of the $b$-quarks hadronise to each of the $B$-hadrons. To calculate this, we need the total number of $b$-quarks produced. This one is easy: since we are dealing with $Z^0 \\to b\\bar{b}$, every event contains 2 $b$-quarks. So the total number of $b$-quarks is just twice the total number of events in our `ROOT` file. "
   ]
  },
  {
   "cell_type": "code",
   "execution_count": 5,
   "metadata": {},
   "outputs": [],
   "source": [
    "n_bbbar = 2*tree.num_entries"
   ]
  },
  {
   "cell_type": "markdown",
   "metadata": {},
   "source": [
    "Let's calculate the production fraction for each $B$-hadron:"
   ]
  },
  {
   "cell_type": "code",
   "execution_count": 6,
   "metadata": {},
   "outputs": [
    {
     "name": "stdout",
     "output_type": "stream",
     "text": [
      "{'Bd': 52.900000000000006, 'Bu': 42.95, 'Bs': 17.45, 'Bc': 0.15, 'Lb': 3.5000000000000004}\n"
     ]
    }
   ],
   "source": [
    "prod_frac = {}\n",
    "for b in b_types:\n",
    "    prod_frac[b] = 100*(n[b] / n_bbbar)\n",
    "print(prod_frac)"
   ]
  },
  {
   "cell_type": "markdown",
   "metadata": {},
   "source": [
    "## Persisting the results\n",
    "\n",
    "We can store these values in a dictionary and write it to a `.json` file. `JSON` format is great whenever you need to re-load some analysis numbers you have calculated within another script - it is an important form of analysis persistence."
   ]
  },
  {
   "cell_type": "code",
   "execution_count": 7,
   "metadata": {},
   "outputs": [],
   "source": [
    "with open(f'{loc.JSON}/b_hadron_prod_fracs.json', 'w') as f:\n",
    "    json.dump(prod_frac, f, sort_keys=True, indent=4)"
   ]
  },
  {
   "cell_type": "markdown",
   "metadata": {},
   "source": [
    "Let's finish off by making a LaTeX summary table of our production fractions. We can write this to a `.tex` file which we can then put into some documentation or Beamer slides."
   ]
  },
  {
   "cell_type": "code",
   "execution_count": 8,
   "metadata": {},
   "outputs": [],
   "source": [
    "f_tex = open(f'{loc.TABLES}/b_hadron_prod_fracs.tex','w')\n",
    "f_tex.write('\\\\begin{table}[!h] \\n')\n",
    "f_tex.write('\\\\centering \\n')\n",
    "f_tex.write('\\\\begin{tabular}{l c} \\n')\n",
    "f_tex.write('$B$-hadron & Production fraction (\\%) \\\\\\\\ \\\\hline \\n')\n",
    "for b in b_types:\n",
    "    f_tex.write(f'{b_types[b][1]} & {prod_frac[b]:.2f} \\\\\\\\ \\n')\n",
    "f_tex.write('\\\\end{tabular} \\n')\n",
    "f_tex.write('\\\\caption{$B$-hadron production fractions in $Z^0 \\\\to b\\\\bar{b}$ simulation. \\\\label{tab:b_hadron_prod_fracs}} \\n')\n",
    "f_tex.write('\\\\end{table}')\n",
    "f_tex.close()"
   ]
  },
  {
   "cell_type": "markdown",
   "metadata": {},
   "source": [
    "Note the use of double backslash (`\\\\`) here, which is required in order for the `write()` command to interpret the backslash properly and print it. The use of `\\n` is different, as this is the command to print on a new line next time `write()` is called. "
   ]
  }
 ],
 "metadata": {
  "kernelspec": {
   "display_name": "Python 3",
   "language": "python",
   "name": "python3"
  },
  "language_info": {
   "codemirror_mode": {
    "name": "ipython",
    "version": 3
   },
   "file_extension": ".py",
   "mimetype": "text/x-python",
   "name": "python",
   "nbconvert_exporter": "python",
   "pygments_lexer": "ipython3",
   "version": "3.7.6"
  }
 },
 "nbformat": 4,
 "nbformat_minor": 4
}

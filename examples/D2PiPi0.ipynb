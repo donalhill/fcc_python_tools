{
 "cells": [
  {
   "cell_type": "code",
   "execution_count": null,
   "metadata": {},
   "outputs": [],
   "source": [
    "import sys,os\n",
    "import uproot4 as uproot\n",
    "import awkward1 as ak\n",
    "import json\n",
    "import numpy as np\n",
    "import matplotlib.pyplot as plt\n",
    "from fcc_python_tools.locations import loc\n",
    "from fcc_python_tools import kinematics\n",
    "from particle import literals as lp\n",
    "from fcc_python_tools import plotting\n",
    "import tensorflow as tf\n",
    "import zfit\n",
    "import random\n",
    "\n",
    "from matplotlib import rc\n",
    "rc('font',**{'family':'serif','serif':['Roman']})\n",
    "rc('text', usetex=True)\n",
    "\n",
    "file_type = \"p8_ee_Zcc_ecm91_EvtGen_D2PiPi0\"\n",
    "\n",
    "#Load 1 sub-file of 100k events\n",
    "file = uproot.open(f\"/eos/experiment/fcc/ee/generation/DelphesEvents/fcc_tmp/{file_type}/events_163459820.root\")\n",
    "tree = file['events']\n",
    "\n",
    "#Get all the variables in the tree\n",
    "vars = tree.keys()\n",
    "\n",
    "#Loacation of the reco particles\n",
    "r_container = \"ReconstructedParticles\"\n",
    "r_c = f'{r_container}/{r_container}'\n",
    "\n",
    "#Keep the variables that aren't covMatrix\n",
    "keep_vars = []\n",
    "for v in vars:\n",
    "    if(\"covMatrix\" not in v and r_c in v):\n",
    "        keep_vars.append(v)\n",
    "\n",
    "n_keep = 10000\n",
    "\n",
    "r = tree.arrays(keep_vars,how=\"zip\")[:n_keep]"
   ]
  },
  {
   "cell_type": "code",
   "execution_count": null,
   "metadata": {},
   "outputs": [],
   "source": [
    "r[r_c,'p'] = kinematics.calc_p(r,r_c)\n",
    "p_cut = r[r_c,\"p\"] > 0.\n",
    "r = r[p_cut]\n",
    "\n",
    "#Pions\n",
    "pi_cut = abs(r[r_c,\"mass\"] - lp.pi_plus.mass/1000.) < 1e-4\n",
    "r[\"pi\"] = r[r_c][pi_cut]\n",
    "\n",
    "#Pi0s\n",
    "pi0_cut = abs(r[r_c,\"mass\"] - lp.pi_0.mass/1000.) < 1e-4\n",
    "r[\"pi0\"] = r[r_c][pi0_cut]"
   ]
  },
  {
   "cell_type": "code",
   "execution_count": null,
   "metadata": {},
   "outputs": [],
   "source": [
    "D = ak.cartesian({\"pi\": r[\"pi\"], \"pi0\": r[\"pi0\"]})\n",
    "\n",
    "PDG_pi_m = lp.pi_plus.mass/1000.\n",
    "PDG_pi0_m = lp.pi_0.mass/1000.\n",
    "mass = kinematics.mass([D[\"pi\"], D[\"pi0\"]], [PDG_pi_m, PDG_pi0_m])"
   ]
  },
  {
   "cell_type": "code",
   "execution_count": null,
   "metadata": {},
   "outputs": [],
   "source": [
    "PDG_D_m = lp.D_plus.mass/1000.\n",
    "window = 0.6\n",
    "mass_cut = abs(mass - PDG_D_m) < window\n",
    "mass = mass[mass_cut]"
   ]
  },
  {
   "cell_type": "code",
   "execution_count": null,
   "metadata": {},
   "outputs": [],
   "source": [
    "low = PDG_D_m - window\n",
    "high = PDG_D_m + window\n",
    "obs = zfit.Space('mD', limits=(low, high))\n",
    "\n",
    "#Signal PDF\n",
    "rand = random.randint(0,9999)\n",
    "mu = zfit.Parameter(f\"mu_{rand}\", 1.86, low, high)\n",
    "sigmaL = zfit.Parameter(f\"sigmaL_{rand}\", 0.03, 0., 0.5)\n",
    "sigmaR = zfit.Parameter(f\"sigmaR_{rand}\", 0.05, 0., 0.5)\n",
    "alphaL = zfit.Parameter(f\"alphaL_{rand}\", 1., 0., 5.)\n",
    "nL = zfit.Parameter(f\"nL_{rand}\", 100., 0., 200.)\n",
    "alphaR = zfit.Parameter(f\"alphaR_{rand}\", -1., -5., 0.)\n",
    "nR = zfit.Parameter(f\"nR_{rand}\", 100., 0., 200.)\n",
    "frac = zfit.Parameter(f\"frac_{rand}\", 0.4, 0., 1.)\n",
    "\n",
    "pdf_sigL = zfit.pdf.CrystalBall(obs=obs, mu=mu, sigma=sigmaL, alpha=alphaL, n=nL)\n",
    "pdf_sigR = zfit.pdf.CrystalBall(obs=obs, mu=mu, sigma=sigmaR, alpha=alphaR, n=nR)\n",
    "pdf = zfit.pdf.SumPDF([pdf_sigL, pdf_sigR], frac)"
   ]
  },
  {
   "cell_type": "code",
   "execution_count": null,
   "metadata": {},
   "outputs": [],
   "source": [
    "data_np = ak.to_numpy(ak.flatten(mass))[0:10000]\n",
    "data = zfit.Data.from_numpy(obs=obs, array=data_np)"
   ]
  },
  {
   "cell_type": "code",
   "execution_count": null,
   "metadata": {},
   "outputs": [],
   "source": [
    "nll = zfit.loss.UnbinnedNLL(model=pdf, data=data)\n",
    "minimizer = zfit.minimize.Minuit(tolerance=1e-5)\n",
    "result = minimizer.minimize(nll)\n",
    "param_errors, _ = result.errors(method=\"minuit_minos\")\n",
    "\n",
    "print(\"m(D) fit function minimum:\", result.fmin)\n",
    "print(\"m(D) fit converged:\", result.converged)\n",
    "print(\"m(D) fit full minimizer information:\", result.info)\n",
    "\n",
    "params = result.params\n",
    "print(params)"
   ]
  },
  {
   "cell_type": "code",
   "execution_count": null,
   "metadata": {},
   "outputs": [],
   "source": [
    "fig,ax = plt.subplots(figsize=(10,8))\n",
    "lower, upper = obs.limits\n",
    "low = lower[-1][0]\n",
    "high = upper[0][0]\n",
    "bin_width = 0.01\n",
    "bins = int(float(high - low)/bin_width)\n",
    "counts, bin_edges = np.histogram(data_np, bins, range=(low,high))\n",
    "bin_centres = (bin_edges[:-1] + bin_edges[1:])/2.\n",
    "err = np.sqrt(counts)\n",
    "plt.errorbar(bin_centres, counts, yerr=err, fmt='o', markersize=3, color='black')\n",
    "x_plot = np.linspace(low, high, num=1000)\n",
    "y_plot_tot = zfit.run(pdf.pdf(x_plot, norm_range=obs))\n",
    "plt.plot(x_plot, y_plot_tot*len(data_np)/bins*obs.area(), color='navy', linewidth=2.5, alpha=0.6)\n",
    "ax.tick_params(axis='both', which='major', labelsize=25)\n",
    "plt.ylabel(\"Candidates / (%.3f GeV/$c^2$)\" % bin_width,fontsize=25)\n",
    "plt.xlabel(\"$m(\\pi^\\pm \\pi^0)$ [GeV/$c^2$]\",fontsize=25)\n",
    "plt.xlim(low,high)\n",
    "ymin, ymax = plt.ylim()\n",
    "plt.ylim(0,1.05*ymax)\n",
    "plt.text(2.,0.9*ymax,\"\\\\textbf{FCC-ee}\",fontsize=20)\n",
    "plt.text(2.,0.82*ymax,\"$Z^0 \\\\to c \\\\bar{c}$ sim.\",fontsize=20)\n",
    "plt.text(2.,0.74*ymax,\"$D^\\pm \\\\to \\pi^\\pm \\pi^0$ excl.\",fontsize=20)\n",
    "plt.tight_layout()\n",
    "fig.savefig(loc.PLOTS+f\"/{file_type}_D_M_fit.pdf\")"
   ]
  },
  {
   "cell_type": "code",
   "execution_count": null,
   "metadata": {},
   "outputs": [],
   "source": [
    "#Number of Z's produced per year (4) per experiment (2)\n",
    "N_Z = 3e12 * 0.25 * 0.5\n",
    "#Number of c quarks produced\n",
    "N_c = 2 * 0.1203 * N_Z\n",
    "#Number of D -> pi pi0 produced (assume 43% production, same as for B mesons)\n",
    "N_D2PiPi0 = N_c * 0.43 * 1.247e-3\n",
    "\n",
    "print(\"N expected per year per exp = %.3e\" % N_D2PiPi0)"
   ]
  },
  {
   "cell_type": "code",
   "execution_count": null,
   "metadata": {},
   "outputs": [],
   "source": []
  }
 ],
 "metadata": {
  "kernelspec": {
   "display_name": "Python 3",
   "language": "python",
   "name": "python3"
  },
  "language_info": {
   "codemirror_mode": {
    "name": "ipython",
    "version": 3
   },
   "file_extension": ".py",
   "mimetype": "text/x-python",
   "name": "python",
   "nbconvert_exporter": "python",
   "pygments_lexer": "ipython3",
   "version": "3.7.6"
  }
 },
 "nbformat": 4,
 "nbformat_minor": 4
}

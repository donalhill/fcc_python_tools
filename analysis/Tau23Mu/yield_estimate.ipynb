{
 "cells": [
  {
   "cell_type": "code",
   "execution_count": 1,
   "metadata": {},
   "outputs": [],
   "source": [
    "import json\n",
    "from fcc_python_tools.locations import loc\n",
    "\n",
    "#Load species yields per year per IP at FCC-ee\n",
    "with open(f'{loc.JSON}/FCCee_species_yields.json','r') as json_file:\n",
    "    dict = json.load(json_file)"
   ]
  },
  {
   "cell_type": "code",
   "execution_count": 2,
   "metadata": {},
   "outputs": [
    {
     "name": "stdout",
     "output_type": "stream",
     "text": [
      "N(FCC-ee) = 3\n"
     ]
    }
   ],
   "source": [
    "#tau -> mu mu mu branching fraction (SM)\n",
    "BF = 1e-10\n",
    "\n",
    "#Total number expected at FCC-ee per year per IP\n",
    "N_FCCee = dict[\"tau\"] * BF\n",
    "print(\"N(FCC-ee) = %.0f\" % N_FCCee)"
   ]
  }
 ],
 "metadata": {
  "kernelspec": {
   "display_name": "Python 3",
   "language": "python",
   "name": "python3"
  },
  "language_info": {
   "codemirror_mode": {
    "name": "ipython",
    "version": 3
   },
   "file_extension": ".py",
   "mimetype": "text/x-python",
   "name": "python",
   "nbconvert_exporter": "python",
   "pygments_lexer": "ipython3",
   "version": "3.7.6"
  }
 },
 "nbformat": 4,
 "nbformat_minor": 4
}

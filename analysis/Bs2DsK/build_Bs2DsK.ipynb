{
 "cells": [
  {
   "cell_type": "code",
   "execution_count": 22,
   "metadata": {},
   "outputs": [],
   "source": [
    "import sys,os\n",
    "import uproot4 as uproot\n",
    "import awkward1 as ak\n",
    "import json\n",
    "import numpy as np\n",
    "import matplotlib.pyplot as plt\n",
    "from fcc_python_tools.locations import loc\n",
    "from fcc_python_tools import kinematics_flat\n",
    "from particle import literals as lp\n",
    "from fcc_python_tools import plotting\n",
    "import tensorflow as tf\n",
    "import zfit\n",
    "import random\n",
    "\n",
    "from matplotlib import rc\n",
    "rc('font',**{'family':'serif','serif':['Roman']})\n",
    "rc('text', usetex=True)"
   ]
  },
  {
   "cell_type": "code",
   "execution_count": 23,
   "metadata": {},
   "outputs": [],
   "source": [
    "path = \"/eos/experiment/fcc/ee/tmp/testmatching/\"\n",
    "mode = \"Bs2DsK\"\n",
    "\n",
    "file = uproot.open(path+f\"events_{mode}.root\")\n",
    "tree = file['events']\n",
    "events = tree.arrays(library=\"ak\", how=\"zip\")\n",
    "\n",
    "n_keep = 100000\n",
    "events = events[:n_keep] "
   ]
  },
  {
   "cell_type": "code",
   "execution_count": 24,
   "metadata": {},
   "outputs": [],
   "source": [
    "rp = events[\"RP\"]\n",
    "\n",
    "#Pions\n",
    "pi_cut = abs(rp[\"mass\"] - lp.pi_plus.mass/1000.) < 1e-4\n",
    "pions = rp[pi_cut]\n",
    "p_cut = pions[\"p\"] > 1.\n",
    "pions = pions[p_cut]\n",
    "\n",
    "#Kaons\n",
    "k_cut = abs(rp[\"mass\"] - lp.K_plus.mass/1000.) < 1e-4\n",
    "kaons = rp[k_cut]\n",
    "p_cut = kaons[\"p\"] > 1.\n",
    "kaons = kaons[p_cut]"
   ]
  },
  {
   "cell_type": "markdown",
   "metadata": {
    "slideshow": {
     "slide_type": "subslide"
    }
   },
   "source": [
    "Build $KK$ for $D_s$ and then $D_s$"
   ]
  },
  {
   "cell_type": "code",
   "execution_count": 25,
   "metadata": {},
   "outputs": [],
   "source": [
    "kk = ak.combinations(kaons, 2)\n",
    "kk[\"k_1\"], kk[\"k_2\"] = ak.unzip(kk)\n",
    "\n",
    "kk_charge_cut = kk[\"k_1\",\"charge\"] != kk[\"k_2\",\"charge\"]\n",
    "kk = kk[kk_charge_cut]\n",
    "\n",
    "Ds = ak.cartesian({\"kk\": kk, \"pi\": pions})\n",
    "\n",
    "PDG_K_m = lp.K_plus.mass/1000.\n",
    "PDG_pi_m = lp.pi_plus.mass/1000.\n",
    "Ds[\"mass\"] = kinematics_flat.mass([Ds[\"kk\",\"k_1\"], \n",
    "                                   Ds[\"kk\",\"k_2\"],\n",
    "                                   Ds[\"pi\"]\n",
    "                                  ], \n",
    "                                  [PDG_K_m, \n",
    "                                   PDG_K_m,\n",
    "                                   PDG_pi_m\n",
    "                                  ])\n",
    "\n",
    "PDG_Ds_m = lp.D_s_plus.mass/1000.\n",
    "Ds_window = 0.025\n",
    "Ds_cut = abs(Ds[\"mass\"] - PDG_Ds_m) < Ds_window\n",
    "Ds = Ds[Ds_cut]\n",
    "\n",
    "#Pion of opposite charge to one kaon\n",
    "Ds_charge_cut = Ds[\"kk\",\"k_1\",\"charge\"] != Ds[\"pi\",\"charge\"]\n",
    "Ds = Ds[Ds_charge_cut]"
   ]
  },
  {
   "cell_type": "markdown",
   "metadata": {},
   "source": [
    "Build $B_s^0$ from $D_s^+$ and a kaon"
   ]
  },
  {
   "cell_type": "code",
   "execution_count": 26,
   "metadata": {},
   "outputs": [],
   "source": [
    "Bs = ak.cartesian({\"Ds\": Ds, \"k\": kaons})\n",
    "Bs_charge_cut = Bs[\"Ds\",\"pi\",\"charge\"] != Bs[\"k\",\"charge\"]\n",
    "\n",
    "Bs[\"mass\"] = kinematics_flat.mass([Bs[\"Ds\",\"kk\",\"k_1\"],\n",
    "                                   Bs[\"Ds\",\"kk\",\"k_2\"],\n",
    "                                   Bs[\"Ds\",\"pi\"],\n",
    "                                   Bs[\"k\"]\n",
    "                                  ],\n",
    "                                  [PDG_K_m,\n",
    "                                   PDG_K_m,\n",
    "                                   PDG_pi_m,\n",
    "                                   PDG_K_m\n",
    "                                  ])\n",
    "\n",
    "Bs_mass_low = 5.3\n",
    "Bs_mass_high = 5.45\n",
    "Bs_mass_low_cut = Bs[\"mass\"] >= Bs_mass_low\n",
    "Bs_mass_high_cut = Bs[\"mass\"] <= Bs_mass_high\n",
    "Bs_mass_cut = np.logical_and(Bs_mass_low_cut, Bs_mass_high_cut)\n",
    "Bs = Bs[Bs_mass_cut]"
   ]
  },
  {
   "cell_type": "markdown",
   "metadata": {},
   "source": [
    "Fit the $B_s^0$ peak with zfit"
   ]
  },
  {
   "cell_type": "code",
   "execution_count": 27,
   "metadata": {},
   "outputs": [],
   "source": [
    "low = Bs_mass_low\n",
    "high = Bs_mass_high\n",
    "obs = zfit.Space('mB', limits=(low, high))\n",
    "\n",
    "#Signal PDF\n",
    "rand = random.randint(0,9999)\n",
    "mu = zfit.Parameter(f\"mu_{rand}\", lp.B_s_0.mass/1000., low, high)\n",
    "sigma = zfit.Parameter(f\"sigma_{rand}\", 0.005, 0.0001, 0.1)\n",
    "alphaL = zfit.Parameter(f\"alphaL_{rand}\", 0.5, 0., 5.)\n",
    "nL = zfit.Parameter(f\"nL_{rand}\", 100., 0., 200.)\n",
    "alphaR = zfit.Parameter(f\"alphaR_{rand}\", -0.5, -5., 0.)\n",
    "nR = zfit.Parameter(f\"nR_{rand}\", 100., 0., 200.)\n",
    "frac = zfit.Parameter(f\"frac_{rand}\", 0.2, 0., 1.)\n",
    "\n",
    "pdf_sigL = zfit.pdf.CrystalBall(obs=obs, mu=mu, sigma=sigma, alpha=alphaL, n=nL)\n",
    "pdf_sigR = zfit.pdf.CrystalBall(obs=obs, mu=mu, sigma=sigma, alpha=alphaR, n=nR)\n",
    "pdf = zfit.pdf.SumPDF([pdf_sigL, pdf_sigR], frac)"
   ]
  },
  {
   "cell_type": "code",
   "execution_count": 28,
   "metadata": {},
   "outputs": [],
   "source": [
    "data_np = ak.to_numpy(ak.flatten(Bs[\"mass\"]))\n",
    "data = zfit.Data.from_numpy(obs=obs, array=data_np)"
   ]
  },
  {
   "cell_type": "code",
   "execution_count": 29,
   "metadata": {},
   "outputs": [
    {
     "name": "stdout",
     "output_type": "stream",
     "text": [
      "┌──────────────────────────────────┬──────────────────────────────────────┐\n",
      "│ FCN = -2.438e+04                 │       Ncalls = 717 (717 total)       │\n",
      "│ EDM = 0.000115 (Goal: 0.001)     │               up = 0.5               │\n",
      "├───────────────┬──────────────────┼──────────────────────────────────────┤\n",
      "│ Valid Minimum │ Valid Parameters │        No Parameters at limit        │\n",
      "├───────────────┴──────────────────┼──────────────────────────────────────┤\n",
      "│ Below EDM threshold (goal x 10)  │           Below call limit           │\n",
      "├───────────────┬──────────────────┼───────────┬─────────────┬────────────┤\n",
      "│   Hesse ok    │  Has Covariance  │ Accurate  │  Pos. def.  │ Not forced │\n",
      "└───────────────┴──────────────────┴───────────┴─────────────┴────────────┘\n",
      "m(D* - D0) fit function minimum: -24377.12033291786\n",
      "m(D* - D0) fit converged: True\n",
      "m(D* - D0) fit full minimizer information: {'n_eval': 717, 'n_iter': 717, 'original': FMin(fval=-24377.12033291786, edm=0.00011504985510020483, tolerance=1.0, nfcn=717, ncalls=717, up=0.5, is_valid=True, has_valid_parameters=True, has_accurate_covar=True, has_posdef_covar=True, has_made_posdef_covar=False, hesse_failed=False, has_covariance=True, is_above_max_edm=False, has_reached_call_limit=False, has_parameters_at_limit=False)}\n",
      "name           value    minuit_hesse    at limit\n",
      "----------  --------  --------------  ----------\n",
      "frac_464       0.411     +/-   0.072       False\n",
      "alphaL_464    0.9059     +/-    0.14       False\n",
      "mu_464         5.367     +/- 0.00011       False\n",
      "nL_464          4.71     +/-     1.2       False\n",
      "sigma_464   0.006255     +/- 0.00015       False\n",
      "alphaR_464    -1.017     +/-   0.096       False\n",
      "nR_464         4.026     +/-    0.58       False\n"
     ]
    }
   ],
   "source": [
    "nll = zfit.loss.UnbinnedNLL(model=pdf, data=data)\n",
    "minimizer = zfit.minimize.Minuit()\n",
    "result = minimizer.minimize(nll)\n",
    "param_errors = result.hesse()\n",
    "\n",
    "print(\"m(D* - D0) fit function minimum:\", result.fmin)\n",
    "print(\"m(D* - D0) fit converged:\", result.converged)\n",
    "print(\"m(D* - D0) fit full minimizer information:\", result.info)\n",
    "\n",
    "params = result.params\n",
    "print(params)"
   ]
  },
  {
   "cell_type": "code",
   "execution_count": null,
   "metadata": {},
   "outputs": [],
   "source": []
  },
  {
   "cell_type": "code",
   "execution_count": 32,
   "metadata": {},
   "outputs": [
    {
     "data": {
      "image/png": "[encoded data removed]",
      "text/plain": [
       "<Figure size 720x576 with 1 Axes>"
      ]
     },
     "metadata": {
      "needs_background": "light"
     },
     "output_type": "display_data"
    }
   ],
   "source": [
    "fig,ax = plt.subplots(figsize=(10,8))\n",
    "lower, upper = obs.limits\n",
    "low = lower[-1][0]\n",
    "high = upper[0][0]\n",
    "bin_width = 0.001\n",
    "bins = int(float(high - low)/bin_width)\n",
    "counts, bin_edges = np.histogram(data_np, bins, range=(low,high))\n",
    "bin_centres = (bin_edges[:-1] + bin_edges[1:])/2.\n",
    "err = np.sqrt(counts)\n",
    "plt.errorbar(bin_centres, counts, yerr=err, fmt='o', markersize=3, color='black')\n",
    "x_plot = np.linspace(low, high, num=1000)\n",
    "y_plot_tot = zfit.run(pdf.pdf(x_plot, norm_range=obs))\n",
    "plt.plot(x_plot, y_plot_tot*len(data_np)/bins*obs.area(), color='navy', linewidth=2.5, alpha=0.6)\n",
    "ax.tick_params(axis='both', which='major', labelsize=25)\n",
    "plt.ylabel(\"Candidates / (%.5f GeV/$c^2$)\" % bin_width,fontsize=25)\n",
    "plt.xlabel(\"$m(D_s^\\\\pm K^\\\\mp)$ [GeV/$c^2$]\",fontsize=25)\n",
    "plt.xlim(low,high)\n",
    "ymin, ymax = plt.ylim()\n",
    "plt.ylim(0,1.05*ymax)\n",
    "plt.text(5.4,0.9*ymax,\"\\\\textbf{FCC-ee}\",fontsize=20)\n",
    "plt.text(5.4,0.82*ymax,\"$Z^0 \\\\to b \\\\bar{b}$ sim.\",fontsize=20)\n",
    "plt.text(5.4,0.74*ymax,\"$B_s^0 \\\\to D_s^- K^+$ excl.\",fontsize=20)\n",
    "sigma_val = 1000.*params[sigma]['value']\n",
    "plt.text(5.305,0.82*ymax,\"$\\\\sigma = %.2f$ MeV/$c^2$\" % sigma_val,fontsize=30)\n",
    "plt.tight_layout()\n",
    "fig.savefig(loc.PLOTS+f\"/{mode}_Bs_M_fit.pdf\")"
   ]
  }
 ],
 "metadata": {
  "kernelspec": {
   "display_name": "Python 3",
   "language": "python",
   "name": "python3"
  },
  "language_info": {
   "codemirror_mode": {
    "name": "ipython",
    "version": 3
   },
   "file_extension": ".py",
   "mimetype": "text/x-python",
   "name": "python",
   "nbconvert_exporter": "python",
   "pygments_lexer": "ipython3",
   "version": "3.7.6"
  }
 },
 "nbformat": 4,
 "nbformat_minor": 4
}

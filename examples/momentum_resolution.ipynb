{
 "cells": [
  {
   "cell_type": "markdown",
   "metadata": {},
   "source": [
    "# Prototype for MC matching based on minimum angle between genParticle and pfcharged\n",
    "\n",
    "In this example, `ak.cartesian()` is used to make pairs of MC-truth generated particles (from `genParticles`) and reconstructed hadrons (from `pfcharged`). A cut is applied on the `pdgId` such that only pairs with the same generator and reco `pdgId` are considered. The cosine of the angle between the generated and reco particles is calculated, and used as a metric for picking the best pair. The generated information is then associated to the reco information for each reco hadron, allowing quantities like $\\delta(p)$ to be calculated. \n",
    "\n",
    "The code is based on the example found in [this](https://github.com/jpivarski-talks/2020-04-08-eic-jlab/blob/master/2020-04-08-eic-jlab-EVALUATED.ipynb) `awkward array` tutorial, where brem photons are associated to electrons. "
   ]
  },
  {
   "cell_type": "code",
   "execution_count": 79,
   "metadata": {},
   "outputs": [],
   "source": [
    "import sys,os\n",
    "import uproot4 as uproot\n",
    "import awkward1 as ak\n",
    "import json\n",
    "import numpy as np\n",
    "import matplotlib.pyplot as plt\n",
    "from fcc_python_tools.locations import loc\n",
    "from fcc_python_tools import kinematics\n",
    "from particle import literals as lp\n",
    "from fcc_python_tools import plotting\n",
    "\n",
    "from matplotlib import rc\n",
    "rc('font',**{'family':'serif','serif':['Roman']})\n",
    "rc('text', usetex=True)\n",
    "\n",
    "file = uproot.open(f\"{loc.DATA}/FCCDelphesOutput.root\")\n",
    "tree = file['events']"
   ]
  },
  {
   "cell_type": "markdown",
   "metadata": {},
   "source": [
    "Get the reconstructed stable hadrons:"
   ]
  },
  {
   "cell_type": "code",
   "execution_count": 80,
   "metadata": {},
   "outputs": [],
   "source": [
    "h_container = \"efcharged.core\"\n",
    "h = tree.arrays(filter_name=f\"{h_container}*\",how=\"zip\")\n",
    "h[h_container,'p4.p'] = kinematics.calc_p(h,h_container)"
   ]
  },
  {
   "cell_type": "markdown",
   "metadata": {},
   "source": [
    "Get the generated particles:"
   ]
  },
  {
   "cell_type": "code",
   "execution_count": 81,
   "metadata": {},
   "outputs": [],
   "source": [
    "g_container = \"genParticles.core\"\n",
    "g = tree.arrays(filter_name=f\"{g_container}*\",how=\"zip\")\n",
    "g[g_container,'p4.p'] = kinematics.calc_p(g,g_container)"
   ]
  },
  {
   "cell_type": "markdown",
   "metadata": {},
   "source": [
    "Make pairs of reco and gen particles across all events:"
   ]
  },
  {
   "cell_type": "code",
   "execution_count": 82,
   "metadata": {},
   "outputs": [],
   "source": [
    "pairs = ak.cartesian({\"reco\": h[h_container], \"gen\": g[g_container]}, nested=True)"
   ]
  },
  {
   "cell_type": "markdown",
   "metadata": {},
   "source": [
    "Require that the `pdgId` of the particles are the same:"
   ]
  },
  {
   "cell_type": "code",
   "execution_count": 83,
   "metadata": {},
   "outputs": [],
   "source": [
    "ID_cut = pairs[\"reco\",\"pdgId\"] == pairs[\"gen\",\"pdgId\"]\n",
    "pairs = pairs[ID_cut]"
   ]
  },
  {
   "cell_type": "markdown",
   "metadata": {},
   "source": [
    "Calculate $\\cos(\\theta)$ between the reco and true particles, which we will use as a matching requirement:"
   ]
  },
  {
   "cell_type": "code",
   "execution_count": 84,
   "metadata": {},
   "outputs": [],
   "source": [
    "pairs[\"costheta\"] = kinematics.cos_angle(pairs[\"reco\"], pairs[\"gen\"])"
   ]
  },
  {
   "cell_type": "markdown",
   "metadata": {},
   "source": [
    "Pick best pair according to $\\cos(\\theta)_{max}$ i.e. minimum angle:"
   ]
  },
  {
   "cell_type": "code",
   "execution_count": 85,
   "metadata": {},
   "outputs": [],
   "source": [
    "best_pair = pairs[ak.singletons(ak.argmax(pairs[\"costheta\"], axis=2))]"
   ]
  },
  {
   "cell_type": "markdown",
   "metadata": {},
   "source": [
    "Associate the best gen particle with the reco particle:"
   ]
  },
  {
   "cell_type": "code",
   "execution_count": 86,
   "metadata": {},
   "outputs": [],
   "source": [
    "h[\"match\"] = ak.firsts(best_pair, axis=2)"
   ]
  },
  {
   "cell_type": "markdown",
   "metadata": {},
   "source": [
    "Can get the reco info using `h[\"match\",\"reco\",\"var_name\"]` and the corresponding MC-truth value with `h[\"match\",\"gen\",\"var_name\"]`. So can calculate a resolution like this:"
   ]
  },
  {
   "cell_type": "code",
   "execution_count": 87,
   "metadata": {},
   "outputs": [],
   "source": [
    "h[\"delta_p\"] = h[\"match\",\"reco\",\"p4.p\"] - h[\"match\",\"gen\",\"p4.p\"]\n",
    "h[\"delta_p_per\"] = h[\"delta_p\"] / h[\"match\",\"reco\",\"p4.p\"]"
   ]
  },
  {
   "cell_type": "markdown",
   "metadata": {},
   "source": [
    "Remove some outliers to get a sensible measure of the width:"
   ]
  },
  {
   "cell_type": "code",
   "execution_count": 88,
   "metadata": {},
   "outputs": [
    {
     "name": "stdout",
     "output_type": "stream",
     "text": [
      "Momentum resolution mu = -0.0000\n",
      "Momentum resolution sigma = 0.0021\n"
     ]
    }
   ],
   "source": [
    "max_val = 0.01\n",
    "h = h[abs(h[\"delta_p_per\"]) < max_val]\n",
    "delta_p_mu = np.mean(ak.flatten(h[\"delta_p_per\"]))\n",
    "print(f\"Momentum resolution mu = {delta_p_mu:.4f}\")\n",
    "delta_p_sigma = np.std(ak.flatten(h[\"delta_p_per\"]))\n",
    "print(f\"Momentum resolution sigma = {delta_p_sigma:.4f}\")"
   ]
  },
  {
   "cell_type": "code",
   "execution_count": 89,
   "metadata": {},
   "outputs": [
    {
     "data": {
      "image/png": "[encoded data removed]",
      "text/plain": [
       "<Figure size 576x576 with 1 Axes>"
      ]
     },
     "metadata": {
      "needs_background": "light"
     },
     "output_type": "display_data"
    }
   ],
   "source": [
    "plotting.errorbar_hist(h,\"delta_p_per\",\"all_hadrons\",\"$\\delta(p)/p$\",-max_val,max_val)"
   ]
  },
  {
   "cell_type": "markdown",
   "metadata": {},
   "source": [
    "We can also look at the momentum resolution as a function of momentum, by splitting the sample into $p$ bins and plotting the average $\\delta(p)/p$ in each bin. We make some bins, then calculate the bin centres and put them into `p_vals`. We then cut on the hadrons so that we keep only the ones in a certain bin using `h_bin_cut`, and then calculate the standard deviation of the $\\delta(p)/p$ values in that bin. These are stored in `delta_p_per_vals`. We can then plot these values as a function of $p$."
   ]
  },
  {
   "cell_type": "code",
   "execution_count": 90,
   "metadata": {},
   "outputs": [],
   "source": [
    "n_bin_edges = 21\n",
    "p_min = 0.5\n",
    "p_max = 15.\n",
    "bins = np.linspace(p_min, p_max, n_bin_edges)\n",
    "\n",
    "delta_p_per_vals = []\n",
    "p_vals = []\n",
    "for i in range(0,len(bins)-1):\n",
    "    p_vals.append(bins[i] + 0.5*(bins[i+1] - bins[i]))\n",
    "    h_bin_cut = np.logical_and(h[h_container,'p4.p'] >= bins[i], h[h_container,'p4.p'] < bins[i+1])\n",
    "    h_bin = h[h_bin_cut]\n",
    "    delta_p_per_vals.append(100*np.std(ak.flatten(h_bin[\"delta_p_per\"])))"
   ]
  },
  {
   "cell_type": "markdown",
   "metadata": {},
   "source": [
    "Now to plot the momentum resolution as a function of momentum"
   ]
  },
  {
   "cell_type": "code",
   "execution_count": 91,
   "metadata": {},
   "outputs": [
    {
     "data": {
      "image/png": "[encoded data removed]",
      "text/plain": [
       "<Figure size 576x576 with 1 Axes>"
      ]
     },
     "metadata": {
      "needs_background": "light"
     },
     "output_type": "display_data"
    }
   ],
   "source": [
    "plotting.errorbar_plot(p_vals, \n",
    "                       delta_p_per_vals, \n",
    "                       \"p\", \n",
    "                       \"delta_p_per\", \n",
    "                       \"$p$ [GeV/$c$]\", \n",
    "                       \"$\\delta(p)/p$ ($\\%$)\", \n",
    "                       [0.,p_max], \n",
    "                       [0.1,0.3], \n",
    "                       x_err=None, \n",
    "                       y_err=None)"
   ]
  }
 ],
 "metadata": {
  "kernelspec": {
   "display_name": "fcc_pyenv",
   "language": "python",
   "name": "fcc_pyenv"
  },
  "language_info": {
   "codemirror_mode": {
    "name": "ipython",
    "version": 3
   },
   "file_extension": ".py",
   "mimetype": "text/x-python",
   "name": "python",
   "nbconvert_exporter": "python",
   "pygments_lexer": "ipython3",
   "version": "3.7.8"
  }
 },
 "nbformat": 4,
 "nbformat_minor": 4
}

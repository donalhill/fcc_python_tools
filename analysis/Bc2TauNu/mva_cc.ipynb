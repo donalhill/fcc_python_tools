{
 "cells": [
  {
   "cell_type": "code",
   "execution_count": 93,
   "metadata": {},
   "outputs": [],
   "source": [
    "import sys,os\n",
    "import json\n",
    "import numpy as np\n",
    "import matplotlib.pyplot as plt\n",
    "from fcc_python_tools.locations import loc\n",
    "from fcc_python_tools import plotting\n",
    "import pandas as pd\n",
    "from root_pandas import read_root, to_root\n",
    "import xgboost as xgb\n",
    "from sklearn.model_selection import train_test_split\n",
    "from sklearn.ensemble import GradientBoostingClassifier\n",
    "from sklearn.metrics import classification_report, roc_auc_score\n",
    "from sklearn.metrics import roc_curve, auc\n",
    "from sklearn.externals import joblib\n",
    "from sklearn.utils.class_weight import compute_sample_weight\n",
    "from scipy.stats import ks_2samp\n",
    "import xgboost as xgb\n",
    "\n",
    "from matplotlib import rc\n",
    "rc('font',**{'family':'serif','serif':['Roman']})\n",
    "rc('text', usetex=True)"
   ]
  },
  {
   "cell_type": "code",
   "execution_count": 94,
   "metadata": {},
   "outputs": [],
   "source": [
    "#Bc -> tau nu signal with the Z -> qq BDT already applied\n",
    "path = f\"{loc.OUT}/ROOT\"\n",
    "df_sig = read_root(f\"{path}/Bc2TauNu_Zuds_BDT.root\",\"events\")"
   ]
  },
  {
   "cell_type": "code",
   "execution_count": 95,
   "metadata": {},
   "outputs": [],
   "source": [
    "#Z -> cc inclusive with the Z -> qq BDT applied\n",
    "df_bkg = read_root(f\"{path}/inclusive_Zcc_Zuds_BDT.root\",\"events\")"
   ]
  },
  {
   "cell_type": "code",
   "execution_count": 96,
   "metadata": {},
   "outputs": [],
   "source": [
    "#Variables to use in the MVA\n",
    "training_vars = [\"EVT_thrutshemis_e_min\",\n",
    "                 \"EVT_thrutshemis_e_max\",\n",
    "                 \"echarged_min\",\n",
    "                 \"echarged_max\",\n",
    "                 \"eneutral_min\",\n",
    "                 \"eneutral_max\",\n",
    "                 \"ncharged_min\",\n",
    "                 \"ncharged_max\",\n",
    "                 \"nneutral_min\",\n",
    "                 \"nneutral_max\"\n",
    "                ]"
   ]
  },
  {
   "cell_type": "code",
   "execution_count": 97,
   "metadata": {},
   "outputs": [
    {
     "name": "stdout",
     "output_type": "stream",
     "text": [
      "N_sig = 12637\n",
      "N_bkg = 999994\n"
     ]
    }
   ],
   "source": [
    "#Keep only these variables\n",
    "df_sig = df_sig[training_vars]\n",
    "print(\"N_sig = %s\" % len(df_sig))\n",
    "df_bkg = df_bkg[training_vars]\n",
    "print(\"N_bkg = %s\" % len(df_bkg))"
   ]
  },
  {
   "cell_type": "code",
   "execution_count": 98,
   "metadata": {},
   "outputs": [],
   "source": [
    "#Signal and background labels\n",
    "df_sig[\"label\"] = 1\n",
    "df_bkg[\"label\"] = 0\n",
    "\n",
    "#Combine the datasets\n",
    "df_tot = df_sig.append(df_bkg)"
   ]
  },
  {
   "cell_type": "code",
   "execution_count": 99,
   "metadata": {},
   "outputs": [],
   "source": [
    "#Split into class label (y) and training vars (x)\n",
    "y = df_tot[\"label\"]\n",
    "x = df_tot[training_vars]"
   ]
  },
  {
   "cell_type": "code",
   "execution_count": 100,
   "metadata": {},
   "outputs": [],
   "source": [
    "#Split into samples to be used in the two BDTs, which will be used to make predictions for each other\n",
    "x_A, x_B, y_A, y_B = train_test_split(x, y, test_size=0.5, random_state=100)"
   ]
  },
  {
   "cell_type": "code",
   "execution_count": 101,
   "metadata": {},
   "outputs": [],
   "source": [
    "#Sample weights to balance the classes\n",
    "weights_A = compute_sample_weight(class_weight='balanced', y=y_A)\n",
    "weights_B = compute_sample_weight(class_weight='balanced', y=y_B)"
   ]
  },
  {
   "cell_type": "code",
   "execution_count": 102,
   "metadata": {},
   "outputs": [],
   "source": [
    "#BDTs for each sample, which we will apply to the other sample (cross BDT)\n",
    "config_dict = {\n",
    "        \"n_estimators\": 400,\n",
    "        \"learning_rate\": 0.3,\n",
    "        \"max_depth\": 3,\n",
    "        }\n",
    "\n",
    "bdt_A = xgb.XGBClassifier(n_estimators=config_dict[\"n_estimators\"], \n",
    "                                   max_depth=config_dict[\"max_depth\"], \n",
    "                                   learning_rate=config_dict[\"learning_rate\"], \n",
    "                                  )\n",
    "\n",
    "bdt_B = xgb.XGBClassifier(n_estimators=config_dict[\"n_estimators\"], \n",
    "                                   max_depth=config_dict[\"max_depth\"], \n",
    "                                   learning_rate=config_dict[\"learning_rate\"], \n",
    "                                  )"
   ]
  },
  {
   "cell_type": "code",
   "execution_count": 103,
   "metadata": {
    "scrolled": false
   },
   "outputs": [
    {
     "data": {
      "text/plain": [
       "XGBClassifier(base_score=0.5, booster='gbtree', colsample_bylevel=1,\n",
       "              colsample_bynode=1, colsample_bytree=1, gamma=0,\n",
       "              learning_rate=0.3, max_delta_step=0, max_depth=3,\n",
       "              min_child_weight=1, missing=None, n_estimators=400, n_jobs=1,\n",
       "              nthread=None, objective='binary:logistic', random_state=0,\n",
       "              reg_alpha=0, reg_lambda=1, scale_pos_weight=1, seed=None,\n",
       "              silent=None, subsample=1, verbosity=1)"
      ]
     },
     "execution_count": 103,
     "metadata": {},
     "output_type": "execute_result"
    }
   ],
   "source": [
    "#Fit the models\n",
    "bdt_A.fit(x_A, y_A, sample_weight=weights_A)\n",
    "bdt_B.fit(x_B, y_B, sample_weight=weights_B) "
   ]
  },
  {
   "cell_type": "code",
   "execution_count": 104,
   "metadata": {},
   "outputs": [
    {
     "name": "stdout",
     "output_type": "stream",
     "text": [
      "Feature importances for BDT A\n",
      "                       importance\n",
      "EVT_thrutshemis_e_min    0.535463\n",
      "eneutral_min             0.128663\n",
      "echarged_min             0.107479\n",
      "EVT_thrutshemis_e_max    0.081439\n",
      "echarged_max             0.039567\n",
      "ncharged_min             0.026714\n",
      "eneutral_max             0.024731\n",
      "ncharged_max             0.019782\n",
      "nneutral_min             0.018448\n",
      "nneutral_max             0.017714\n",
      "Feature importances for BDT B\n",
      "                       importance\n",
      "EVT_thrutshemis_e_min    0.559733\n",
      "eneutral_min             0.126428\n",
      "echarged_min             0.104458\n",
      "EVT_thrutshemis_e_max    0.070903\n",
      "echarged_max             0.034333\n",
      "ncharged_min             0.030445\n",
      "eneutral_max             0.026067\n",
      "nneutral_min             0.021064\n",
      "ncharged_max             0.013661\n",
      "nneutral_max             0.012907\n"
     ]
    }
   ],
   "source": [
    "#Get the feature importances \n",
    "feature_importances_A = pd.DataFrame(bdt_A.feature_importances_,\n",
    "                                     index = training_vars,\n",
    "                                     columns=['importance']).sort_values('importance',ascending=False)\n",
    "\n",
    "print(\"Feature importances for BDT A\")\n",
    "print(feature_importances_A)\n",
    "\n",
    "feature_importances_B = pd.DataFrame(bdt_B.feature_importances_,\n",
    "                                     index = training_vars,\n",
    "                                     columns=['importance']).sort_values('importance',ascending=False)\n",
    "\n",
    "print(\"Feature importances for BDT B\")\n",
    "print(feature_importances_B)"
   ]
  },
  {
   "cell_type": "code",
   "execution_count": 105,
   "metadata": {},
   "outputs": [
    {
     "name": "stdout",
     "output_type": "stream",
     "text": [
      "              precision    recall  f1-score   support\n",
      "\n",
      "  background       1.00      0.98      0.99    499969\n",
      "      signal       0.42      0.94      0.58      6347\n",
      "\n",
      "    accuracy                           0.98    506316\n",
      "   macro avg       0.71      0.96      0.79    506316\n",
      "weighted avg       0.99      0.98      0.99    506316\n",
      "\n",
      "Area under ROC curve A: 0.9633\n",
      "              precision    recall  f1-score   support\n",
      "\n",
      "  background       1.00      0.98      0.99    500025\n",
      "      signal       0.41      0.94      0.57      6290\n",
      "\n",
      "    accuracy                           0.98    506315\n",
      "   macro avg       0.70      0.96      0.78    506315\n",
      "weighted avg       0.99      0.98      0.99    506315\n",
      "\n",
      "Area under ROC curve A: 0.9635\n"
     ]
    }
   ],
   "source": [
    "#Assess the performance on the sample not used in the training\n",
    "y_predicted_B = bdt_A.predict(x_B)\n",
    "print(classification_report(y_B, \n",
    "                            y_predicted_B,\n",
    "                            target_names=[\"background\", \"signal\"])\n",
    "     )\n",
    "print(\"Area under ROC curve A: %.4f\"%(roc_auc_score(y_B, bdt_A.predict(x_B))))\n",
    "\n",
    "y_predicted_A = bdt_B.predict(x_A)\n",
    "print(classification_report(y_A, \n",
    "                            y_predicted_A,\n",
    "                            target_names=[\"background\", \"signal\"])\n",
    "     )\n",
    "print(\"Area under ROC curve A: %.4f\"%(roc_auc_score(y_A, bdt_B.predict(x_A))))"
   ]
  },
  {
   "cell_type": "code",
   "execution_count": 106,
   "metadata": {},
   "outputs": [],
   "source": [
    "#Create ROC curves\n",
    "decisions_B = bdt_A.predict_proba(x_B)[:,1]\n",
    "decisions_A = bdt_B.predict_proba(x_A)[:,1]\n",
    "\n",
    "# Compute ROC curves and area under the curve\n",
    "fpr_A, tpr_A, thresholds_A = roc_curve(y_A, decisions_A)\n",
    "roc_auc_A = auc(fpr_A, tpr_A)\n",
    "\n",
    "fpr_B, tpr_B, thresholds_B = roc_curve(y_B, decisions_B)\n",
    "roc_auc_B = auc(fpr_B, tpr_B)"
   ]
  },
  {
   "cell_type": "code",
   "execution_count": 107,
   "metadata": {},
   "outputs": [
    {
     "data": {
      "image/png": "[encoded data removed]",
      "text/plain": [
       "<Figure size 576x576 with 1 Axes>"
      ]
     },
     "metadata": {
      "needs_background": "light"
     },
     "output_type": "display_data"
    }
   ],
   "source": [
    "fig, ax = plt.subplots(figsize=(8,8))\n",
    "plt.plot(tpr_A, 1-fpr_A, lw=1.5, color=\"#7fcdbb\", label='ROC A (area = %0.3f)'%(roc_auc_A))\n",
    "plt.plot(tpr_B, 1-fpr_B, lw=1.5, color=\"#2c7fb8\", label='ROC B (area = %0.3f)'%(roc_auc_B))\n",
    "\n",
    "plt.plot([0.45, 1.], [0.45, 1.], linestyle=\"--\", color=\"k\", label='50/50')\n",
    "plt.xlim(0.45,1.)\n",
    "plt.ylim(0.45,1.)\n",
    "plt.ylabel('Background rejection',fontsize=30)\n",
    "plt.xlabel('Signal efficiency',fontsize=30)\n",
    "ax.tick_params(axis='both', which='major', labelsize=25)\n",
    "plt.legend(loc=\"upper left\",fontsize=20)\n",
    "plt.grid()\n",
    "plt.tight_layout()\n",
    "plt.show()\n",
    "fig.savefig(f\"{loc.PLOTS}/Bc2TauNu_vs_inclusive_Zcc_ROC.pdf\")"
   ]
  },
  {
   "cell_type": "code",
   "execution_count": 108,
   "metadata": {},
   "outputs": [
    {
     "name": "stderr",
     "output_type": "stream",
     "text": [
      "/usr/local/bin/start_ipykernel.py:9: SettingWithCopyWarning: \n",
      "A value is trying to be set on a copy of a slice from a DataFrame.\n",
      "Try using .loc[row_indexer,col_indexer] = value instead\n",
      "\n",
      "See the caveats in the documentation: http://pandas.pydata.org/pandas-docs/stable/indexing.html#indexing-view-versus-copy\n",
      "/usr/local/bin/start_ipykernel.py:10: SettingWithCopyWarning: \n",
      "A value is trying to be set on a copy of a slice from a DataFrame.\n",
      "Try using .loc[row_indexer,col_indexer] = value instead\n",
      "\n",
      "See the caveats in the documentation: http://pandas.pydata.org/pandas-docs/stable/indexing.html#indexing-view-versus-copy\n",
      "/usr/local/bin/start_ipykernel.py:11: SettingWithCopyWarning: \n",
      "A value is trying to be set on a copy of a slice from a DataFrame.\n",
      "Try using .loc[row_indexer,col_indexer] = value instead\n",
      "\n",
      "See the caveats in the documentation: http://pandas.pydata.org/pandas-docs/stable/indexing.html#indexing-view-versus-copy\n",
      "/usr/local/bin/start_ipykernel.py:12: SettingWithCopyWarning: \n",
      "A value is trying to be set on a copy of a slice from a DataFrame.\n",
      "Try using .loc[row_indexer,col_indexer] = value instead\n",
      "\n",
      "See the caveats in the documentation: http://pandas.pydata.org/pandas-docs/stable/indexing.html#indexing-view-versus-copy\n",
      "/usr/local/bin/start_ipykernel.py:13: SettingWithCopyWarning: \n",
      "A value is trying to be set on a copy of a slice from a DataFrame.\n",
      "Try using .loc[row_indexer,col_indexer] = value instead\n",
      "\n",
      "See the caveats in the documentation: http://pandas.pydata.org/pandas-docs/stable/indexing.html#indexing-view-versus-copy\n",
      "/usr/local/bin/start_ipykernel.py:14: SettingWithCopyWarning: \n",
      "A value is trying to be set on a copy of a slice from a DataFrame.\n",
      "Try using .loc[row_indexer,col_indexer] = value instead\n",
      "\n",
      "See the caveats in the documentation: http://pandas.pydata.org/pandas-docs/stable/indexing.html#indexing-view-versus-copy\n",
      "/usr/local/bin/start_ipykernel.py:15: SettingWithCopyWarning: \n",
      "A value is trying to be set on a copy of a slice from a DataFrame.\n",
      "Try using .loc[row_indexer,col_indexer] = value instead\n",
      "\n",
      "See the caveats in the documentation: http://pandas.pydata.org/pandas-docs/stable/indexing.html#indexing-view-versus-copy\n",
      "/usr/local/bin/start_ipykernel.py:16: SettingWithCopyWarning: \n",
      "A value is trying to be set on a copy of a slice from a DataFrame.\n",
      "Try using .loc[row_indexer,col_indexer] = value instead\n",
      "\n",
      "See the caveats in the documentation: http://pandas.pydata.org/pandas-docs/stable/indexing.html#indexing-view-versus-copy\n"
     ]
    }
   ],
   "source": [
    "#Get BDT scores\n",
    "sig_A, sig_B = train_test_split(df_sig, test_size=0.5, random_state=10)\n",
    "bkg_A, bkg_B = train_test_split(df_bkg, test_size=0.5, random_state=10)\n",
    "sig_A_train_vars = sig_A[training_vars]\n",
    "sig_B_train_vars = sig_B[training_vars]\n",
    "bkg_A_train_vars = bkg_A[training_vars]\n",
    "bkg_B_train_vars = bkg_B[training_vars]\n",
    "\n",
    "sig_A[\"BDT_cc\"] = bdt_B.predict_proba(sig_A_train_vars).tolist()\n",
    "sig_B[\"BDT_cc\"] = bdt_A.predict_proba(sig_B_train_vars).tolist()\n",
    "bkg_A[\"BDT_cc\"] = bdt_B.predict_proba(bkg_A_train_vars).tolist()\n",
    "bkg_B[\"BDT_cc\"] = bdt_A.predict_proba(bkg_B_train_vars).tolist()\n",
    "sig_A['BDT_cc'] = sig_A['BDT_cc'].apply(lambda x: x[1] if isinstance(x, list) else x)\n",
    "sig_B['BDT_cc'] = sig_B['BDT_cc'].apply(lambda x: x[1] if isinstance(x, list) else x)\n",
    "bkg_A['BDT_cc'] = bkg_A['BDT_cc'].apply(lambda x: x[1] if isinstance(x, list) else x)\n",
    "bkg_B['BDT_cc'] = bkg_B['BDT_cc'].apply(lambda x: x[1] if isinstance(x, list) else x)"
   ]
  },
  {
   "cell_type": "code",
   "execution_count": 109,
   "metadata": {},
   "outputs": [],
   "source": [
    "#Combine the samples and plot signal and background BDTs\n",
    "sig_tot = sig_A.append(sig_B)\n",
    "bkg_tot = bkg_A.append(bkg_B)"
   ]
  },
  {
   "cell_type": "code",
   "execution_count": 115,
   "metadata": {},
   "outputs": [
    {
     "name": "stdout",
     "output_type": "stream",
     "text": [
      "BDT cut that keeps 10^-6 bkg = 0.995\n",
      "Signal eff. for this cut = 0.6330616443776212\n"
     ]
    }
   ],
   "source": [
    "#Find cut which keeps 1 background event i.e 10^-6 rejection\n",
    "BDT_cut = 0.\n",
    "n_bkg_tot = len(bkg_tot)\n",
    "df_bkg_cut = bkg_tot.copy()\n",
    "for i in range(0,10000):\n",
    "    cut = float(i)/10000.\n",
    "    df_bkg_cut = df_bkg_cut.query(f\"BDT_cc > {cut}\")\n",
    "    n_bkg_cut = float(len(df_bkg_cut))\n",
    "    if(n_bkg_cut == 1):\n",
    "        BDT_cut = cut\n",
    "        break\n",
    "\n",
    "print(\"BDT cut that keeps 10^-6 bkg = %s\" % BDT_cut)\n",
    "\n",
    "#Signal efficiency at this BDT cut\n",
    "n_sig_pass = float(len(sig_tot.query(f\"BDT_cc > {BDT_cut}\")))\n",
    "eff_sig_pass = n_sig_pass / len(sig_tot)\n",
    "print(\"Signal eff. for this cut = %s\" % eff_sig_pass)"
   ]
  },
  {
   "cell_type": "code",
   "execution_count": 111,
   "metadata": {},
   "outputs": [
    {
     "name": "stdout",
     "output_type": "stream",
     "text": [
      "KS score for signal A vs. B: 0.035732665535201096\n",
      "KS score for background A vs. B: 0.13586881521289126\n"
     ]
    }
   ],
   "source": [
    "#KS tests for signal and background\n",
    "ks_sig = ks_2samp(sig_A[\"BDT_cc\"],sig_B[\"BDT_cc\"])\n",
    "\n",
    "ks_bkg = ks_2samp(bkg_A[\"BDT_cc\"],bkg_B[\"BDT_cc\"])\n",
    "\n",
    "print(f\"KS score for signal A vs. B: {ks_sig[0]}\")\n",
    "print(f\"KS score for background A vs. B: {ks_bkg[0]}\")"
   ]
  },
  {
   "cell_type": "code",
   "execution_count": 112,
   "metadata": {},
   "outputs": [
    {
     "data": {
      "image/png": "[encoded data removed]",
      "text/plain": [
       "<Figure size 864x576 with 1 Axes>"
      ]
     },
     "metadata": {
      "needs_background": "light"
     },
     "output_type": "display_data"
    }
   ],
   "source": [
    "fig, ax = plt.subplots(figsize=(12,8))\n",
    "xmin = 0\n",
    "xmax = 1\n",
    "bins_bkg = int(np.sqrt(len(bkg_A)))\n",
    "bins_sig = int(np.sqrt(len(sig_A)))\n",
    "plt.hist(sig_A[\"BDT_cc\"],bins=bins_sig,range=(xmin,xmax),density=True,color=\"crimson\",histtype='step',linewidth=2,label=\"$B_c^+ \\\\to \\\\tau^+ \\\\nu_\\\\tau$ (BDT A)\")\n",
    "plt.hist(sig_B[\"BDT_cc\"],bins=bins_sig,range=(xmin,xmax),density=True,color=\"crimson\",histtype='stepfilled',alpha=0.5,linewidth=2,label=\"$B_c^+ \\\\to \\\\tau^+ \\\\nu_\\\\tau$ (BDT B)\")\n",
    "plt.hist(bkg_tot[\"BDT_cc\"],bins=bins_bkg,range=(xmin,xmax),density=True,color=\"#abd9e9\",histtype='step',linewidth=2,label=\"Inclusive $Z^0 \\\\to c\\\\bar{c}$ (BDT A)\")\n",
    "plt.hist(bkg_B[\"BDT_cc\"],bins=bins_bkg,range=(xmin,xmax),density=True,color=\"#abd9e9\",histtype='stepfilled',alpha=0.5,linewidth=2,label=\"Inclusive $Z^0 \\\\to c\\\\bar{c}$ (BDT B)\")\n",
    "ax.tick_params(axis='both', which='major', labelsize=25)\n",
    "plt.xlim(xmin,xmax)\n",
    "plt.xlabel(\"BDT score ($c\\\\bar{c}$)\",fontsize=30)\n",
    "plt.ylabel(\"Normalised counts\",fontsize=30)\n",
    "plt.yscale('log')\n",
    "ymin,ymax = plt.ylim()\n",
    "plt.ylim(ymin,50*ymax)\n",
    "plt.legend(fontsize=18, loc=\"upper left\")\n",
    "plt.show()\n",
    "fig.savefig(f\"{loc.PLOTS}/Bc2TauNu_vs_inclusive_Zcc_BDT.pdf\")"
   ]
  },
  {
   "cell_type": "code",
   "execution_count": 113,
   "metadata": {},
   "outputs": [],
   "source": [
    "#Save signal sample to ROOT file\n",
    "df_sig_out = read_root(f\"{path}/Bc2TauNu_Zuds_BDT.root\",\"events\")\n",
    "train_vars = df_sig_out[training_vars]\n",
    "df_sig_out[\"BDT_A\"] = bdt_A.predict_proba(train_vars).tolist()\n",
    "df_sig_out[\"BDT_A\"] = df_sig_out[\"BDT_A\"].apply(lambda x: x[1] if isinstance(x, list) else x)\n",
    "df_sig_out[\"BDT_B\"] = bdt_B.predict_proba(train_vars).tolist()\n",
    "df_sig_out[\"BDT_B\"] = df_sig_out[\"BDT_B\"].apply(lambda x: x[1] if isinstance(x, list) else x)\n",
    "df_sig_out[\"BDT_cc\"] = 0.5*(df_sig_out[\"BDT_A\"] + df_sig_out[\"BDT_B\"])\n",
    "df_sig_out = df_sig_out.drop(\"BDT_A\",1)\n",
    "df_sig_out = df_sig_out.drop(\"BDT_B\",1)\n",
    "\n",
    "root_file_name = f\"{path}/Bc2TauNu_Zuds_BDT_Zcc_BDT.root\"\n",
    "if os.path.exists(root_file_name):\n",
    "    os.remove(root_file_name)\n",
    "df_sig_out.to_root(root_file_name,\"events\")"
   ]
  },
  {
   "cell_type": "code",
   "execution_count": 114,
   "metadata": {},
   "outputs": [],
   "source": [
    "#Also apply MVA to the Z -> qq and Z -> bb samples\n",
    "for qq in [\"uds\",\"cc\",\"bb\"]:\n",
    "    df_qq = read_root(f\"{path}/inclusive_Z{qq}_Zuds_BDT.root\",\"events\")\n",
    "    train_vars = df_qq[training_vars]\n",
    "    df_qq[\"BDT_A\"] = bdt_A.predict_proba(train_vars).tolist()\n",
    "    df_qq[\"BDT_A\"] = df_qq[\"BDT_A\"].apply(lambda x: x[1] if isinstance(x, list) else x)\n",
    "    df_qq[\"BDT_B\"] = bdt_B.predict_proba(train_vars).tolist()\n",
    "    df_qq[\"BDT_B\"] = df_qq[\"BDT_B\"].apply(lambda x: x[1] if isinstance(x, list) else x)\n",
    "    df_qq[\"BDT_cc\"] = 0.5*(df_qq[\"BDT_A\"] + df_qq[\"BDT_B\"])\n",
    "    df_qq = df_qq.drop(\"BDT_A\",1)\n",
    "    df_qq = df_qq.drop(\"BDT_B\",1)\n",
    "    root_file_name = f\"{path}/inclusive_Z{qq}_Zuds_BDT_Zcc_BDT.root\"\n",
    "    if os.path.exists(root_file_name):\n",
    "        os.remove(root_file_name)\n",
    "    df_qq.to_root(root_file_name,\"events\")"
   ]
  }
 ],
 "metadata": {
  "kernelspec": {
   "display_name": "Python 3",
   "language": "python",
   "name": "python3"
  },
  "language_info": {
   "codemirror_mode": {
    "name": "ipython",
    "version": 3
   },
   "file_extension": ".py",
   "mimetype": "text/x-python",
   "name": "python",
   "nbconvert_exporter": "python",
   "pygments_lexer": "ipython3",
   "version": "3.7.6"
  }
 },
 "nbformat": 4,
 "nbformat_minor": 4
}

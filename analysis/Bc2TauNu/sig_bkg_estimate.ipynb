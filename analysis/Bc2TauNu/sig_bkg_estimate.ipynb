{
 "cells": [
  {
   "cell_type": "code",
   "execution_count": 13,
   "metadata": {},
   "outputs": [],
   "source": [
    "import sys,os\n",
    "import json\n",
    "import numpy as np\n",
    "import matplotlib.pyplot as plt\n",
    "from fcc_python_tools.locations import loc\n",
    "from fcc_python_tools import plotting\n",
    "import pandas as pd\n",
    "from root_pandas import read_root, to_root\n",
    "\n",
    "from matplotlib import rc\n",
    "rc('font',**{'family':'serif','serif':['Roman']})\n",
    "rc('text', usetex=True)"
   ]
  },
  {
   "cell_type": "code",
   "execution_count": 19,
   "metadata": {},
   "outputs": [
    {
     "name": "stdout",
     "output_type": "stream",
     "text": [
      "4.19e+12\n"
     ]
    }
   ],
   "source": [
    "#Total number of B hadrons from Z -> qq (N_Z x BF(Z -> q) x 2) - includes all species of quark\n",
    "N_Zqq = 3e12 * 0.6991 * 2\n",
    "print(\"%.2e\" % N_Zqq)"
   ]
  },
  {
   "cell_type": "code",
   "execution_count": 20,
   "metadata": {},
   "outputs": [
    {
     "name": "stdout",
     "output_type": "stream",
     "text": [
      "4.01e+06\n"
     ]
    }
   ],
   "source": [
    "#Number of Bc -> tau nu signal (multiply by Bc production rate and signal branching fraction from CEPC paper)\n",
    "#Include tau -> pi, 3pi, 3pipi0, pipi0 for the hadronic tau modes\n",
    "N_Bc2TauNu = N_Zbb * 7.9e-5 * 0.0236 * (0.1082 + 0.098 + 0.0476 + 0.2593)\n",
    "N_Bc2TauNu\n",
    "print(\"%.2e\" % N_Bc2TauNu)"
   ]
  },
  {
   "cell_type": "code",
   "execution_count": 21,
   "metadata": {},
   "outputs": [
    {
     "name": "stdout",
     "output_type": "stream",
     "text": [
      "9.57e-07\n"
     ]
    }
   ],
   "source": [
    "#Signal fraction at production\n",
    "f_sig = N_Bc2TauNu / N_Zqq\n",
    "print(\"%.2e\" % f_sig)"
   ]
  },
  {
   "cell_type": "code",
   "execution_count": 17,
   "metadata": {},
   "outputs": [
    {
     "name": "stdout",
     "output_type": "stream",
     "text": [
      "Background efficiency: 2.384017546369141e-10\n",
      "Signal efficiency: 0.0002492116488328828\n"
     ]
    }
   ],
   "source": [
    "#For a 50% pure sample of 1000 signal and 1000 background (3% BF measurement)\n",
    "eff_bkg = 1000./N_Zbb\n",
    "eff_sig = 1000./N_Bc2TauNu\n",
    "print(f\"Background efficiency: {eff_bkg}\")\n",
    "print(f\"Signal efficiency: {eff_sig}\")"
   ]
  },
  {
   "cell_type": "code",
   "execution_count": 22,
   "metadata": {},
   "outputs": [
    {
     "name": "stdout",
     "output_type": "stream",
     "text": [
      "Backround efficiency required: 0.00023840175463691414\n",
      "Signal efficiency required: 0.0013398475743703377\n",
      "Relative background rejection needed: 5.620124635453818\n"
     ]
    }
   ],
   "source": [
    "#BDT performance at present (based on 10^6 events) and how much we need to gain for 50% purity\n",
    "\n",
    "#We reject all 10^6 background events in the training at this cut\n",
    "eff_bkg_BDT = 1e-6\n",
    "bkg_eff_needed = eff_bkg / eff_bkg_BDT\n",
    "print(f\"Backround efficiency required: {bkg_eff_needed}\")\n",
    "\n",
    "#Signal efficiency at BDT > 10 cut\n",
    "eff_sig_BDT = 0.186\n",
    "sig_eff_needed = eff_sig/ eff_sig_BDT\n",
    "print(f\"Signal efficiency required: {sig_eff_needed}\")\n",
    "\n",
    "#Relative background rejection needed\n",
    "bkg_rel = sig_eff_needed / bkg_eff_needed\n",
    "print(f\"Relative background rejection needed: {bkg_rel}\")"
   ]
  }
 ],
 "metadata": {
  "kernelspec": {
   "display_name": "Python 3",
   "language": "python",
   "name": "python3"
  },
  "language_info": {
   "codemirror_mode": {
    "name": "ipython",
    "version": 3
   },
   "file_extension": ".py",
   "mimetype": "text/x-python",
   "name": "python",
   "nbconvert_exporter": "python",
   "pygments_lexer": "ipython3",
   "version": "3.7.6"
  }
 },
 "nbformat": 4,
 "nbformat_minor": 4
}

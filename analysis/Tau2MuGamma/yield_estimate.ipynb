{
 "cells": [
  {
   "cell_type": "code",
   "execution_count": 7,
   "metadata": {},
   "outputs": [
    {
     "name": "stdout",
     "output_type": "stream",
     "text": [
      "{'Bu': 48762000000.0, 'Bd': 48762000000.0, 'Bs': 11113200000.0, 'Bc': 45360000.0, 'tau': 25275000000.0, 'Dd': 38796750000.0}\n"
     ]
    }
   ],
   "source": [
    "import json\n",
    "from fcc_python_tools.locations import loc\n",
    "\n",
    "#Load species yields per year per IP at FCC-ee\n",
    "with open(f'{loc.JSON}/FCCee_species_yields.json','r') as json_file:\n",
    "    dict = json.load(json_file)\n",
    "print(dict)"
   ]
  },
  {
   "cell_type": "code",
   "execution_count": 3,
   "metadata": {},
   "outputs": [
    {
     "name": "stdout",
     "output_type": "stream",
     "text": [
      "N(FCC-ee) = 25\n"
     ]
    }
   ],
   "source": [
    "#tau -> mu gamma branching fraction (SM)\n",
    "BF = 1e-9\n",
    "\n",
    "#Total number expected at FCC-ee per year per IP\n",
    "N_FCCee = dict[\"tau\"] * BF\n",
    "print(\"N(FCC-ee) = %.0f\" % N_FCCee)"
   ]
  },
  {
   "cell_type": "code",
   "execution_count": 6,
   "metadata": {},
   "outputs": [
    {
     "data": {
      "text/plain": [
       "6.181998021760633e-11"
      ]
     },
     "execution_count": 6,
     "metadata": {},
     "output_type": "execute_result"
    }
   ],
   "source": [
    "#Calculate limit of observation, so branching fraction needed to see 25 events\n",
    "#Assume 4 IPs and 4 years of running\n",
    "BF_limit = 25/(dict[\"tau\"]*4*4)\n",
    "BF_limit"
   ]
  }
 ],
 "metadata": {
  "kernelspec": {
   "display_name": "Python 3",
   "language": "python",
   "name": "python3"
  },
  "language_info": {
   "codemirror_mode": {
    "name": "ipython",
    "version": 3
   },
   "file_extension": ".py",
   "mimetype": "text/x-python",
   "name": "python",
   "nbconvert_exporter": "python",
   "pygments_lexer": "ipython3",
   "version": "3.7.6"
  }
 },
 "nbformat": 4,
 "nbformat_minor": 4
}

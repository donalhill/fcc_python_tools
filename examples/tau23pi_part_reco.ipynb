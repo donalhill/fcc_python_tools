{
 "cells": [
  {
   "cell_type": "markdown",
   "metadata": {},
   "source": [
    "## Truth-matching cut based on mass of parent for a partially reconstructed decay \n",
    "\n",
    "In this example, we select reconstructed pions and match them to their generated truth-level partners using the minumum angle method. We create $\\tau \\to 3\\pi \\nu$ candidates from the pions, using both the reco and matched truth-level tracks. The true decay involves a neutrino which is not reconstructed, but at the generator level we can add a neutrino to the three pions and check the invariant mass of this combination. We can then cut on the *true* mass of the parent, requiring it to be close to the PDG $\\tau$ mass. In this way, we can select the genuine reconstructed $\\tau$'s in our sample, separating them from the $3\\pi$ combinations from other sources."
   ]
  },
  {
   "cell_type": "code",
   "execution_count": 19,
   "metadata": {},
   "outputs": [],
   "source": [
    "import sys,os\n",
    "import uproot4 as uproot\n",
    "import awkward1 as ak\n",
    "import json\n",
    "import numpy as np\n",
    "import matplotlib.pyplot as plt\n",
    "from fcc_python_tools.locations import loc\n",
    "from fcc_python_tools import kinematics\n",
    "from particle import literals as lp\n",
    "from fcc_python_tools import plotting\n",
    "\n",
    "from matplotlib import rc\n",
    "rc('font',**{'family':'serif','serif':['Roman']})\n",
    "rc('text', usetex=True)\n",
    "\n",
    "file = uproot.open(\"/eos/experiment/fcc/ee/tmp/fcc_python_tools/FCCDelphesOutput_0.root\")\n",
    "tree = file['events']\n",
    "n_events = 200000"
   ]
  },
  {
   "cell_type": "markdown",
   "metadata": {},
   "source": [
    "Get the reco stable hadrons:"
   ]
  },
  {
   "cell_type": "code",
   "execution_count": 20,
   "metadata": {},
   "outputs": [],
   "source": [
    "h_container = \"efcharged.core\"\n",
    "h = tree.arrays(filter_name=f\"{h_container}*\",how=\"zip\")[:n_events]\n",
    "h[h_container,'p4.p'] = kinematics.calc_p(h,h_container)\n",
    "h = h[h[h_container,'p4.p'] > 2.]"
   ]
  },
  {
   "cell_type": "markdown",
   "metadata": {},
   "source": [
    "Keep only the pions:"
   ]
  },
  {
   "cell_type": "code",
   "execution_count": 21,
   "metadata": {},
   "outputs": [],
   "source": [
    "h_pi_cut = abs(h[h_container]['pdgId']) == abs(lp.pi_plus.pdgid)\n",
    "h = h[h_pi_cut]"
   ]
  },
  {
   "cell_type": "markdown",
   "metadata": {},
   "source": [
    "Get the generated particles:"
   ]
  },
  {
   "cell_type": "code",
   "execution_count": null,
   "metadata": {},
   "outputs": [],
   "source": [
    "g_container = \"genParticles.core\"\n",
    "g = tree.arrays(filter_name=f\"{g_container}*\",how=\"zip\")[:n_events]\n",
    "g[g_container,'p4.p'] = kinematics.calc_p(g,g_container)\n",
    "g = g[g[g_container,'p4.p'] > 2.]"
   ]
  },
  {
   "cell_type": "markdown",
   "metadata": {},
   "source": [
    "Keep only the pions and neutrinos (to use later) from the generated particles:"
   ]
  },
  {
   "cell_type": "code",
   "execution_count": null,
   "metadata": {},
   "outputs": [],
   "source": [
    "g_pi_cut = abs(g[g_container]['pdgId']) == abs(lp.pi_plus.pdgid)\n",
    "g_pi = g[g_pi_cut]\n",
    "g_nu_cut = abs(g[g_container]['pdgId']) == abs(lp.nu_tau.pdgid)\n",
    "g_nu = g[g_nu_cut]"
   ]
  },
  {
   "cell_type": "markdown",
   "metadata": {},
   "source": [
    "Match the reco and true pions based on minimum angle:"
   ]
  },
  {
   "cell_type": "code",
   "execution_count": null,
   "metadata": {},
   "outputs": [],
   "source": [
    "pairs = ak.cartesian({\"reco\": h[h_container], \"gen\": g_pi[g_container]}, nested=True)\n",
    "pairs[\"costheta\"] = kinematics.cos_angle(pairs[\"reco\"], pairs[\"gen\"])\n",
    "best_pair = pairs[ak.singletons(ak.argmax(pairs[\"costheta\"], axis=2))]\n",
    "h[\"match\"] = ak.firsts(best_pair, axis=2)"
   ]
  },
  {
   "cell_type": "markdown",
   "metadata": {},
   "source": [
    "Invariant mass of the reco and matched true pair, keeping only those with physical charge combinations"
   ]
  },
  {
   "cell_type": "code",
   "execution_count": null,
   "metadata": {},
   "outputs": [],
   "source": [
    "threepi = ak.combinations(h[\"match\"],3)\n",
    "threepi[\"pi1\"], threepi[\"pi2\"], threepi[\"pi3\"] = ak.unzip(threepi)\n",
    "\n",
    "charge_cut = abs(threepi[\"pi1\"][\"reco\",\"charge\"] + threepi[\"pi2\"][\"reco\",\"charge\"] + threepi[\"pi3\"][\"reco\",\"charge\"]) == 1\n",
    "threepi = threepi[charge_cut]\n",
    "\n",
    "PDG_pi_m = lp.pi_plus.mass/1000.\n",
    "for x in [\"reco\",\"gen\"]:\n",
    "    threepi[f\"mass_{x}\"] = kinematics.mass_3body(threepi[\"pi1\"][x],\n",
    "                                                 threepi[\"pi2\"][x],\n",
    "                                                 threepi[\"pi3\"][x],\n",
    "                                                 PDG_pi_m, \n",
    "                                                 PDG_pi_m,\n",
    "                                                 PDG_pi_m)"
   ]
  },
  {
   "cell_type": "markdown",
   "metadata": {},
   "source": [
    "Pair the true nuetrinos with the true $3\\pi$ combinations:"
   ]
  },
  {
   "cell_type": "code",
   "execution_count": null,
   "metadata": {},
   "outputs": [],
   "source": [
    "tau = ak.cartesian({\"threepi\": threepi, \"nu\": g_nu[g_container]})\n",
    "PDG_nu_m = 0.\n",
    "tau[\"mass_gen\"] = kinematics.mass_4body(tau[\"threepi\"][\"pi1\"][\"gen\"],\n",
    "                                        tau[\"threepi\"][\"pi2\"][\"gen\"],\n",
    "                                        tau[\"threepi\"][\"pi3\"][\"gen\"],\n",
    "                                        tau[\"nu\"],\n",
    "                                        PDG_pi_m, \n",
    "                                        PDG_pi_m,\n",
    "                                        PDG_pi_m,\n",
    "                                        PDG_nu_m)"
   ]
  },
  {
   "cell_type": "markdown",
   "metadata": {},
   "source": [
    "Require that the true $m(3\\pi\\nu)$ is consistent with $m(\\tau)$, and use that as a truth-matching requirement. Then plot the reconstructed $3\\pi$ mass, up to a limit of $m(\\tau)$. Show the events passing and failing the $\\tau$ truth requirement separately."
   ]
  },
  {
   "cell_type": "code",
   "execution_count": null,
   "metadata": {},
   "outputs": [],
   "source": [
    "tau_PDG_m = lp.tau_plus.mass/1000.\n",
    "low = 3*PDG_pi_m\n",
    "high = tau_PDG_m\n",
    "\n",
    "truth_cut = abs(tau[\"mass_gen\"] - tau_PDG_m) < 0.0005\n",
    "\n",
    "bins = 50\n",
    "fig, ax = plt.subplots(figsize=(8,8))\n",
    "#Total data\n",
    "plt.hist(ak.flatten(tau[\"threepi\"][\"mass_reco\"]),bins=bins,range=(low,high),histtype='step',color='k',linewidth=1.5)\n",
    "#Filled to represent the fake taus\n",
    "plt.hist(ak.flatten(tau[\"threepi\"][\"mass_reco\"]),bins=bins,range=(low,high),histtype='stepfilled',color='dodgerblue',linewidth=1.5)\n",
    "#Events passing the truth cut \n",
    "plt.hist(ak.flatten(tau[\"threepi\"][\"mass_reco\"][truth_cut]),bins=bins,range=(low,high),histtype='stepfilled',color='crimson',linewidth=1.5)\n",
    "\n",
    "plt.xlabel(\"$m(3\\pi)$ [GeV/$c^2$]\",fontsize=30)\n",
    "plt.xlim(low,high)\n",
    "ax.tick_params(axis='both', which='major', labelsize=25)\n",
    "plt.tight_layout()\n",
    "plt.yscale('log')\n",
    "ymin, ymax = plt.ylim()\n",
    "plt.ylim(0.1,ymax*5.)\n",
    "plt.show()\n",
    "fig.savefig(f\"{loc.PLOTS}/tau23pi_MC_match.pdf\")"
   ]
  },
  {
   "cell_type": "code",
   "execution_count": null,
   "metadata": {},
   "outputs": [],
   "source": []
  }
 ],
 "metadata": {
  "kernelspec": {
   "display_name": "Python 3",
   "language": "python",
   "name": "python3"
  },
  "language_info": {
   "codemirror_mode": {
    "name": "ipython",
    "version": 3
   },
   "file_extension": ".py",
   "mimetype": "text/x-python",
   "name": "python",
   "nbconvert_exporter": "python",
   "pygments_lexer": "ipython3",
   "version": "3.7.6"
  }
 },
 "nbformat": 4,
 "nbformat_minor": 4
}

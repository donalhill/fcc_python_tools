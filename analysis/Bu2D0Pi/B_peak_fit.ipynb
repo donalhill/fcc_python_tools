{
 "cells": [
  {
   "cell_type": "markdown",
   "metadata": {},
   "source": [
    "# Create $D^0$ candidates then $B$ candidates, and fit the $B$ mass peak\n",
    "\n",
    "Make use of exclusive $B^\\pm \\to D^0 \\pi^\\pm$ sample created using EvtGen"
   ]
  },
  {
   "cell_type": "code",
   "execution_count": 52,
   "metadata": {},
   "outputs": [],
   "source": [
    "import sys,os\n",
    "import uproot4 as uproot\n",
    "import awkward1 as ak\n",
    "import json\n",
    "import numpy as np\n",
    "import matplotlib.pyplot as plt\n",
    "from fcc_python_tools.locations import loc\n",
    "from fcc_python_tools import kinematics_flat\n",
    "from particle import literals as lp\n",
    "from fcc_python_tools import plotting\n",
    "import tensorflow as tf\n",
    "import zfit\n",
    "import random\n",
    "\n",
    "from matplotlib import rc\n",
    "rc('font',**{'family':'serif','serif':['Roman']})\n",
    "rc('text', usetex=True)"
   ]
  },
  {
   "cell_type": "markdown",
   "metadata": {},
   "source": [
    "Load MC from `FCCAnalyses` output, where recontructed particles are stored in `rec_part` branches. Use `zip` function in `awkward array` to group all of the `rec_part` branches together."
   ]
  },
  {
   "cell_type": "code",
   "execution_count": 53,
   "metadata": {},
   "outputs": [],
   "source": [
    "mode = \"Bu2D0Pi\"\n",
    "path = loc.FLAT + f'/p8_ee_Zbb_ecm91_EvtGen_{mode}.root'\n",
    "file = uproot.open(path)\n",
    "tree = file['events']\n",
    "\n",
    "events = tree.arrays(library=\"ak\", how=\"zip\")\n",
    "\n",
    "#Number of events to keep and analyse\n",
    "n_events = 10000\n",
    "\n",
    "#Container for the reco particles\n",
    "p_c = 'rec_part'\n",
    "p = events[p_c][:n_events]"
   ]
  },
  {
   "cell_type": "markdown",
   "metadata": {},
   "source": [
    "Calculate the total momentum for the particles"
   ]
  },
  {
   "cell_type": "code",
   "execution_count": 54,
   "metadata": {},
   "outputs": [],
   "source": [
    "p[\"p\"] = kinematics_flat.calc_p(p)\n",
    "p_cut = p[\"p\"] > 1.\n",
    "p = p[p_cut]"
   ]
  },
  {
   "cell_type": "markdown",
   "metadata": {},
   "source": [
    "Make pion and kaon samples based on track masses, then combine them into $D^0 \\to K \\pi$ candidates. Apply a cut around the $D^0$ mass."
   ]
  },
  {
   "cell_type": "code",
   "execution_count": 55,
   "metadata": {},
   "outputs": [],
   "source": [
    "pi_cut = abs(p[\"mass\"] - lp.pi_plus.mass/1000.) < 1e-4\n",
    "pi = p[pi_cut]\n",
    "\n",
    "k_cut = abs(p[\"mass\"] - lp.K_plus.mass/1000.) < 1e-4\n",
    "k = p[k_cut]\n",
    "\n",
    "D = ak.cartesian({\"k\": k, \"pi\": pi})\n",
    "D_cut = np.sign(D[\"k\",\"charge\"]) != np.sign(D[\"pi\",\"charge\"])\n",
    "D = D[D_cut]\n",
    "\n",
    "PDG_K_m = lp.K_plus.mass/1000.\n",
    "PDG_pi_m = lp.pi_plus.mass/1000.\n",
    "D[\"mass\"] = kinematics_flat.mass([D[\"k\"], D[\"pi\"]], [PDG_K_m, PDG_pi_m])\n",
    "\n",
    "PDG_D_m = lp.D_0.mass/1000.\n",
    "D_window = 0.05\n",
    "D_cut = abs(D[\"mass\"] - PDG_D_m) < D_window\n",
    "D = D[D_cut]"
   ]
  },
  {
   "cell_type": "markdown",
   "metadata": {},
   "source": [
    "Make $B$ candidates by combining the $D^0$'s from above with pions."
   ]
  },
  {
   "cell_type": "code",
   "execution_count": 56,
   "metadata": {},
   "outputs": [],
   "source": [
    "B = ak.cartesian({\"D_k\": D[\"k\"], \"D_pi\": D[\"pi\"], \"pi\": pi})\n",
    "B_cut = np.sign(B[\"D_k\",\"charge\"]) == np.sign(B[\"pi\",\"charge\"])\n",
    "B = B[B_cut]\n",
    "B[\"mass\"] = kinematics_flat.mass([B[\"D_k\"], B[\"D_pi\"], B[\"pi\"]], [PDG_K_m, PDG_pi_m, PDG_pi_m])"
   ]
  },
  {
   "cell_type": "markdown",
   "metadata": {},
   "source": [
    "Fit the $B$ mass distribution using `zfit`."
   ]
  },
  {
   "cell_type": "code",
   "execution_count": 57,
   "metadata": {},
   "outputs": [],
   "source": [
    "PDG_B_m = lp.B_plus.mass/1000.\n",
    "B_window = 0.06\n",
    "B_m_cut = abs(B[\"mass\"] - PDG_B_m) < B_window\n",
    "B = B[B_m_cut]\n",
    "low = PDG_B_m - B_window\n",
    "high = PDG_B_m + B_window\n",
    "obs = zfit.Space('mB', limits=(low, high))\n",
    "\n",
    "#Signal PDF\n",
    "rand = random.randint(0,999)\n",
    "B_mu = zfit.Parameter(f\"B_mu_{rand}\", PDG_B_m, low, high)\n",
    "B_sigma = zfit.Parameter(f\"B_sigma_{rand}\", 0.005, 0., 0.1)\n",
    "B_alphaL = zfit.Parameter(f\"B_alphaL_{rand}\", 0.2, 0., 5.)\n",
    "B_nL = zfit.Parameter(f\"B_nL_{rand}\", 10., 0., 200.)\n",
    "B_alphaR = zfit.Parameter(f\"B_alphaR_{rand}\", -0.2, -5., 0.)\n",
    "B_nR = zfit.Parameter(f\"B_nR_{rand}\", 10., 0., 200.)\n",
    "frac = zfit.Parameter(f\"frac_{rand}\", 0.5, 0., 1.)\n",
    "\n",
    "pdf_sigL = zfit.pdf.CrystalBall(obs=obs, mu=B_mu, sigma=B_sigma, alpha=B_alphaL, n=B_nL)\n",
    "pdf_sigR = zfit.pdf.CrystalBall(obs=obs, mu=B_mu, sigma=B_sigma, alpha=B_alphaR, n=B_nR)\n",
    "pdf = zfit.pdf.SumPDF([pdf_sigL, pdf_sigR], frac)"
   ]
  },
  {
   "cell_type": "markdown",
   "metadata": {},
   "source": [
    "Make dataset for `zfit`, passing in the mass values of the $B$ candidates."
   ]
  },
  {
   "cell_type": "code",
   "execution_count": 58,
   "metadata": {},
   "outputs": [],
   "source": [
    "data_np = ak.to_numpy(ak.flatten(B[\"mass\"]))\n",
    "data = zfit.Data.from_numpy(obs=obs, array=data_np)"
   ]
  },
  {
   "cell_type": "code",
   "execution_count": 59,
   "metadata": {},
   "outputs": [
    {
     "name": "stdout",
     "output_type": "stream",
     "text": [
      "┌──────────────────────────────────┬──────────────────────────────────────┐\n",
      "│ FCN = -2.437e+04                 │       Ncalls = 844 (844 total)       │\n",
      "│ EDM = 4.15e-06 (Goal: 1e-05)     │               up = 0.5               │\n",
      "├───────────────┬──────────────────┼──────────────────────────────────────┤\n",
      "│ Valid Minimum │ Valid Parameters │        No Parameters at limit        │\n",
      "├───────────────┴──────────────────┼──────────────────────────────────────┤\n",
      "│ Below EDM threshold (goal x 10)  │           Below call limit           │\n",
      "├───────────────┬──────────────────┼───────────┬─────────────┬────────────┤\n",
      "│   Hesse ok    │  Has Covariance  │ Accurate  │  Pos. def.  │ Not forced │\n",
      "└───────────────┴──────────────────┴───────────┴─────────────┴────────────┘\n",
      "m(B) fit function minimum: -24373.162901746357\n",
      "m(B) fit converged: True\n",
      "m(B) fit full minimizer information: {'n_eval': 844, 'n_iter': 844, 'original': FMin(fval=-24373.162901746357, edm=4.149192675761959e-06, tolerance=0.01, nfcn=844, ncalls=844, up=0.5, is_valid=True, has_valid_parameters=True, has_accurate_covar=True, has_posdef_covar=True, has_made_posdef_covar=False, hesse_failed=False, has_covariance=True, is_above_max_edm=False, has_reached_call_limit=False, has_parameters_at_limit=False)}\n",
      "name             value         minuit_minos    at limit\n",
      "------------  --------  -------------------  ----------\n",
      "frac_660        0.5191  -  0.063   +  0.057       False\n",
      "B_alphaL_660    0.7519  -   0.11   +    0.1       False\n",
      "B_mu_660         5.279  -0.00012   +0.00013       False\n",
      "B_nL_660         4.374  -   0.84   +    1.5       False\n",
      "B_sigma_660   0.005641  -0.00018   +0.00018       False\n",
      "B_alphaR_660    -0.641  -   0.11   +  0.098       False\n",
      "B_nR_660          5.31  -    1.4   +    2.8       False\n"
     ]
    }
   ],
   "source": [
    "nll = zfit.loss.UnbinnedNLL(model=pdf, data=data)\n",
    "minimizer = zfit.minimize.Minuit(tolerance=1e-5)\n",
    "result = minimizer.minimize(nll)\n",
    "param_errors, _ = result.errors(method=\"minuit_minos\")\n",
    "\n",
    "print(\"m(B) fit function minimum:\", result.fmin)\n",
    "print(\"m(B) fit converged:\", result.converged)\n",
    "print(\"m(B) fit full minimizer information:\", result.info)\n",
    "\n",
    "params = result.params\n",
    "print(params)"
   ]
  },
  {
   "cell_type": "markdown",
   "metadata": {},
   "source": [
    "Plot the fit result and MC $B$ peak."
   ]
  },
  {
   "cell_type": "code",
   "execution_count": 60,
   "metadata": {},
   "outputs": [
    {
     "name": "stdout",
     "output_type": "stream",
     "text": [
      "WARNING:tensorflow:8 out of the last 12 calls to <function crystalball_func at 0x7efbe03ea950> triggered tf.function retracing. Tracing is expensive and the excessive number of tracings could be due to (1) creating @tf.function repeatedly in a loop, (2) passing tensors with different shapes, (3) passing Python objects instead of tensors. For (1), please define your @tf.function outside of the loop. For (2), @tf.function has experimental_relax_shapes=True option that relaxes argument shapes that can avoid unnecessary retracing. For (3), please refer to https://www.tensorflow.org/tutorials/customization/performance#python_or_tensor_args and https://www.tensorflow.org/api_docs/python/tf/function for  more details.\n"
     ]
    },
    {
     "name": "stderr",
     "output_type": "stream",
     "text": [
      "WARNING:tensorflow:8 out of the last 12 calls to <function crystalball_func at 0x7efbe03ea950> triggered tf.function retracing. Tracing is expensive and the excessive number of tracings could be due to (1) creating @tf.function repeatedly in a loop, (2) passing tensors with different shapes, (3) passing Python objects instead of tensors. For (1), please define your @tf.function outside of the loop. For (2), @tf.function has experimental_relax_shapes=True option that relaxes argument shapes that can avoid unnecessary retracing. For (3), please refer to https://www.tensorflow.org/tutorials/customization/performance#python_or_tensor_args and https://www.tensorflow.org/api_docs/python/tf/function for  more details.\n"
     ]
    },
    {
     "name": "stdout",
     "output_type": "stream",
     "text": [
      "WARNING:tensorflow:9 out of the last 13 calls to <function crystalball_func at 0x7efbe03ea950> triggered tf.function retracing. Tracing is expensive and the excessive number of tracings could be due to (1) creating @tf.function repeatedly in a loop, (2) passing tensors with different shapes, (3) passing Python objects instead of tensors. For (1), please define your @tf.function outside of the loop. For (2), @tf.function has experimental_relax_shapes=True option that relaxes argument shapes that can avoid unnecessary retracing. For (3), please refer to https://www.tensorflow.org/tutorials/customization/performance#python_or_tensor_args and https://www.tensorflow.org/api_docs/python/tf/function for  more details.\n"
     ]
    },
    {
     "name": "stderr",
     "output_type": "stream",
     "text": [
      "WARNING:tensorflow:9 out of the last 13 calls to <function crystalball_func at 0x7efbe03ea950> triggered tf.function retracing. Tracing is expensive and the excessive number of tracings could be due to (1) creating @tf.function repeatedly in a loop, (2) passing tensors with different shapes, (3) passing Python objects instead of tensors. For (1), please define your @tf.function outside of the loop. For (2), @tf.function has experimental_relax_shapes=True option that relaxes argument shapes that can avoid unnecessary retracing. For (3), please refer to https://www.tensorflow.org/tutorials/customization/performance#python_or_tensor_args and https://www.tensorflow.org/api_docs/python/tf/function for  more details.\n"
     ]
    },
    {
     "data": {
      "image/png": "[encoded data removed]",
      "text/plain": [
       "<Figure size 576x576 with 1 Axes>"
      ]
     },
     "metadata": {
      "needs_background": "light"
     },
     "output_type": "display_data"
    }
   ],
   "source": [
    "fig,ax = plt.subplots(figsize=(8,8))\n",
    "lower, upper = obs.limits\n",
    "low = lower[-1][0]\n",
    "high = upper[0][0]\n",
    "bin_width = 0.002\n",
    "bins = int(float(high - low)/bin_width)\n",
    "counts, bin_edges = np.histogram(data_np, bins, range=(low,high))\n",
    "bin_centres = (bin_edges[:-1] + bin_edges[1:])/2.\n",
    "err = np.sqrt(counts)\n",
    "plt.errorbar(bin_centres, counts, yerr=err, fmt='o', markersize=3, color='black')\n",
    "x_plot = np.linspace(low, high, num=1000)\n",
    "y_plot_tot = zfit.run(pdf.pdf(x_plot, norm_range=obs))\n",
    "plt.plot(x_plot, y_plot_tot*len(data_np)/bins*obs.area(), color='navy', linewidth=2.5, alpha=0.6)\n",
    "ax.tick_params(axis='both', which='major', labelsize=25)\n",
    "plt.ylabel(\"Candidates / (%.3f GeV/$c^2$)\" % bin_width,fontsize=25)\n",
    "plt.xlabel(\"$m([K^\\pm \\pi^\\mp]_D \\pi^\\pm)$ [GeV/$c^2$]\",fontsize=25)\n",
    "plt.xlim(low,high)\n",
    "ymin, ymax = plt.ylim()\n",
    "plt.ylim(0,1.05*ymax)\n",
    "plt.tight_layout()\n",
    "fig.savefig(loc.PLOTS+f\"/{mode}_B_M_fit.pdf\")"
   ]
  }
 ],
 "metadata": {
  "kernelspec": {
   "display_name": "Python 3",
   "language": "python",
   "name": "python3"
  },
  "language_info": {
   "codemirror_mode": {
    "name": "ipython",
    "version": 3
   },
   "file_extension": ".py",
   "mimetype": "text/x-python",
   "name": "python",
   "nbconvert_exporter": "python",
   "pygments_lexer": "ipython3",
   "version": "3.7.6"
  }
 },
 "nbformat": 4,
 "nbformat_minor": 4
}

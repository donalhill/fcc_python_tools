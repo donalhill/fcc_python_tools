{
 "cells": [
  {
   "cell_type": "markdown",
   "metadata": {},
   "source": [
    "## Truth-matching cut based on mass of parent \n",
    "\n",
    "In this example, we select reconstructed kaons and pions and match them to their generated truth-level partners using the minumum angle method. We create $D^0$ candidates from the $K$ and $\\pi$, both using the reco and matched truth-level tracks. This lets us calculate the reco and true parent invariant mass values. We then cut on the *true* mass of the parent, requiring it to be close to the PDG $D^0$ mass. In this way, we can select the genuine $D^0$'s in our sample, and remove the combinatorial background.\n",
    "\n",
    "This method only works in the case where you fully reconstruct a decay, such that the true mass of the particle combination corresponds to a specific particle. For partially reconstructed decays, this approach cannot be used."
   ]
  },
  {
   "cell_type": "code",
   "execution_count": 1,
   "metadata": {},
   "outputs": [],
   "source": [
    "import sys,os\n",
    "import uproot4 as uproot\n",
    "import awkward1 as ak\n",
    "import json\n",
    "import numpy as np\n",
    "import matplotlib.pyplot as plt\n",
    "from fcc_python_tools.locations import loc\n",
    "from fcc_python_tools import kinematics\n",
    "from particle import literals as lp\n",
    "from fcc_python_tools import plotting\n",
    "\n",
    "#from matplotlib import rc\n",
    "#rc('font',**{'family':'serif','serif':['Roman']})\n",
    "#rc('text', usetex=True)\n",
    "\n",
    "file = uproot.open(\"/eos/experiment/fcc/ee/tmp/fcc_python_tools/FCCDelphesOutput_0.root\")\n",
    "tree = file['events']\n",
    "n_events = 100000"
   ]
  },
  {
   "cell_type": "markdown",
   "metadata": {},
   "source": [
    "Get the reco stable hadrons:"
   ]
  },
  {
   "cell_type": "code",
   "execution_count": null,
   "metadata": {},
   "outputs": [],
   "source": [
    "h_container = \"efcharged.core\"\n",
    "h = tree.arrays(filter_name=f\"{h_container}*\",how=\"zip\")[:n_events]\n",
    "h[h_container,'p4.p'] = kinematics.calc_p(h,h_container)"
   ]
  },
  {
   "cell_type": "markdown",
   "metadata": {},
   "source": [
    "Get the generated particles:"
   ]
  },
  {
   "cell_type": "code",
   "execution_count": null,
   "metadata": {},
   "outputs": [],
   "source": [
    "g_container = \"genParticles.core\"\n",
    "g = tree.arrays(filter_name=f\"{g_container}*\",how=\"zip\")[:n_events]\n",
    "g[g_container,'p4.p'] = kinematics.calc_p(g,g_container)"
   ]
  },
  {
   "cell_type": "markdown",
   "metadata": {},
   "source": [
    "Keep only the kaons and pions from the generated particles:"
   ]
  },
  {
   "cell_type": "code",
   "execution_count": null,
   "metadata": {},
   "outputs": [],
   "source": [
    "g_pi_cut = abs(g[g_container]['pdgId']) == abs(lp.pi_plus.pdgid)\n",
    "g_K_cut = abs(g[g_container]['pdgId']) == abs(lp.K_plus.pdgid)\n",
    "g = g[np.logical_or(g_pi_cut,g_K_cut)]"
   ]
  },
  {
   "cell_type": "markdown",
   "metadata": {},
   "source": [
    "Match them based on minimum angle:"
   ]
  },
  {
   "cell_type": "code",
   "execution_count": null,
   "metadata": {},
   "outputs": [],
   "source": [
    "pairs = ak.cartesian({\"reco\": h[h_container], \"gen\": g[g_container]}, nested=True)\n",
    "pairs[\"costheta\"] = kinematics.cos_angle(pairs[\"reco\"], pairs[\"gen\"])\n",
    "best_pair = pairs[ak.singletons(ak.argmax(pairs[\"costheta\"], axis=2))]\n",
    "h[\"match\"] = ak.firsts(best_pair, axis=2)"
   ]
  },
  {
   "cell_type": "markdown",
   "metadata": {},
   "source": [
    "Invariant mass of the reco and matched true pair, keeping only those with opposite $K$ and $\\pi$ charge:"
   ]
  },
  {
   "cell_type": "code",
   "execution_count": 5,
   "metadata": {},
   "outputs": [
    {
     "ename": "NameError",
     "evalue": "name 'h' is not defined",
     "output_type": "error",
     "traceback": [
      "\u001b[0;31m---------------------------------------------------------------------------\u001b[0m",
      "\u001b[0;31mNameError\u001b[0m                                 Traceback (most recent call last)",
      "\u001b[0;32m<ipython-input-5-db3bff6f69d3>\u001b[0m in \u001b[0;36m<module>\u001b[0;34m\u001b[0m\n\u001b[0;32m----> 1\u001b[0;31m D = ak.cartesian({\"k\": h[\"match\"][abs(h[\"match\",\"reco\",\"pdgId\"])==lp.K_plus.pdgid], \n\u001b[0m\u001b[1;32m      2\u001b[0m                   \"pi\": h[\"match\"][abs(h[\"match\",\"reco\",\"pdgId\"])==lp.pi_plus.pdgid]})\n\u001b[1;32m      3\u001b[0m \u001b[0;34m\u001b[0m\u001b[0m\n\u001b[1;32m      4\u001b[0m \u001b[0mD_ID_cut\u001b[0m \u001b[0;34m=\u001b[0m \u001b[0mnp\u001b[0m\u001b[0;34m.\u001b[0m\u001b[0msign\u001b[0m\u001b[0;34m(\u001b[0m\u001b[0mD\u001b[0m\u001b[0;34m[\u001b[0m\u001b[0;34m\"k\"\u001b[0m\u001b[0;34m]\u001b[0m\u001b[0;34m[\u001b[0m\u001b[0;34m\"reco\"\u001b[0m\u001b[0;34m,\u001b[0m\u001b[0;34m\"pdgId\"\u001b[0m\u001b[0;34m]\u001b[0m\u001b[0;34m)\u001b[0m \u001b[0;34m!=\u001b[0m \u001b[0mnp\u001b[0m\u001b[0;34m.\u001b[0m\u001b[0msign\u001b[0m\u001b[0;34m(\u001b[0m\u001b[0mD\u001b[0m\u001b[0;34m[\u001b[0m\u001b[0;34m\"pi\"\u001b[0m\u001b[0;34m]\u001b[0m\u001b[0;34m[\u001b[0m\u001b[0;34m\"reco\"\u001b[0m\u001b[0;34m,\u001b[0m\u001b[0;34m\"pdgId\"\u001b[0m\u001b[0;34m]\u001b[0m\u001b[0;34m)\u001b[0m\u001b[0;34m\u001b[0m\u001b[0;34m\u001b[0m\u001b[0m\n\u001b[1;32m      5\u001b[0m \u001b[0mD\u001b[0m \u001b[0;34m=\u001b[0m \u001b[0mD\u001b[0m\u001b[0;34m[\u001b[0m\u001b[0mD_ID_cut\u001b[0m\u001b[0;34m]\u001b[0m\u001b[0;34m\u001b[0m\u001b[0;34m\u001b[0m\u001b[0m\n",
      "\u001b[0;31mNameError\u001b[0m: name 'h' is not defined"
     ]
    }
   ],
   "source": [
    "D = ak.cartesian({\"k\": h[\"match\"][abs(h[\"match\",\"reco\",\"pdgId\"])==lp.K_plus.pdgid], \n",
    "                  \"pi\": h[\"match\"][abs(h[\"match\",\"reco\",\"pdgId\"])==lp.pi_plus.pdgid]})\n",
    "\n",
    "D_ID_cut = np.sign(D[\"k\"][\"reco\",\"pdgId\"]) != np.sign(D[\"pi\"][\"reco\",\"pdgId\"])\n",
    "D = D[D_ID_cut]\n",
    "PDG_K_m = lp.K_plus.mass/1000.\n",
    "PDG_pi_m = lp.pi_plus.mass/1000.\n",
    "for x in [\"reco\",\"gen\"]:\n",
    "    D[f\"mass_{x}\"] = kinematics.mass_2body(D[\"k\"][x], D[\"pi\"][x], PDG_K_m, PDG_pi_m)"
   ]
  },
  {
   "cell_type": "markdown",
   "metadata": {},
   "source": [
    "Plot the reco $D^0$ mass for cases where the associated true particles have the correct $D^0$ mass and not"
   ]
  },
  {
   "cell_type": "code",
   "execution_count": null,
   "metadata": {},
   "outputs": [],
   "source": [
    "D0_PDG_m = lp.D_0.mass/1000.\n",
    "low = D0_PDG_m - 0.025\n",
    "high = D0_PDG_m + 0.025\n",
    "\n",
    "truth_cut = abs(D[\"mass_gen\"] - D0_PDG_m) < 0.0001\n",
    "\n",
    "bins = 100\n",
    "fig, ax = plt.subplots(figsize=(8,8))\n",
    "#Total data\n",
    "plt.hist(ak.flatten(D[\"mass_reco\"]),bins=bins,range=(low,high),histtype='step',color='k',linewidth=1.5)\n",
    "#Filled to represent the true D0's\n",
    "plt.hist(ak.flatten(D[\"mass_reco\"]),bins=bins,range=(low,high),histtype='stepfilled',color='dodgerblue',linewidth=1.5)\n",
    "#Events failing the truth cut i.e. the non-true D0's\n",
    "plt.hist(ak.flatten(D[\"mass_reco\"][~truth_cut]),bins=bins,range=(low,high),histtype='stepfilled',color='crimson',linewidth=1.5)\n",
    "\n",
    "plt.xlabel(\"$m(K^\\pm\\pi^\\mp)$ [GeV/$c^2$]\",fontsize=30)\n",
    "plt.xlim(low,high)\n",
    "ax.tick_params(axis='both', which='major', labelsize=25)\n",
    "ymin, ymax = plt.ylim()\n",
    "plt.ylim(0.,ymax*1.1)\n",
    "plt.tight_layout()\n",
    "plt.show()\n",
    "fig.savefig(f\"{loc.PLOTS}/D0_MC_match.pdf\")"
   ]
  }
 ],
 "metadata": {
  "kernelspec": {
   "display_name": "Python 3",
   "language": "python",
   "name": "python3"
  },
  "language_info": {
   "codemirror_mode": {
    "name": "ipython",
    "version": 3
   },
   "file_extension": ".py",
   "mimetype": "text/x-python",
   "name": "python",
   "nbconvert_exporter": "python",
   "pygments_lexer": "ipython3",
   "version": "3.7.6"
  }
 },
 "nbformat": 4,
 "nbformat_minor": 4
}

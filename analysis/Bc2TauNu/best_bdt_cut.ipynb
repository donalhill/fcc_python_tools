{
 "cells": [
  {
   "cell_type": "code",
   "execution_count": 20,
   "metadata": {},
   "outputs": [],
   "source": [
    "import sys,os\n",
    "import json\n",
    "import numpy as np\n",
    "import matplotlib.pyplot as plt\n",
    "from fcc_python_tools.locations import loc\n",
    "from fcc_python_tools import plotting\n",
    "import pandas as pd\n",
    "from root_pandas import read_root, to_root\n",
    "import xgboost as xgb\n",
    "from sklearn.model_selection import train_test_split\n",
    "from sklearn.ensemble import GradientBoostingClassifier\n",
    "from sklearn.metrics import classification_report, roc_auc_score\n",
    "from sklearn.metrics import roc_curve, auc\n",
    "from sklearn.externals import joblib\n",
    "from sklearn.utils.class_weight import compute_sample_weight\n",
    "from scipy.stats import ks_2samp\n",
    "import xgboost as xgb\n",
    "\n",
    "from matplotlib import rc\n",
    "rc('font',**{'family':'serif','serif':['Roman']})\n",
    "rc('text', usetex=True)"
   ]
  },
  {
   "cell_type": "code",
   "execution_count": 21,
   "metadata": {},
   "outputs": [],
   "source": [
    "#Load signal with all the BDTs applied\n",
    "BDT_str = \"all_BDT\"\n",
    "path = f\"{loc.OUT}/ROOT\"\n",
    "df_sig = read_root(f\"{path}/Bc2TauNu_{BDT_str}.root\",\"events\",columns=[\"BDT_all\"])\n",
    "\n",
    "df_Bu = read_root(f\"{path}/Bu2TauNu_{BDT_str}.root\",\"events\",columns=[\"BDT_all\"])"
   ]
  },
  {
   "cell_type": "code",
   "execution_count": 22,
   "metadata": {},
   "outputs": [
    {
     "name": "stdout",
     "output_type": "stream",
     "text": [
      "9980004\n",
      "4655078\n",
      "9882716\n"
     ]
    }
   ],
   "source": [
    "#Load backgrounds with all BDTs applied\n",
    "df_bkg = {}\n",
    "for q in [\"uds\",\"cc\",\"bb\"]:\n",
    "    df_bkg[q] = read_root(f\"{path}/inclusive_Z{q}_{BDT_str}.root\",\"events\",columns=[\"BDT_all\"])\n",
    "    print(len(df_bkg[q]))"
   ]
  },
  {
   "cell_type": "code",
   "execution_count": 26,
   "metadata": {},
   "outputs": [
    {
     "name": "stdout",
     "output_type": "stream",
     "text": [
      "{'uds': 0.995956689119339, 'cc': 0.9963912963867188, 'bb': 0.9970511198043823}\n",
      "0.9970511198043823\n"
     ]
    }
   ],
   "source": [
    "#Get maximum BDT scores for each background type\n",
    "BDT_high = {}\n",
    "for q in [\"uds\",\"cc\",\"bb\"]:\n",
    "    BDT_high[q] = df_bkg[q][\"BDT_all\"].max()\n",
    "print(BDT_high)\n",
    "#Find highest of these\n",
    "max_BDT = 0.\n",
    "for q in [\"uds\",\"cc\",\"bb\"]:\n",
    "    if(BDT_high[q] > max_BDT):\n",
    "        max_BDT = BDT_high[q]\n",
    "print(max_BDT)"
   ]
  },
  {
   "cell_type": "code",
   "execution_count": 32,
   "metadata": {},
   "outputs": [
    {
     "name": "stdout",
     "output_type": "stream",
     "text": [
      "Signal efficiency for BDT cut that rejects 10^7 of all three backgrounds: 0.601\n",
      "B+ -> tau nu efficiency for BDT cut that rejects 10^7 of all three backgrounds: 0.000\n"
     ]
    }
   ],
   "source": [
    "#Cut on the maximum BDT score, which rejects all of the background in each sample i.e. 10^6 rejection of qq, cc, and bb\n",
    "n_sig_tot = float(len(df_sig))\n",
    "n_sig_pass = float(len(df_sig.query(f\"BDT_all > {max_BDT}\")))\n",
    "eff_sig = n_sig_pass / n_sig_tot\n",
    "print(\"Signal efficiency for BDT cut that rejects 10^7 of all three backgrounds: %.3f\" % eff_sig)\n",
    "\n",
    "n_Bu_tot = float(len(df_Bu))\n",
    "n_Bu_pass = float(len(df_Bu.query(f\"BDT_all > {max_BDT}\")))\n",
    "eff_Bu = n_Bu_pass / n_Bu_tot\n",
    "print(\"B+ -> tau nu efficiency for BDT cut that rejects 10^7 of all three backgrounds: %.3f\" % eff_Bu)"
   ]
  },
  {
   "cell_type": "code",
   "execution_count": 33,
   "metadata": {},
   "outputs": [
    {
     "data": {
      "image/png": "[encoded data removed]",
      "text/plain": [
       "<Figure size 864x576 with 1 Axes>"
      ]
     },
     "metadata": {
      "needs_background": "light"
     },
     "output_type": "display_data"
    }
   ],
   "source": [
    "#Plot the BDT distribution in each of the samples\n",
    "mode_config = {\"sig\": [\"$B_c^+ \\\\to \\\\tau^+ \\\\nu_\\\\tau$\",\"#d7191c\"],\n",
    "               \"Bu\": [\"$B^+ \\\\to \\\\tau^+ \\\\nu_\\\\tau$\",\"#313695\"],\n",
    "               \"uds\": [\"q\\\\bar{q}\",\"#fdae61\"],\n",
    "               \"cc\": [\"c\\\\bar{c}\",\"#abd9e9\"],\n",
    "               \"bb\": [\"b\\\\bar{b}\",\"#2c7bb6\"]\n",
    "              }\n",
    "bins = 200\n",
    "BDT_range = (0,1)\n",
    "fig, ax = plt.subplots(figsize=(12,8))\n",
    "plt.hist(df_sig[\"BDT_all\"],bins=bins,color=mode_config[\"sig\"][1],range=BDT_range,histtype='step',density=True,linewidth=2,label=\"\")\n",
    "plt.hist(df_sig[\"BDT_all\"],bins=bins,color=mode_config[\"sig\"][1],range=BDT_range,histtype='stepfilled',density=True,alpha=0.1,label=mode_config[\"sig\"][0])\n",
    "#plt.hist(df_Bu[\"BDT_all\"],bins=bins,color=mode_config[\"Bu\"][1],range=BDT_range,histtype='step',density=True,linewidth=2,label=mode_config[\"Bu\"][0])\n",
    "for q in [\"uds\",\"cc\",\"bb\"]:\n",
    "    plt.hist(df_bkg[q][\"BDT_all\"],bins=bins,color=mode_config[q][1],range=BDT_range,histtype='step',density=True,linewidth=2,label=\"Inclusive $Z^0 \\\\to %s$\" % mode_config[q][0])\n",
    "ax.tick_params(axis='both', which='major', labelsize=25)\n",
    "plt.xlim(0,1)\n",
    "plt.xlabel(\"BDT score ($q\\\\bar{q},c\\\\bar{c},b\\\\bar{b}$)\",fontsize=30)\n",
    "plt.yscale('log')\n",
    "ymin,ymax = plt.ylim()\n",
    "plt.ylim(ymin,50*ymax)\n",
    "plt.legend(fontsize=18, loc=\"upper left\")\n",
    "plt.tight_layout()\n",
    "plt.show()\n",
    "fig.savefig(f\"{loc.PLOTS}/Bc2TauNu_vs_inclusive_Zqq_BDT.pdf\")"
   ]
  },
  {
   "cell_type": "code",
   "execution_count": null,
   "metadata": {},
   "outputs": [],
   "source": []
  }
 ],
 "metadata": {
  "kernelspec": {
   "display_name": "Python 3",
   "language": "python",
   "name": "python3"
  },
  "language_info": {
   "codemirror_mode": {
    "name": "ipython",
    "version": 3
   },
   "file_extension": ".py",
   "mimetype": "text/x-python",
   "name": "python",
   "nbconvert_exporter": "python",
   "pygments_lexer": "ipython3",
   "version": "3.7.6"
  }
 },
 "nbformat": 4,
 "nbformat_minor": 4
}

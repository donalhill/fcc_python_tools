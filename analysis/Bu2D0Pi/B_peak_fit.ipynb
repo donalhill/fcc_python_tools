{
 "cells": [
  {
   "cell_type": "markdown",
   "metadata": {},
   "source": [
    "# Create $D^0$ candidates then $B$ candidates, and fit the $B$ mass peak\n",
    "\n",
    "Make use of exclusive $B^\\pm \\to D^0 \\pi^\\pm$ sample created using EvtGen"
   ]
  },
  {
   "cell_type": "code",
   "execution_count": 3,
   "metadata": {},
   "outputs": [],
   "source": [
    "import sys,os\n",
    "import uproot4 as uproot\n",
    "import awkward1 as ak\n",
    "import json\n",
    "import numpy as np\n",
    "import matplotlib.pyplot as plt\n",
    "from fcc_python_tools.locations import loc\n",
    "from fcc_python_tools import kinematics_flat\n",
    "from particle import literals as lp\n",
    "from fcc_python_tools import plotting\n",
    "import tensorflow as tf\n",
    "import zfit\n",
    "import random\n",
    "\n",
    "from matplotlib import rc\n",
    "rc('font',**{'family':'serif','serif':['Roman']})\n",
    "rc('text', usetex=True)"
   ]
  },
  {
   "cell_type": "markdown",
   "metadata": {},
   "source": [
    "Load MC from `FCCAnalyses` output, where recontructed particles are stored in `RP` branches."
   ]
  },
  {
   "cell_type": "code",
   "execution_count": null,
   "metadata": {},
   "outputs": [],
   "source": [
    "mode = \"Bu2D0Pi\"\n",
    "#path = loc.FLAT + f'/p8_ee_Zbb_ecm91_EvtGen_{mode}.root'\n",
    "path = \"/eos/experiment/fcc/ee/tmp/flatntuples/Z_Zbb_Flavor_Uproot_test3/p8_ee_Zbb_ecm91.root\"\n",
    "file = uproot.open(path)\n",
    "tree = file['events']\n",
    "\n",
    "#Number of events to keep and analyse\n",
    "#n_events = 10000\n",
    "\n",
    "#Container for the reco particles\n",
    "p_c = 'RP'\n",
    "\n",
    "events = tree.arrays(library=\"ak\", how=\"zip\", filter_name=f\"{p_c}*\")#[:n_events]\n",
    "\n",
    "p = events[p_c]"
   ]
  },
  {
   "cell_type": "markdown",
   "metadata": {},
   "source": [
    "Cut on the particle momenta"
   ]
  },
  {
   "cell_type": "code",
   "execution_count": 13,
   "metadata": {},
   "outputs": [],
   "source": [
    "p_cut = p[\"p\"] > 1.\n",
    "p = p[p_cut]"
   ]
  },
  {
   "cell_type": "markdown",
   "metadata": {},
   "source": [
    "Make pion and kaon samples based on track masses, then combine them into $D^0 \\to K \\pi$ candidates. Apply a cut around the $D^0$ mass."
   ]
  },
  {
   "cell_type": "code",
   "execution_count": 14,
   "metadata": {},
   "outputs": [],
   "source": [
    "pi_cut = abs(p[\"mass\"] - lp.pi_plus.mass/1000.) < 1e-4\n",
    "pi = p[pi_cut]\n",
    "\n",
    "k_cut = abs(p[\"mass\"] - lp.K_plus.mass/1000.) < 1e-4\n",
    "k = p[k_cut]\n",
    "\n",
    "D = ak.cartesian({\"k\": k, \"pi\": pi})\n",
    "D_cut = np.sign(D[\"k\",\"charge\"]) != np.sign(D[\"pi\",\"charge\"])\n",
    "D = D[D_cut]\n",
    "\n",
    "PDG_K_m = lp.K_plus.mass/1000.\n",
    "PDG_pi_m = lp.pi_plus.mass/1000.\n",
    "D[\"mass\"] = kinematics_flat.mass([D[\"k\"], D[\"pi\"]], [PDG_K_m, PDG_pi_m])\n",
    "\n",
    "PDG_D_m = lp.D_0.mass/1000.\n",
    "D_window = 0.05\n",
    "D_cut = abs(D[\"mass\"] - PDG_D_m) < D_window\n",
    "D = D[D_cut]"
   ]
  },
  {
   "cell_type": "markdown",
   "metadata": {},
   "source": [
    "Make $B$ candidates by combining the $D^0$'s from above with pions."
   ]
  },
  {
   "cell_type": "code",
   "execution_count": 15,
   "metadata": {},
   "outputs": [],
   "source": [
    "B = ak.cartesian({\"D\": D, \"pi\": pi})\n",
    "B_cut = np.sign(B[\"D\",\"k\",\"charge\"]) == np.sign(B[\"pi\",\"charge\"])\n",
    "B = B[B_cut]\n",
    "B[\"mass\"] = kinematics_flat.mass([B[\"D\",\"k\"], B[\"D\",\"pi\"], B[\"pi\"]], [PDG_K_m, PDG_pi_m, PDG_pi_m])"
   ]
  },
  {
   "cell_type": "markdown",
   "metadata": {},
   "source": [
    "Fit the $B$ mass distribution using `zfit`."
   ]
  },
  {
   "cell_type": "code",
   "execution_count": 16,
   "metadata": {},
   "outputs": [],
   "source": [
    "PDG_B_m = lp.B_plus.mass/1000.\n",
    "B_window = 0.06\n",
    "B_m_cut = abs(B[\"mass\"] - PDG_B_m) < B_window\n",
    "B = B[B_m_cut]\n",
    "low = PDG_B_m - B_window\n",
    "high = PDG_B_m + B_window\n",
    "obs = zfit.Space('mB', limits=(low, high))\n",
    "\n",
    "#Signal PDF\n",
    "rand = random.randint(0,999)\n",
    "B_mu = zfit.Parameter(f\"B_mu_{rand}\", PDG_B_m, low, high)\n",
    "B_sigma = zfit.Parameter(f\"B_sigma_{rand}\", 0.004, 0., 0.1)\n",
    "B_alphaL = zfit.Parameter(f\"B_alphaL_{rand}\", 0.2, 0., 5.)\n",
    "B_nL = zfit.Parameter(f\"B_nL_{rand}\", 10., 0., 200.)\n",
    "B_alphaR = zfit.Parameter(f\"B_alphaR_{rand}\", -0.2, -5., 0.)\n",
    "B_nR = zfit.Parameter(f\"B_nR_{rand}\", 10., 0., 200.)\n",
    "frac = zfit.Parameter(f\"frac_{rand}\", 0.5, 0., 1.)\n",
    "\n",
    "pdf_sigL = zfit.pdf.CrystalBall(obs=obs, mu=B_mu, sigma=B_sigma, alpha=B_alphaL, n=B_nL)\n",
    "pdf_sigR = zfit.pdf.CrystalBall(obs=obs, mu=B_mu, sigma=B_sigma, alpha=B_alphaR, n=B_nR)\n",
    "pdf = zfit.pdf.SumPDF([pdf_sigL, pdf_sigR], frac)"
   ]
  },
  {
   "cell_type": "markdown",
   "metadata": {},
   "source": [
    "Make dataset for `zfit`, passing in the mass values of the $B$ candidates."
   ]
  },
  {
   "cell_type": "code",
   "execution_count": 17,
   "metadata": {},
   "outputs": [],
   "source": [
    "data_np = ak.to_numpy(ak.flatten(B[\"mass\"]))\n",
    "data = zfit.Data.from_numpy(obs=obs, array=data_np)"
   ]
  },
  {
   "cell_type": "code",
   "execution_count": 18,
   "metadata": {},
   "outputs": [
    {
     "name": "stdout",
     "output_type": "stream",
     "text": [
      "┌──────────────────────────────────┬──────────────────────────────────────┐\n",
      "│ FCN = -2.323e+04                 │      Ncalls = 1471 (1471 total)      │\n",
      "│ EDM = 8.98e-06 (Goal: 1e-05)     │               up = 0.5               │\n",
      "├───────────────┬──────────────────┼──────────────────────────────────────┤\n",
      "│ Valid Minimum │ Valid Parameters │        No Parameters at limit        │\n",
      "├───────────────┴──────────────────┼──────────────────────────────────────┤\n",
      "│ Below EDM threshold (goal x 10)  │           Below call limit           │\n",
      "├───────────────┬──────────────────┼───────────┬─────────────┬────────────┤\n",
      "│   Hesse ok    │  Has Covariance  │ Accurate  │  Pos. def.  │ Not forced │\n",
      "└───────────────┴──────────────────┴───────────┴─────────────┴────────────┘\n",
      "m(B) fit function minimum: -23233.912381885028\n",
      "m(B) fit converged: True\n",
      "m(B) fit full minimizer information: {'n_eval': 1471, 'n_iter': 1471, 'original': FMin(fval=-23233.912381885028, edm=8.98304215081111e-06, tolerance=0.01, nfcn=1471, ncalls=1471, up=0.5, is_valid=True, has_valid_parameters=True, has_accurate_covar=True, has_posdef_covar=True, has_made_posdef_covar=False, hesse_failed=False, has_covariance=True, is_above_max_edm=False, has_reached_call_limit=False, has_parameters_at_limit=False)}\n",
      "name             value         minuit_minos    at limit\n",
      "------------  --------  -------------------  ----------\n",
      "frac_584        0.5283  -  0.076   +  0.074       False\n",
      "B_alphaL_584     0.819  -   0.12   +   0.12       False\n",
      "B_mu_584         5.279  -0.00013   +0.00014       False\n",
      "B_nL_584         5.352  -    1.2   +    2.5       False\n",
      "B_sigma_584   0.006346  - 0.0002   +0.00019       False\n",
      "B_alphaR_584   -0.7464  -   0.13   +   0.13       False\n",
      "B_nR_584         7.661  -    2.5   +    8.6       False\n"
     ]
    }
   ],
   "source": [
    "nll = zfit.loss.UnbinnedNLL(model=pdf, data=data)\n",
    "minimizer = zfit.minimize.Minuit(tolerance=1e-5)\n",
    "result = minimizer.minimize(nll)\n",
    "param_errors, _ = result.errors(method=\"minuit_minos\")\n",
    "\n",
    "print(\"m(B) fit function minimum:\", result.fmin)\n",
    "print(\"m(B) fit converged:\", result.converged)\n",
    "print(\"m(B) fit full minimizer information:\", result.info)\n",
    "\n",
    "params = result.params\n",
    "print(params)"
   ]
  },
  {
   "cell_type": "markdown",
   "metadata": {},
   "source": [
    "Plot the fit result and MC $B$ peak."
   ]
  },
  {
   "cell_type": "code",
   "execution_count": 19,
   "metadata": {},
   "outputs": [
    {
     "name": "stderr",
     "output_type": "stream",
     "text": [
      "/usr/local/bin/start_ipykernel.py:2: UserWarning: The function <function Space.limits at 0x7f127cd4a8c0> may does not return the actual area/limits but rather the rectangular limits. <zfit Space obs=('mB',), axes=None, limits=(array([[5.21934]]), array([[5.33934]]))> can also have functional limits that are arbitrarily defined and lay inside the rect_limits. To test if a value is inside, use `inside` or `filter`.\n",
      "  if __name__ == '__main__':\n",
      "/usr/local/bin/start_ipykernel.py:13: UserWarning: The function <function Space.area at 0x7f127cd4ecb0> may does not return the actual area/limits but rather the rectangular limits. <zfit Space obs=('mB',), axes=None, limits=(array([[5.21934]]), array([[5.33934]]))> can also have functional limits that are arbitrarily defined and lay inside the rect_limits. To test if a value is inside, use `inside` or `filter`.\n"
     ]
    },
    {
     "data": {
      "image/png": "[encoded data removed]",
      "text/plain": [
       "<Figure size 576x576 with 1 Axes>"
      ]
     },
     "metadata": {
      "needs_background": "light"
     },
     "output_type": "display_data"
    }
   ],
   "source": [
    "fig,ax = plt.subplots(figsize=(8,8))\n",
    "lower, upper = obs.limits\n",
    "low = lower[-1][0]\n",
    "high = upper[0][0]\n",
    "bin_width = 0.002\n",
    "bins = int(float(high - low)/bin_width)\n",
    "counts, bin_edges = np.histogram(data_np, bins, range=(low,high))\n",
    "bin_centres = (bin_edges[:-1] + bin_edges[1:])/2.\n",
    "err = np.sqrt(counts)\n",
    "plt.errorbar(bin_centres, counts, yerr=err, fmt='o', markersize=3, color='black')\n",
    "x_plot = np.linspace(low, high, num=1000)\n",
    "y_plot_tot = zfit.run(pdf.pdf(x_plot, norm_range=obs))\n",
    "plt.plot(x_plot, y_plot_tot*len(data_np)/bins*obs.area(), color='navy', linewidth=2.5, alpha=0.6)\n",
    "ax.tick_params(axis='both', which='major', labelsize=25)\n",
    "plt.ylabel(\"Candidates / (%.3f GeV/$c^2$)\" % bin_width,fontsize=25)\n",
    "plt.xlabel(\"$m([K^\\pm \\pi^\\mp]_D \\pi^\\pm)$ [GeV/$c^2$]\",fontsize=25)\n",
    "plt.xlim(low,high)\n",
    "ymin, ymax = plt.ylim()\n",
    "plt.ylim(0,1.05*ymax)\n",
    "plt.tight_layout()\n",
    "fig.savefig(loc.PLOTS+f\"/{mode}_B_M_fit.pdf\")"
   ]
  }
 ],
 "metadata": {
  "kernelspec": {
   "display_name": "Python 3",
   "language": "python",
   "name": "python3"
  },
  "language_info": {
   "codemirror_mode": {
    "name": "ipython",
    "version": 3
   },
   "file_extension": ".py",
   "mimetype": "text/x-python",
   "name": "python",
   "nbconvert_exporter": "python",
   "pygments_lexer": "ipython3",
   "version": "3.7.6"
  }
 },
 "nbformat": 4,
 "nbformat_minor": 4
}

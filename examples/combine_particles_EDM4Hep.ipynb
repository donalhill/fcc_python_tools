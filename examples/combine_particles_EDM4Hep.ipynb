{
 "cells": [
  {
   "cell_type": "markdown",
   "metadata": {},
   "source": [
    "# Introduction\n",
    "\n",
    "In this example, we will analyse a ROOT file containing inclusive $e^+ e^- \\to Z^0 \\to b\\bar{b}$ events generated with Pythia and Delphes in FCCSW. The command used to generate this sample is:\n",
    "\n",
    "`\n",
    "./run fccrun Sim/SimDelphesInterface/options/PythiaDelphes_config_IDEA.py --Filename Generation/data/ee_Z_bbbar.cmd -n 10000\n",
    "`\n",
    "\n",
    "where the `ee_Z_bbbar.cmd` file was created from the `ee_Z_ddbar.cmd` example by changing the quark number to `5` (for $b$-quarks). The config file is based on the options shown [here](https://github.com/clementhelsens/fcc-tutorials/blob/9ab4f18c8ded529204e0077d9e4bca1a133a59a8/FCCsnowmass.md). The ROOT file is loaded using the `uproot` package, and the goal of the analysis is to produce an invariant mass peak for the $D^0 \\to K^- \\pi^+$ decay. \n",
    "\n",
    "The $b$-quarks produced in the $Z^0$ decay quickly hadronise to different types of $b$-hadrons such as $B^0$, $B^\\pm$, and $B_s^0$ mesons. Many $D^0$ mesons are then produced when these mesons decay, due to the favoured nature of the $b \\to c$ quark transition. Around 4% of the $D^0$ mesons then decay to a kaon and a pion. To search for the $D^0 \\to K^- \\pi^+$ decay, we make combinations of kaons and pions using the `awkward array` package.\n",
    "\n",
    "## First some imports of what we need\n",
    "\n",
    "We load `uproot4` (will eventually be called just `uproot`) and `awkward1` (will eventually be just `awkward`) to load the ROOT files and analyse them. We load `numpy` for some numerical operations, and `matplotlib` for plotting. We will make use of the `particle` package to give us information on the PDG ID and mass of various particles. We also load functions from the main project code directory `fcc_python_tools`.  "
   ]
  },
  {
   "cell_type": "code",
   "execution_count": 274,
   "metadata": {},
   "outputs": [],
   "source": [
    "import sys,os\n",
    "import uproot4 as uproot\n",
    "import awkward1 as ak\n",
    "import json\n",
    "import numpy as np\n",
    "import matplotlib.pyplot as plt\n",
    "from fcc_python_tools.locations import loc\n",
    "from fcc_python_tools import kinematics\n",
    "from particle import literals as lp\n",
    "from fcc_python_tools import plotting\n",
    "\n",
    "from matplotlib import rc\n",
    "rc('font',**{'family':'serif','serif':['Roman']})\n",
    "rc('text', usetex=True)"
   ]
  },
  {
   "cell_type": "markdown",
   "metadata": {},
   "source": [
    "## Loading the ROOT file with uproot\n",
    "\n",
    "Now we load the ROOT tree using `uproot`, where we point it at some simulated data in the FCC-ee EOS folder. The TTree is called `events` in the FCC simulation output."
   ]
  },
  {
   "cell_type": "code",
   "execution_count": 275,
   "metadata": {},
   "outputs": [],
   "source": [
    "file = uproot.open(\"/eos/experiment/fcc/ee/tmp/test.root\")\n",
    "tree = file['events']"
   ]
  },
  {
   "cell_type": "markdown",
   "metadata": {},
   "source": [
    "We can check how many events are in our tree - this should match the number of events generated in Pythia."
   ]
  },
  {
   "cell_type": "code",
   "execution_count": 276,
   "metadata": {},
   "outputs": [
    {
     "data": {
      "text/plain": [
       "10000"
      ]
     },
     "execution_count": 276,
     "metadata": {},
     "output_type": "execute_result"
    }
   ],
   "source": [
    "tree.num_entries"
   ]
  },
  {
   "cell_type": "markdown",
   "metadata": {},
   "source": [
    "A useful summary of the tree contents is given by the `show()` function, which shows the name, ROOT variable type, and type as interepted by `uproot` and `awkward array`."
   ]
  },
  {
   "cell_type": "code",
   "execution_count": 277,
   "metadata": {},
   "outputs": [
    {
     "name": "stdout",
     "output_type": "stream",
     "text": [
      "name                 | typename                 | interpretation                \n",
      "---------------------+--------------------------+-------------------------------\n",
      "Electron             | std::vector<edm4hep::... | AsJagged(AsStridedObjects(M...\n",
      "Electron#0           | vector<podio::ObjectID>  | AsGroup(<TBranchElement 'El...\n",
      "Electron#0/Electr... | int32_t[]                | AsJagged(AsDtype('>i4'))\n",
      "Electron#0/Electr... | int32_t[]                | AsJagged(AsDtype('>i4'))\n",
      "Muon                 | std::vector<edm4hep::... | AsJagged(AsStridedObjects(M...\n",
      "Muon#0               | vector<podio::ObjectID>  | AsGroup(<TBranchElement 'Mu...\n",
      "Muon#0/Muon#0.index  | int32_t[]                | AsJagged(AsDtype('>i4'))\n",
      "Muon#0/Muon#0.col... | int32_t[]                | AsJagged(AsDtype('>i4'))\n",
      "EFlowNeutralHadron   | vector<edm4hep::Clust... | AsGroup(<TBranchElement 'EF...\n",
      "EFlowNeutralHadro... | int32_t[]                | AsJagged(AsDtype('>i4'))\n",
      "EFlowNeutralHadro... | float[]                  | AsJagged(AsDtype('>f4'))\n",
      "EFlowNeutralHadro... | float[]                  | AsJagged(AsDtype('>f4'))\n",
      "EFlowNeutralHadro... | float[]                  | AsJagged(AsDtype('>f4'))\n",
      "EFlowNeutralHadro... | float[]                  | AsJagged(AsDtype('>f4'))\n",
      "EFlowNeutralHadro... | float[]                  | AsJagged(AsDtype('>f4'))\n",
      "EFlowNeutralHadro... | float[][6]               | AsJagged(AsDtype(\"('>f4', (...\n",
      "EFlowNeutralHadro... | float[]                  | AsJagged(AsDtype('>f4'))\n",
      "EFlowNeutralHadro... | float[]                  | AsJagged(AsDtype('>f4'))\n",
      "EFlowNeutralHadro... | float[]                  | AsJagged(AsDtype('>f4'))\n",
      "EFlowNeutralHadro... | float[]                  | AsJagged(AsDtype('>f4'))\n",
      "EFlowNeutralHadro... | float[]                  | AsJagged(AsDtype('>f4'))\n",
      "EFlowNeutralHadro... | uint32_t[]               | AsJagged(AsDtype('>u4'))\n",
      "EFlowNeutralHadro... | uint32_t[]               | AsJagged(AsDtype('>u4'))\n",
      "EFlowNeutralHadro... | uint32_t[]               | AsJagged(AsDtype('>u4'))\n",
      "EFlowNeutralHadro... | uint32_t[]               | AsJagged(AsDtype('>u4'))\n",
      "EFlowNeutralHadro... | uint32_t[]               | AsJagged(AsDtype('>u4'))\n",
      "EFlowNeutralHadro... | uint32_t[]               | AsJagged(AsDtype('>u4'))\n",
      "EFlowNeutralHadro... | uint32_t[]               | AsJagged(AsDtype('>u4'))\n",
      "EFlowNeutralHadro... | uint32_t[]               | AsJagged(AsDtype('>u4'))\n",
      "EFlowNeutralHadro... | uint32_t[]               | AsJagged(AsDtype('>u4'))\n",
      "EFlowNeutralHadro... | uint32_t[]               | AsJagged(AsDtype('>u4'))\n",
      "EFlowNeutralHadro... | uint32_t[]               | AsJagged(AsDtype('>u4'))\n",
      "EFlowNeutralHadro... | uint32_t[]               | AsJagged(AsDtype('>u4'))\n",
      "EFlowNeutralHadron#0 | vector<podio::ObjectID>  | AsGroup(<TBranchElement 'EF...\n",
      "EFlowNeutralHadro... | int32_t[]                | AsJagged(AsDtype('>i4'))\n",
      "EFlowNeutralHadro... | int32_t[]                | AsJagged(AsDtype('>i4'))\n",
      "EFlowNeutralHadron#1 | vector<podio::ObjectID>  | AsGroup(<TBranchElement 'EF...\n",
      "EFlowNeutralHadro... | int32_t[]                | AsJagged(AsDtype('>i4'))\n",
      "EFlowNeutralHadro... | int32_t[]                | AsJagged(AsDtype('>i4'))\n",
      "EFlowNeutralHadron#2 | vector<podio::ObjectID>  | AsGroup(<TBranchElement 'EF...\n",
      "EFlowNeutralHadro... | int32_t[]                | AsJagged(AsDtype('>i4'))\n",
      "EFlowNeutralHadro... | int32_t[]                | AsJagged(AsDtype('>i4'))\n",
      "EFlowNeutralHadron_0 | std::vector<float>       | AsJagged(AsDtype('>f4'), he...\n",
      "EFlowNeutralHadron_1 | std::vector<float>       | AsJagged(AsDtype('>f4'), he...\n",
      "EFlowNeutralHadron_2 | std::vector<float>       | AsJagged(AsDtype('>f4'), he...\n",
      "Particle             | vector<edm4hep::MCPar... | AsGroup(<TBranchElement 'Pa...\n",
      "Particle/Particle... | int32_t[]                | AsJagged(AsDtype('>i4'))\n",
      "Particle/Particle... | int32_t[]                | AsJagged(AsDtype('>i4'))\n",
      "Particle/Particle... | int32_t[]                | AsJagged(AsDtype('>i4'))\n",
      "Particle/Particle... | float[]                  | AsJagged(AsDtype('>f4'))\n",
      "Particle/Particle... | float[]                  | AsJagged(AsDtype('>f4'))\n",
      "Particle/Particle... | double[]                 | AsJagged(AsDtype('>f8'))\n",
      "Particle/Particle... | double[]                 | AsJagged(AsDtype('>f8'))\n",
      "Particle/Particle... | double[]                 | AsJagged(AsDtype('>f8'))\n",
      "Particle/Particle... | double[]                 | AsJagged(AsDtype('>f8'))\n",
      "Particle/Particle... | double[]                 | AsJagged(AsDtype('>f8'))\n",
      "Particle/Particle... | double[]                 | AsJagged(AsDtype('>f8'))\n",
      "Particle/Particle... | double[]                 | AsJagged(AsDtype('>f8'))\n",
      "Particle/Particle... | float[]                  | AsJagged(AsDtype('>f4'))\n",
      "Particle/Particle... | float[]                  | AsJagged(AsDtype('>f4'))\n",
      "Particle/Particle... | float[]                  | AsJagged(AsDtype('>f4'))\n",
      "Particle/Particle... | float[]                  | AsJagged(AsDtype('>f4'))\n",
      "Particle/Particle... | float[]                  | AsJagged(AsDtype('>f4'))\n",
      "Particle/Particle... | float[]                  | AsJagged(AsDtype('>f4'))\n",
      "Particle/Particle... | float[]                  | AsJagged(AsDtype('>f4'))\n",
      "Particle/Particle... | float[]                  | AsJagged(AsDtype('>f4'))\n",
      "Particle/Particle... | float[]                  | AsJagged(AsDtype('>f4'))\n",
      "Particle/Particle... | int32_t[]                | AsJagged(AsDtype('>i4'))\n",
      "Particle/Particle... | int32_t[]                | AsJagged(AsDtype('>i4'))\n",
      "Particle/Particle... | uint32_t[]               | AsJagged(AsDtype('>u4'))\n",
      "Particle/Particle... | uint32_t[]               | AsJagged(AsDtype('>u4'))\n",
      "Particle/Particle... | uint32_t[]               | AsJagged(AsDtype('>u4'))\n",
      "Particle/Particle... | uint32_t[]               | AsJagged(AsDtype('>u4'))\n",
      "Particle#0           | vector<podio::ObjectID>  | AsGroup(<TBranchElement 'Pa...\n",
      "Particle#0/Partic... | int32_t[]                | AsJagged(AsDtype('>i4'))\n",
      "Particle#0/Partic... | int32_t[]                | AsJagged(AsDtype('>i4'))\n",
      "Particle#1           | vector<podio::ObjectID>  | AsGroup(<TBranchElement 'Pa...\n",
      "Particle#1/Partic... | int32_t[]                | AsJagged(AsDtype('>i4'))\n",
      "Particle#1/Partic... | int32_t[]                | AsJagged(AsDtype('>i4'))\n",
      "Photon               | std::vector<edm4hep::... | AsJagged(AsStridedObjects(M...\n",
      "Photon#0             | vector<podio::ObjectID>  | AsGroup(<TBranchElement 'Ph...\n",
      "Photon#0/Photon#0... | int32_t[]                | AsJagged(AsDtype('>i4'))\n",
      "Photon#0/Photon#0... | int32_t[]                | AsJagged(AsDtype('>i4'))\n",
      "ReconstructedPart... | vector<edm4hep::Recon... | AsGroup(<TBranchElement 'Re...\n",
      "ReconstructedPart... | int32_t[]                | AsJagged(AsDtype('>i4'))\n",
      "ReconstructedPart... | float[]                  | AsJagged(AsDtype('>f4'))\n",
      "ReconstructedPart... | float[]                  | AsJagged(AsDtype('>f4'))\n",
      "ReconstructedPart... | float[]                  | AsJagged(AsDtype('>f4'))\n",
      "ReconstructedPart... | float[]                  | AsJagged(AsDtype('>f4'))\n",
      "ReconstructedPart... | float[]                  | AsJagged(AsDtype('>f4'))\n",
      "ReconstructedPart... | float[]                  | AsJagged(AsDtype('>f4'))\n",
      "ReconstructedPart... | float[]                  | AsJagged(AsDtype('>f4'))\n",
      "ReconstructedPart... | float[]                  | AsJagged(AsDtype('>f4'))\n",
      "ReconstructedPart... | float[]                  | AsJagged(AsDtype('>f4'))\n",
      "ReconstructedPart... | float[]                  | AsJagged(AsDtype('>f4'))\n",
      "ReconstructedPart... | float[][10]              | AsJagged(AsDtype(\"('>f4', (...\n",
      "ReconstructedPart... | uint32_t[]               | AsJagged(AsDtype('>u4'))\n",
      "ReconstructedPart... | uint32_t[]               | AsJagged(AsDtype('>u4'))\n",
      "ReconstructedPart... | uint32_t[]               | AsJagged(AsDtype('>u4'))\n",
      "ReconstructedPart... | uint32_t[]               | AsJagged(AsDtype('>u4'))\n",
      "ReconstructedPart... | uint32_t[]               | AsJagged(AsDtype('>u4'))\n",
      "ReconstructedPart... | uint32_t[]               | AsJagged(AsDtype('>u4'))\n",
      "ReconstructedPart... | uint32_t[]               | AsJagged(AsDtype('>u4'))\n",
      "ReconstructedPart... | uint32_t[]               | AsJagged(AsDtype('>u4'))\n",
      "ReconstructedPart... | vector<podio::ObjectID>  | AsGroup(<TBranchElement 'Re...\n",
      "ReconstructedPart... | int32_t[]                | AsJagged(AsDtype('>i4'))\n",
      "ReconstructedPart... | int32_t[]                | AsJagged(AsDtype('>i4'))\n",
      "ReconstructedPart... | vector<podio::ObjectID>  | AsGroup(<TBranchElement 'Re...\n",
      "ReconstructedPart... | int32_t[]                | AsJagged(AsDtype('>i4'))\n",
      "ReconstructedPart... | int32_t[]                | AsJagged(AsDtype('>i4'))\n",
      "ReconstructedPart... | vector<podio::ObjectID>  | AsGroup(<TBranchElement 'Re...\n",
      "ReconstructedPart... | int32_t[]                | AsJagged(AsDtype('>i4'))\n",
      "ReconstructedPart... | int32_t[]                | AsJagged(AsDtype('>i4'))\n",
      "ReconstructedPart... | vector<podio::ObjectID>  | AsGroup(<TBranchElement 'Re...\n",
      "ReconstructedPart... | int32_t[]                | AsJagged(AsDtype('>i4'))\n",
      "ReconstructedPart... | int32_t[]                | AsJagged(AsDtype('>i4'))\n",
      "ReconstructedPart... | vector<podio::ObjectID>  | AsGroup(<TBranchElement 'Re...\n",
      "ReconstructedPart... | int32_t[]                | AsJagged(AsDtype('>i4'))\n",
      "ReconstructedPart... | int32_t[]                | AsJagged(AsDtype('>i4'))\n",
      "ReconstructedPart... | vector<podio::ObjectID>  | AsGroup(<TBranchElement 'Re...\n",
      "ReconstructedPart... | int32_t[]                | AsJagged(AsDtype('>i4'))\n",
      "ReconstructedPart... | int32_t[]                | AsJagged(AsDtype('>i4'))\n",
      "EFlowPhoton          | vector<edm4hep::Clust... | AsGroup(<TBranchElement 'EF...\n",
      "EFlowPhoton/EFlow... | int32_t[]                | AsJagged(AsDtype('>i4'))\n",
      "EFlowPhoton/EFlow... | float[]                  | AsJagged(AsDtype('>f4'))\n",
      "EFlowPhoton/EFlow... | float[]                  | AsJagged(AsDtype('>f4'))\n",
      "EFlowPhoton/EFlow... | float[]                  | AsJagged(AsDtype('>f4'))\n",
      "EFlowPhoton/EFlow... | float[]                  | AsJagged(AsDtype('>f4'))\n",
      "EFlowPhoton/EFlow... | float[]                  | AsJagged(AsDtype('>f4'))\n",
      "EFlowPhoton/EFlow... | float[][6]               | AsJagged(AsDtype(\"('>f4', (...\n",
      "EFlowPhoton/EFlow... | float[]                  | AsJagged(AsDtype('>f4'))\n",
      "EFlowPhoton/EFlow... | float[]                  | AsJagged(AsDtype('>f4'))\n",
      "EFlowPhoton/EFlow... | float[]                  | AsJagged(AsDtype('>f4'))\n",
      "EFlowPhoton/EFlow... | float[]                  | AsJagged(AsDtype('>f4'))\n",
      "EFlowPhoton/EFlow... | float[]                  | AsJagged(AsDtype('>f4'))\n",
      "EFlowPhoton/EFlow... | uint32_t[]               | AsJagged(AsDtype('>u4'))\n",
      "EFlowPhoton/EFlow... | uint32_t[]               | AsJagged(AsDtype('>u4'))\n",
      "EFlowPhoton/EFlow... | uint32_t[]               | AsJagged(AsDtype('>u4'))\n",
      "EFlowPhoton/EFlow... | uint32_t[]               | AsJagged(AsDtype('>u4'))\n",
      "EFlowPhoton/EFlow... | uint32_t[]               | AsJagged(AsDtype('>u4'))\n",
      "EFlowPhoton/EFlow... | uint32_t[]               | AsJagged(AsDtype('>u4'))\n",
      "EFlowPhoton/EFlow... | uint32_t[]               | AsJagged(AsDtype('>u4'))\n",
      "EFlowPhoton/EFlow... | uint32_t[]               | AsJagged(AsDtype('>u4'))\n",
      "EFlowPhoton/EFlow... | uint32_t[]               | AsJagged(AsDtype('>u4'))\n",
      "EFlowPhoton/EFlow... | uint32_t[]               | AsJagged(AsDtype('>u4'))\n",
      "EFlowPhoton/EFlow... | uint32_t[]               | AsJagged(AsDtype('>u4'))\n",
      "EFlowPhoton/EFlow... | uint32_t[]               | AsJagged(AsDtype('>u4'))\n",
      "EFlowPhoton#0        | vector<podio::ObjectID>  | AsGroup(<TBranchElement 'EF...\n",
      "EFlowPhoton#0/EFl... | int32_t[]                | AsJagged(AsDtype('>i4'))\n",
      "EFlowPhoton#0/EFl... | int32_t[]                | AsJagged(AsDtype('>i4'))\n",
      "EFlowPhoton#1        | vector<podio::ObjectID>  | AsGroup(<TBranchElement 'EF...\n",
      "EFlowPhoton#1/EFl... | int32_t[]                | AsJagged(AsDtype('>i4'))\n",
      "EFlowPhoton#1/EFl... | int32_t[]                | AsJagged(AsDtype('>i4'))\n",
      "EFlowPhoton#2        | vector<podio::ObjectID>  | AsGroup(<TBranchElement 'EF...\n",
      "EFlowPhoton#2/EFl... | int32_t[]                | AsJagged(AsDtype('>i4'))\n",
      "EFlowPhoton#2/EFl... | int32_t[]                | AsJagged(AsDtype('>i4'))\n",
      "EFlowPhoton_0        | std::vector<float>       | AsJagged(AsDtype('>f4'), he...\n",
      "EFlowPhoton_1        | std::vector<float>       | AsJagged(AsDtype('>f4'), he...\n",
      "EFlowPhoton_2        | std::vector<float>       | AsJagged(AsDtype('>f4'), he...\n",
      "MCRecoAssociations   | vector<edm4hep::MCRec... | AsGroup(<TBranchElement 'MC...\n",
      "MCRecoAssociation... | float[]                  | AsJagged(AsDtype('>f4'))\n",
      "MCRecoAssociations#0 | vector<podio::ObjectID>  | AsGroup(<TBranchElement 'MC...\n",
      "MCRecoAssociation... | int32_t[]                | AsJagged(AsDtype('>i4'))\n",
      "MCRecoAssociation... | int32_t[]                | AsJagged(AsDtype('>i4'))\n",
      "MCRecoAssociations#1 | vector<podio::ObjectID>  | AsGroup(<TBranchElement 'MC...\n",
      "MCRecoAssociation... | int32_t[]                | AsJagged(AsDtype('>i4'))\n",
      "MCRecoAssociation... | int32_t[]                | AsJagged(AsDtype('>i4'))\n",
      "MissingET            | vector<edm4hep::Recon... | AsGroup(<TBranchElement 'Mi...\n",
      "MissingET/Missing... | int32_t[]                | AsJagged(AsDtype('>i4'))\n",
      "MissingET/Missing... | float[]                  | AsJagged(AsDtype('>f4'))\n",
      "MissingET/Missing... | float[]                  | AsJagged(AsDtype('>f4'))\n",
      "MissingET/Missing... | float[]                  | AsJagged(AsDtype('>f4'))\n",
      "MissingET/Missing... | float[]                  | AsJagged(AsDtype('>f4'))\n",
      "MissingET/Missing... | float[]                  | AsJagged(AsDtype('>f4'))\n",
      "MissingET/Missing... | float[]                  | AsJagged(AsDtype('>f4'))\n",
      "MissingET/Missing... | float[]                  | AsJagged(AsDtype('>f4'))\n",
      "MissingET/Missing... | float[]                  | AsJagged(AsDtype('>f4'))\n",
      "MissingET/Missing... | float[]                  | AsJagged(AsDtype('>f4'))\n",
      "MissingET/Missing... | float[]                  | AsJagged(AsDtype('>f4'))\n",
      "MissingET/Missing... | float[][10]              | AsJagged(AsDtype(\"('>f4', (...\n",
      "MissingET/Missing... | uint32_t[]               | AsJagged(AsDtype('>u4'))\n",
      "MissingET/Missing... | uint32_t[]               | AsJagged(AsDtype('>u4'))\n",
      "MissingET/Missing... | uint32_t[]               | AsJagged(AsDtype('>u4'))\n",
      "MissingET/Missing... | uint32_t[]               | AsJagged(AsDtype('>u4'))\n",
      "MissingET/Missing... | uint32_t[]               | AsJagged(AsDtype('>u4'))\n",
      "MissingET/Missing... | uint32_t[]               | AsJagged(AsDtype('>u4'))\n",
      "MissingET/Missing... | uint32_t[]               | AsJagged(AsDtype('>u4'))\n",
      "MissingET/Missing... | uint32_t[]               | AsJagged(AsDtype('>u4'))\n",
      "MissingET#0          | vector<podio::ObjectID>  | AsGroup(<TBranchElement 'Mi...\n",
      "MissingET#0/Missi... | int32_t[]                | AsJagged(AsDtype('>i4'))\n",
      "MissingET#0/Missi... | int32_t[]                | AsJagged(AsDtype('>i4'))\n",
      "MissingET#1          | vector<podio::ObjectID>  | AsGroup(<TBranchElement 'Mi...\n",
      "MissingET#1/Missi... | int32_t[]                | AsJagged(AsDtype('>i4'))\n",
      "MissingET#1/Missi... | int32_t[]                | AsJagged(AsDtype('>i4'))\n",
      "MissingET#2          | vector<podio::ObjectID>  | AsGroup(<TBranchElement 'Mi...\n",
      "MissingET#2/Missi... | int32_t[]                | AsJagged(AsDtype('>i4'))\n",
      "MissingET#2/Missi... | int32_t[]                | AsJagged(AsDtype('>i4'))\n",
      "MissingET#3          | vector<podio::ObjectID>  | AsGroup(<TBranchElement 'Mi...\n",
      "MissingET#3/Missi... | int32_t[]                | AsJagged(AsDtype('>i4'))\n",
      "MissingET#3/Missi... | int32_t[]                | AsJagged(AsDtype('>i4'))\n",
      "MissingET#4          | vector<podio::ObjectID>  | AsGroup(<TBranchElement 'Mi...\n",
      "MissingET#4/Missi... | int32_t[]                | AsJagged(AsDtype('>i4'))\n",
      "MissingET#4/Missi... | int32_t[]                | AsJagged(AsDtype('>i4'))\n",
      "MissingET#5          | vector<podio::ObjectID>  | AsGroup(<TBranchElement 'Mi...\n",
      "MissingET#5/Missi... | int32_t[]                | AsJagged(AsDtype('>i4'))\n",
      "MissingET#5/Missi... | int32_t[]                | AsJagged(AsDtype('>i4'))\n",
      "ParticleIDs          | vector<edm4hep::Parti... | AsGroup(<TBranchElement 'Pa...\n",
      "ParticleIDs/Parti... | int32_t[]                | AsJagged(AsDtype('>i4'))\n",
      "ParticleIDs/Parti... | int32_t[]                | AsJagged(AsDtype('>i4'))\n",
      "ParticleIDs/Parti... | int32_t[]                | AsJagged(AsDtype('>i4'))\n",
      "ParticleIDs/Parti... | float[]                  | AsJagged(AsDtype('>f4'))\n",
      "ParticleIDs/Parti... | uint32_t[]               | AsJagged(AsDtype('>u4'))\n",
      "ParticleIDs/Parti... | uint32_t[]               | AsJagged(AsDtype('>u4'))\n",
      "ParticleIDs_0        | std::vector<float>       | AsJagged(AsDtype('>f4'), he...\n",
      "Jet                  | vector<edm4hep::Recon... | AsGroup(<TBranchElement 'Je...\n",
      "Jet/Jet.type         | int32_t[]                | AsJagged(AsDtype('>i4'))\n",
      "Jet/Jet.energy       | float[]                  | AsJagged(AsDtype('>f4'))\n",
      "Jet/Jet.momentum.x   | float[]                  | AsJagged(AsDtype('>f4'))\n",
      "Jet/Jet.momentum.y   | float[]                  | AsJagged(AsDtype('>f4'))\n",
      "Jet/Jet.momentum.z   | float[]                  | AsJagged(AsDtype('>f4'))\n",
      "Jet/Jet.reference... | float[]                  | AsJagged(AsDtype('>f4'))\n",
      "Jet/Jet.reference... | float[]                  | AsJagged(AsDtype('>f4'))\n",
      "Jet/Jet.reference... | float[]                  | AsJagged(AsDtype('>f4'))\n",
      "Jet/Jet.charge       | float[]                  | AsJagged(AsDtype('>f4'))\n",
      "Jet/Jet.mass         | float[]                  | AsJagged(AsDtype('>f4'))\n",
      "Jet/Jet.goodnessO... | float[]                  | AsJagged(AsDtype('>f4'))\n",
      "Jet/Jet.covMatrix... | float[][10]              | AsJagged(AsDtype(\"('>f4', (...\n",
      "Jet/Jet.clusters_... | uint32_t[]               | AsJagged(AsDtype('>u4'))\n",
      "Jet/Jet.clusters_end | uint32_t[]               | AsJagged(AsDtype('>u4'))\n",
      "Jet/Jet.tracks_begin | uint32_t[]               | AsJagged(AsDtype('>u4'))\n",
      "Jet/Jet.tracks_end   | uint32_t[]               | AsJagged(AsDtype('>u4'))\n",
      "Jet/Jet.particles... | uint32_t[]               | AsJagged(AsDtype('>u4'))\n",
      "Jet/Jet.particles... | uint32_t[]               | AsJagged(AsDtype('>u4'))\n",
      "Jet/Jet.particleI... | uint32_t[]               | AsJagged(AsDtype('>u4'))\n",
      "Jet/Jet.particleI... | uint32_t[]               | AsJagged(AsDtype('>u4'))\n",
      "Jet#0                | vector<podio::ObjectID>  | AsGroup(<TBranchElement 'Je...\n",
      "Jet#0/Jet#0.index    | int32_t[]                | AsJagged(AsDtype('>i4'))\n",
      "Jet#0/Jet#0.colle... | int32_t[]                | AsJagged(AsDtype('>i4'))\n",
      "Jet#1                | vector<podio::ObjectID>  | AsGroup(<TBranchElement 'Je...\n",
      "Jet#1/Jet#1.index    | int32_t[]                | AsJagged(AsDtype('>i4'))\n",
      "Jet#1/Jet#1.colle... | int32_t[]                | AsJagged(AsDtype('>i4'))\n",
      "Jet#2                | vector<podio::ObjectID>  | AsGroup(<TBranchElement 'Je...\n",
      "Jet#2/Jet#2.index    | int32_t[]                | AsJagged(AsDtype('>i4'))\n",
      "Jet#2/Jet#2.colle... | int32_t[]                | AsJagged(AsDtype('>i4'))\n",
      "Jet#3                | vector<podio::ObjectID>  | AsGroup(<TBranchElement 'Je...\n",
      "Jet#3/Jet#3.index    | int32_t[]                | AsJagged(AsDtype('>i4'))\n",
      "Jet#3/Jet#3.colle... | int32_t[]                | AsJagged(AsDtype('>i4'))\n",
      "Jet#4                | vector<podio::ObjectID>  | AsGroup(<TBranchElement 'Je...\n",
      "Jet#4/Jet#4.index    | int32_t[]                | AsJagged(AsDtype('>i4'))\n",
      "Jet#4/Jet#4.colle... | int32_t[]                | AsJagged(AsDtype('>i4'))\n",
      "Jet#5                | vector<podio::ObjectID>  | AsGroup(<TBranchElement 'Je...\n",
      "Jet#5/Jet#5.index    | int32_t[]                | AsJagged(AsDtype('>i4'))\n",
      "Jet#5/Jet#5.colle... | int32_t[]                | AsJagged(AsDtype('>i4'))\n",
      "EFlowTrack           | vector<edm4hep::Track... | AsGroup(<TBranchElement 'EF...\n",
      "EFlowTrack/EFlowT... | int32_t[]                | AsJagged(AsDtype('>i4'))\n",
      "EFlowTrack/EFlowT... | float[]                  | AsJagged(AsDtype('>f4'))\n",
      "EFlowTrack/EFlowT... | int32_t[]                | AsJagged(AsDtype('>i4'))\n",
      "EFlowTrack/EFlowT... | float[]                  | AsJagged(AsDtype('>f4'))\n",
      "EFlowTrack/EFlowT... | float[]                  | AsJagged(AsDtype('>f4'))\n",
      "EFlowTrack/EFlowT... | float[]                  | AsJagged(AsDtype('>f4'))\n",
      "EFlowTrack/EFlowT... | uint32_t[]               | AsJagged(AsDtype('>u4'))\n",
      "EFlowTrack/EFlowT... | uint32_t[]               | AsJagged(AsDtype('>u4'))\n",
      "EFlowTrack/EFlowT... | uint32_t[]               | AsJagged(AsDtype('>u4'))\n",
      "EFlowTrack/EFlowT... | uint32_t[]               | AsJagged(AsDtype('>u4'))\n",
      "EFlowTrack/EFlowT... | uint32_t[]               | AsJagged(AsDtype('>u4'))\n",
      "EFlowTrack/EFlowT... | uint32_t[]               | AsJagged(AsDtype('>u4'))\n",
      "EFlowTrack/EFlowT... | uint32_t[]               | AsJagged(AsDtype('>u4'))\n",
      "EFlowTrack/EFlowT... | uint32_t[]               | AsJagged(AsDtype('>u4'))\n",
      "EFlowTrack#0         | vector<podio::ObjectID>  | AsGroup(<TBranchElement 'EF...\n",
      "EFlowTrack#0/EFlo... | int32_t[]                | AsJagged(AsDtype('>i4'))\n",
      "EFlowTrack#0/EFlo... | int32_t[]                | AsJagged(AsDtype('>i4'))\n",
      "EFlowTrack#1         | vector<podio::ObjectID>  | AsGroup(<TBranchElement 'EF...\n",
      "EFlowTrack#1/EFlo... | int32_t[]                | AsJagged(AsDtype('>i4'))\n",
      "EFlowTrack#1/EFlo... | int32_t[]                | AsJagged(AsDtype('>i4'))\n",
      "EFlowTrack_0         | std::vector<int32_t>     | AsJagged(AsDtype('>i4'), he...\n",
      "EFlowTrack_1         | vector<edm4hep::Track... | AsGroup(<TBranchElement 'EF...\n",
      "EFlowTrack_1/EFlo... | int32_t[]                | AsJagged(AsDtype('>i4'))\n",
      "EFlowTrack_1/EFlo... | float[]                  | AsJagged(AsDtype('>f4'))\n",
      "EFlowTrack_1/EFlo... | float[]                  | AsJagged(AsDtype('>f4'))\n",
      "EFlowTrack_1/EFlo... | float[]                  | AsJagged(AsDtype('>f4'))\n",
      "EFlowTrack_1/EFlo... | float[]                  | AsJagged(AsDtype('>f4'))\n",
      "EFlowTrack_1/EFlo... | float[]                  | AsJagged(AsDtype('>f4'))\n",
      "EFlowTrack_1/EFlo... | float[]                  | AsJagged(AsDtype('>f4'))\n",
      "EFlowTrack_1/EFlo... | float[]                  | AsJagged(AsDtype('>f4'))\n",
      "EFlowTrack_1/EFlo... | float[]                  | AsJagged(AsDtype('>f4'))\n",
      "EFlowTrack_1/EFlo... | float[][15]              | AsJagged(AsDtype(\"('>f4', (...\n"
     ]
    }
   ],
   "source": [
    "tree.show()"
   ]
  },
  {
   "cell_type": "markdown",
   "metadata": {},
   "source": [
    "## Accessing specific particles\n",
    "\n",
    "Next we get the stable charged hadrons and load them into an `awkward array`. The charged hadrons live in the `ReconstructedParticles` container in the ROOT file.\n",
    "\n",
    "We get a list of all variables in the tree using `tree.keys()`. We then keep the variables relating to the `ReconstructedParticles` container, and also filter out the `covMatrix` variable. This variable has a fixed-length array form, and can't be loaded into a zipped awkward array with other single-value variables. We load the `keep_vars` into an awkward array called `h`."
   ]
  },
  {
   "cell_type": "code",
   "execution_count": 278,
   "metadata": {
    "scrolled": true
   },
   "outputs": [],
   "source": [
    "#Get all the variables in the tree\n",
    "vars = tree.keys()\n",
    "\n",
    "#Loacation of the reco particles\n",
    "h_container = \"ReconstructedParticles\"\n",
    "h_c = f'{h_container}/{h_container}'\n",
    "\n",
    "#Keep the variables that aren't covMatrix\n",
    "keep_vars = []\n",
    "for v in vars:\n",
    "    if(\"covMatrix\" not in v and h_c in v):\n",
    "        keep_vars.append(v)\n",
    "\n",
    "h = tree.arrays(keep_vars,how=\"zip\")"
   ]
  },
  {
   "cell_type": "markdown",
   "metadata": {},
   "source": [
    "## Calculating some new variables and making cuts\n",
    "\n",
    "Because `awkward array` operates at array level, we can process all events and particles in each event with single line commands. Loops can also be written, and even sped up using `numba`, but we won't consider this here.\n",
    "\n",
    "Here we calculate the $p$ and $p_T$ of the hadrons, using the existing momentum components stored in the ROOT file."
   ]
  },
  {
   "cell_type": "code",
   "execution_count": 279,
   "metadata": {},
   "outputs": [],
   "source": [
    "h[h_c,'p'] = kinematics.calc_p(h,h_c)\n",
    "h[h_c,'pt'] = kinematics.calc_pt(h,h_c)\n",
    "h[h_c,'phi'] = kinematics.calc_phi(h,h_c)\n",
    "h[h_c,'eta'] = kinematics.calc_eta(h,h_c)"
   ]
  },
  {
   "cell_type": "markdown",
   "metadata": {},
   "source": [
    "Note the syntax here - because we zipped the array, we can access specific branches with `h[h_c,var_name]`. As a reminder, `h_c` is the location of the hadrons in the ROOT file (`ReconstructedParticles/ReconstructedParticles`). We follow the same syntax when calculating a new variable - so `p` and `pt` are added as new branches for our hadrons.\n",
    "\n",
    "The `kinematics.calc_p/pt` functions come from the `fcc_python_tools` directory of this project - they are not `awkward array` methods. If you want to calculate more variables, you can add them into `fcc_python_tools` or just define them directly in your code. Generally, if you are going to reuse the function in several places, it's best to put it somehwere general. \n",
    "\n",
    "Now that we have a $p$ branch, we can define a cut to apply on it like this:"
   ]
  },
  {
   "cell_type": "code",
   "execution_count": 280,
   "metadata": {},
   "outputs": [],
   "source": [
    "p_cut = h[h_c,'p'] > 1."
   ]
  },
  {
   "cell_type": "markdown",
   "metadata": {},
   "source": [
    "This requires that all of the hadrons we want to consider have $p > 2$ GeV. To apply this cut to the hadrons, we do:"
   ]
  },
  {
   "cell_type": "code",
   "execution_count": 281,
   "metadata": {},
   "outputs": [],
   "source": [
    "h = h[p_cut]"
   ]
  },
  {
   "cell_type": "markdown",
   "metadata": {},
   "source": [
    "In the same way, we can get samples of pions and kaons from our general hadrons array by cutting on the `pdgId`. We add them as extra members of our `h` array like this:"
   ]
  },
  {
   "cell_type": "code",
   "execution_count": 282,
   "metadata": {},
   "outputs": [],
   "source": [
    "pi_cut = abs(h[h_c,'mass'] - abs(lp.pi_plus.mass)/1000.) < 1e-4\n",
    "h[\"pi\"] = h[h_c][pi_cut]\n",
    "\n",
    "k_cut = abs(h[h_c,'mass'] - abs(lp.K_plus.mass)/1000.) < 1e-4\n",
    "h[\"k\"] = h[h_c][k_cut]"
   ]
  },
  {
   "cell_type": "markdown",
   "metadata": {},
   "source": [
    "Here we have made use of the [particle](https://github.com/scikit-hep/particle) package, which provides access to various bits of information on PDG particles. We specifically use the `literals` module, which provides shortcuts to a bunch of common particles - these can be found [here](https://github.com/scikit-hep/particle/blob/master/src/particle/shared_literals.py). When we do `lp.pi_plus.pdgid`, we are getting the PDG ID of the pion.\n",
    "\n",
    "\n",
    "## Making particle combinations\n",
    "\n",
    "There are extremely helpful combinatorics functions provided by `awkward array`, namely `combinations()` for particles in the same container and `ak.cartesian()` for particles from different containers. We can use the `cartesian()` function to find all $K\\pi$ pairs in every event. "
   ]
  },
  {
   "cell_type": "code",
   "execution_count": 283,
   "metadata": {},
   "outputs": [],
   "source": [
    "D = ak.cartesian({\"k\": h[\"k\"], \"pi\": h[\"pi\"]})"
   ]
  },
  {
   "cell_type": "markdown",
   "metadata": {},
   "source": [
    "Our kaons and pions are both positively and negatively charged. For physical track combinations, we want the kaon and pion to have opposite charge. We can do this with a cut as follows:"
   ]
  },
  {
   "cell_type": "code",
   "execution_count": 284,
   "metadata": {},
   "outputs": [],
   "source": [
    "D_cut = np.sign(D[\"k\",\"charge\"]) != np.sign(D[\"pi\",\"charge\"])\n",
    "D = D[D_cut]"
   ]
  },
  {
   "cell_type": "markdown",
   "metadata": {},
   "source": [
    "Now we can calculate the invariant mass of our $K\\pi$ pairs, and look for a $D^0$ peak! We use a function from `kinematics` to do this, and pass in a list of the particles to combine and a corresponding list of their rest masses. We take the rest masses from the `particle` package, again accessing the information via the `literals` module. So `lp.K_plus.mass` gives us the rest mass of the charged kaon."
   ]
  },
  {
   "cell_type": "code",
   "execution_count": 285,
   "metadata": {},
   "outputs": [],
   "source": [
    "PDG_K_m = lp.K_plus.mass/1000.\n",
    "PDG_pi_m = lp.pi_plus.mass/1000.\n",
    "D[\"mass\"] = kinematics.mass([D[\"k\"], D[\"pi\"]], [PDG_K_m, PDG_pi_m])"
   ]
  },
  {
   "cell_type": "markdown",
   "metadata": {},
   "source": [
    "To look at only those $K\\pi$ combinations consistent with a $D^0$, we can cut around the PDG $D^0$ mass:"
   ]
  },
  {
   "cell_type": "code",
   "execution_count": 286,
   "metadata": {},
   "outputs": [],
   "source": [
    "PDG_D_m = lp.D_0.mass/1000.\n",
    "D_cut = abs(D[\"mass\"] - PDG_D_m) < 0.025\n",
    "D = D[D_cut]"
   ]
  },
  {
   "cell_type": "markdown",
   "metadata": {},
   "source": [
    "We now make a quick histogram of the $K\\pi$ invariant mass, using the `matplotlib` `hist` function:"
   ]
  },
  {
   "cell_type": "code",
   "execution_count": 289,
   "metadata": {
    "scrolled": false
   },
   "outputs": [
    {
     "data": {
      "image/png": "[encoded data removed]",
      "text/plain": [
       "<Figure size 432x288 with 1 Axes>"
      ]
     },
     "metadata": {
      "needs_background": "light"
     },
     "output_type": "display_data"
    }
   ],
   "source": [
    "plt.hist(ak.flatten(D[\"mass\"]), bins=30)\n",
    "plt.show()"
   ]
  },
  {
   "cell_type": "markdown",
   "metadata": {},
   "source": [
    "Note the use of `ak.flatten()` here, which is the `awkward array` function that turns the jagged data into non-jagged (which `matplotlib` requires). What this means in pratice is that all $D^0$ candidates from all events are shown together - so if an event happens to contain two $K\\pi$ combinations passing our requirements, both of them will be added to the histogram."
   ]
  },
  {
   "cell_type": "markdown",
   "metadata": {},
   "source": [
    "## Pretty plotting\n",
    "\n",
    "An example function which takes the `D[\"mass\"]` values and plots them in a pretty error bar plot is provided. It is run with:"
   ]
  },
  {
   "cell_type": "code",
   "execution_count": 290,
   "metadata": {},
   "outputs": [
    {
     "data": {
      "image/png": "[encoded data removed]",
      "text/plain": [
       "<Figure size 576x576 with 1 Axes>"
      ]
     },
     "metadata": {
      "needs_background": "light"
     },
     "output_type": "display_data"
    }
   ],
   "source": [
    "low = PDG_D_m - 0.025\n",
    "high = PDG_D_m + 0.025\n",
    "plotting.errorbar_hist(D,\"mass\",\"D\",\"$m(K^- \\pi^+)$\",\"GeV/$c^2$\",low,high,30)"
   ]
  },
  {
   "cell_type": "markdown",
   "metadata": {},
   "source": [
    "Here we pass the function the array containing our D candidates (`D`), the variable we want to plot (`mass`), the name of the particle which gets added to the output file name for the plot (\"D\"), the x-axis title, and the histogram lower and upper limits."
   ]
  }
 ],
 "metadata": {
  "kernelspec": {
   "display_name": "Python 3",
   "language": "python",
   "name": "python3"
  },
  "language_info": {
   "codemirror_mode": {
    "name": "ipython",
    "version": 3
   },
   "file_extension": ".py",
   "mimetype": "text/x-python",
   "name": "python",
   "nbconvert_exporter": "python",
   "pygments_lexer": "ipython3",
   "version": "3.7.6"
  }
 },
 "nbformat": 4,
 "nbformat_minor": 4
}

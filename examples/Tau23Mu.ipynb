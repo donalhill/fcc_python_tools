{
 "cells": [
  {
   "cell_type": "markdown",
   "metadata": {},
   "source": [
    "# Exclusive $\\tau^+ \\to \\mu^+ \\mu^+ \\mu^-$ mass peak reconstruction"
   ]
  },
  {
   "cell_type": "code",
   "execution_count": 34,
   "metadata": {},
   "outputs": [],
   "source": [
    "import sys,os\n",
    "import uproot4 as uproot\n",
    "import awkward1 as ak\n",
    "import json\n",
    "import numpy as np\n",
    "import matplotlib.pyplot as plt\n",
    "from fcc_python_tools.locations import loc\n",
    "from fcc_python_tools import kinematics\n",
    "from particle import literals as lp\n",
    "from fcc_python_tools import plotting\n",
    "import tensorflow as tf\n",
    "import zfit\n",
    "import random\n",
    "\n",
    "from matplotlib import rc\n",
    "rc('font',**{'family':'serif','serif':['Roman']})\n",
    "rc('text', usetex=True)\n",
    "\n",
    "file_type = \"p8_ee_Ztautau_ecm91_EvtGen_Tau2MuMuMu\"\n",
    "\n",
    "#Load 1 sub-file of 100k events\n",
    "file = uproot.open(f\"/eos/experiment/fcc/ee/generation/DelphesEvents/fcc_tmp/{file_type}/events_000032434.root\")\n",
    "tree = file['events']\n",
    "\n",
    "#Get all the variables in the tree\n",
    "vars = tree.keys()\n",
    "\n",
    "#Loacation of the reco particles\n",
    "r_container = \"ReconstructedParticles\"\n",
    "r_c = f'{r_container}/{r_container}'\n",
    "\n",
    "#Keep the variables that aren't covMatrix\n",
    "keep_vars = []\n",
    "for v in vars:\n",
    "    if(\"covMatrix\" not in v and r_c in v):\n",
    "        keep_vars.append(v)\n",
    "        \n",
    "n_keep = 10000\n",
    "\n",
    "r = tree.arrays(keep_vars,how=\"zip\")[:n_keep]"
   ]
  },
  {
   "cell_type": "markdown",
   "metadata": {},
   "source": [
    "Calculate momentum and apply a cut, then select the muons:"
   ]
  },
  {
   "cell_type": "code",
   "execution_count": 35,
   "metadata": {},
   "outputs": [],
   "source": [
    "r[r_c,'p'] = kinematics.calc_p(r,r_c)\n",
    "p_cut = r[r_c,\"p\"] > 0.\n",
    "r = r[p_cut]\n",
    "\n",
    "#Muons\n",
    "mu_cut = abs(r[r_c,\"mass\"] - lp.mu_plus.mass/1000.) < 1e-4\n",
    "r[\"mu\"] = r[r_c][mu_cut]"
   ]
  },
  {
   "cell_type": "markdown",
   "metadata": {},
   "source": [
    "Make combinations of three muons:"
   ]
  },
  {
   "cell_type": "code",
   "execution_count": 36,
   "metadata": {},
   "outputs": [],
   "source": [
    "tau = ak.combinations(r[\"mu\"],3)\n",
    "mu1, mu2, mu3 = ak.unzip(tau)\n",
    "\n",
    "#Require physical charge combination\n",
    "charge_cut_1 = mu1[\"charge\"] != mu2[\"charge\"]\n",
    "charge_cut_2 = mu1[\"charge\"] != mu3[\"charge\"]\n",
    "charge_cut = np.logical_and(charge_cut_1, charge_cut_2)\n",
    "tau = tau[charge_cut]\n",
    "\n",
    "PDG_mu_m = lp.mu_plus.mass/1000.\n",
    "mass = kinematics.mass([mu1, mu2, mu3], [PDG_mu_m, PDG_mu_m, PDG_mu_m])"
   ]
  },
  {
   "cell_type": "markdown",
   "metadata": {},
   "source": [
    "Apply mass window around the $\\tau$ mass:"
   ]
  },
  {
   "cell_type": "code",
   "execution_count": 37,
   "metadata": {},
   "outputs": [],
   "source": [
    "PDG_tau_m = lp.tau_plus.mass/1000.\n",
    "window = 0.03\n",
    "mass_cut = abs(mass - PDG_tau_m) < window\n",
    "mass = mass[mass_cut]"
   ]
  },
  {
   "cell_type": "markdown",
   "metadata": {},
   "source": [
    "Fit mass peak with zfit:"
   ]
  },
  {
   "cell_type": "code",
   "execution_count": 61,
   "metadata": {},
   "outputs": [],
   "source": [
    "low = PDG_tau_m - window\n",
    "high = PDG_tau_m + window\n",
    "obs = zfit.Space('mtau', limits=(low, high))\n",
    "\n",
    "#Signal PDF\n",
    "rand = random.randint(0,9999)\n",
    "mu = zfit.Parameter(f\"mu_{rand}\", PDG_tau_m, low, high)\n",
    "sigmaL = zfit.Parameter(f\"sigmaL_{rand}\", 0.004, 0., 0.1)\n",
    "sigmaR = zfit.Parameter(f\"sigmaR_{rand}\", 0.002, 0., 0.1)\n",
    "alphaL = zfit.Parameter(f\"alphaL_{rand}\", 0.5, 0., 5.)\n",
    "nL = zfit.Parameter(f\"nL_{rand}\", 1., 0., 200.)\n",
    "alphaR = zfit.Parameter(f\"alphaR_{rand}\", -0.5, -5., 0.)\n",
    "nR = zfit.Parameter(f\"nR_{rand}\", 1., 0., 200.)\n",
    "frac = zfit.Parameter(f\"frac_{rand}\", 0.5, 0., 1.)\n",
    "\n",
    "pdf_sigL = zfit.pdf.CrystalBall(obs=obs, mu=mu, sigma=sigmaL, alpha=alphaL, n=nL)\n",
    "pdf_sigR = zfit.pdf.CrystalBall(obs=obs, mu=mu, sigma=sigmaR, alpha=alphaR, n=nR)\n",
    "pdf = zfit.pdf.SumPDF([pdf_sigL, pdf_sigR], frac)"
   ]
  },
  {
   "cell_type": "code",
   "execution_count": 39,
   "metadata": {},
   "outputs": [],
   "source": [
    "data_np = ak.to_numpy(ak.flatten(mass))\n",
    "data = zfit.Data.from_numpy(obs=obs, array=data_np)"
   ]
  },
  {
   "cell_type": "code",
   "execution_count": 62,
   "metadata": {},
   "outputs": [
    {
     "name": "stdout",
     "output_type": "stream",
     "text": [
      "┌──────────────────────────────────┬──────────────────────────────────────┐\n",
      "│ FCN = -6.911e+04                 │      Ncalls = 1360 (1360 total)      │\n",
      "│ EDM = 1.5e-05 (Goal: 1e-05)      │               up = 0.5               │\n",
      "├───────────────┬──────────────────┼──────────────────────────────────────┤\n",
      "│ Valid Minimum │ Valid Parameters │       SOME Parameters at limit       │\n",
      "├───────────────┴──────────────────┼──────────────────────────────────────┤\n",
      "│ Below EDM threshold (goal x 10)  │           Below call limit           │\n",
      "├───────────────┬──────────────────┼───────────┬─────────────┬────────────┤\n",
      "│   Hesse ok    │  Has Covariance  │ Accurate  │  Pos. def.  │ Not forced │\n",
      "└───────────────┴──────────────────┴───────────┴─────────────┴────────────┘\n",
      "m(3mu) fit function minimum: -69109.54821037785\n",
      "m(3mu) fit converged: True\n",
      "m(3mu) fit full minimizer information: {'n_eval': 1360, 'n_iter': 1360, 'original': FMin(fval=-69109.54821037785, edm=1.4957459891327109e-05, tolerance=0.01, nfcn=1360, ncalls=1360, up=0.5, is_valid=True, has_valid_parameters=True, has_accurate_covar=True, has_posdef_covar=True, has_made_posdef_covar=False, hesse_failed=False, has_covariance=True, is_above_max_edm=False, has_reached_call_limit=False, has_parameters_at_limit=True)}\n",
      "name             value         minuit_minos    at limit\n",
      "-----------  ---------  -------------------  ----------\n",
      "frac_5023       0.4838  -  0.038   +  0.047       False\n",
      "alphaL_5023      1.653  -   0.14   +   0.15       False\n",
      "mu_5023          1.777  -4.4e-05   +4.4e-05       False\n",
      "nL_5023          6.172  -    3.1   +    3.9       False\n",
      "sigmaL_5023   0.008234  - 0.0004   +0.00038       False\n",
      "alphaR_5023     -3.035  -  0.077   +   0.12       False\n",
      "nR_5023      6.771e-07  -  0.037   +  0.048       False\n",
      "sigmaR_5023   0.003821  -0.00017   +0.00014       False\n"
     ]
    }
   ],
   "source": [
    "nll = zfit.loss.UnbinnedNLL(model=pdf, data=data)\n",
    "minimizer = zfit.minimize.Minuit(tolerance=1e-5)\n",
    "result = minimizer.minimize(nll)\n",
    "param_errors, _ = result.errors(method=\"minuit_minos\")\n",
    "\n",
    "print(\"m(3mu) fit function minimum:\", result.fmin)\n",
    "print(\"m(3mu) fit converged:\", result.converged)\n",
    "print(\"m(3mu) fit full minimizer information:\", result.info)\n",
    "\n",
    "params = result.params\n",
    "print(params)"
   ]
  },
  {
   "cell_type": "code",
   "execution_count": 67,
   "metadata": {},
   "outputs": [
    {
     "data": {
      "image/png": "[encoded data removed]",
      "text/plain": [
       "<Figure size 720x576 with 1 Axes>"
      ]
     },
     "metadata": {
      "needs_background": "light"
     },
     "output_type": "display_data"
    }
   ],
   "source": [
    "fig,ax = plt.subplots(figsize=(10,8))\n",
    "lower, upper = obs.limits\n",
    "low = lower[-1][0]\n",
    "high = upper[0][0]\n",
    "bin_width = 0.001\n",
    "bins = int(float(high - low)/bin_width)\n",
    "counts, bin_edges = np.histogram(data_np, bins, range=(low,high))\n",
    "bin_centres = (bin_edges[:-1] + bin_edges[1:])/2.\n",
    "err = np.sqrt(counts)\n",
    "plt.errorbar(bin_centres, counts, yerr=err, fmt='o', markersize=3, color='black')\n",
    "x_plot = np.linspace(low, high, num=1000)\n",
    "y_plot_tot = zfit.run(pdf.pdf(x_plot, norm_range=obs))\n",
    "plt.plot(x_plot, y_plot_tot*len(data_np)/bins*obs.area(), color='navy', linewidth=2.5, alpha=0.6)\n",
    "ax.tick_params(axis='both', which='major', labelsize=25)\n",
    "plt.ylabel(\"Candidates / (%.3f GeV/$c^2$)\" % bin_width,fontsize=25)\n",
    "plt.xlabel(\"$m(\\mu^\\pm \\mu^\\pm \\mu^\\mp)$ [GeV/$c^2$]\",fontsize=25)\n",
    "plt.xlim(low,high)\n",
    "ymin, ymax = plt.ylim()\n",
    "plt.ylim(0,1.05*ymax)\n",
    "plt.text(1.785,0.9*ymax,\"\\\\textbf{FCC-ee}\",fontsize=20)\n",
    "plt.text(1.785,0.82*ymax,\"$Z^0 \\\\to \\\\tau \\\\tau$ sim.\",fontsize=20)\n",
    "plt.text(1.785,0.74*ymax,\"$\\\\tau^\\pm \\\\to \\mu^\\pm \\mu^\\pm \\mu^\\mp$ excl.\",fontsize=20)\n",
    "plt.tight_layout()\n",
    "fig.savefig(loc.PLOTS+f\"/{file_type}_Tau_M_fit.pdf\")"
   ]
  },
  {
   "cell_type": "code",
   "execution_count": 68,
   "metadata": {},
   "outputs": [
    {
     "name": "stdout",
     "output_type": "stream",
     "text": [
      "N expected per year per exp = 5.308e+02\n"
     ]
    }
   ],
   "source": [
    "#Number of Z's produced per year (4) per experiment (2)\n",
    "N_Z = 3e12 * 0.25 * 0.5\n",
    "#Number of taus produced\n",
    "N_tau = 2 * 0.0337 * N_Z\n",
    "#Number of tau -> 3mu\n",
    "N_3Mu = N_tau * 2.1e-8\n",
    "\n",
    "print(\"N expected per year per exp = %.3e\" % N_3Mu)"
   ]
  }
 ],
 "metadata": {
  "kernelspec": {
   "display_name": "Python 3",
   "language": "python",
   "name": "python3"
  },
  "language_info": {
   "codemirror_mode": {
    "name": "ipython",
    "version": 3
   },
   "file_extension": ".py",
   "mimetype": "text/x-python",
   "name": "python",
   "nbconvert_exporter": "python",
   "pygments_lexer": "ipython3",
   "version": "3.7.6"
  }
 },
 "nbformat": 4,
 "nbformat_minor": 4
}

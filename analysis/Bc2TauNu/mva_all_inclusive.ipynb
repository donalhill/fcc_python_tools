{
 "cells": [
  {
   "cell_type": "code",
   "execution_count": 1,
   "metadata": {},
   "outputs": [
    {
     "name": "stdout",
     "output_type": "stream",
     "text": [
      "Welcome to JupyROOT 6.20/06\n"
     ]
    },
    {
     "name": "stderr",
     "output_type": "stream",
     "text": [
      "/cvmfs/sft.cern.ch/lcg/views/LCG_97apython3/x86_64-centos7-gcc8-opt/lib/python3.7/site-packages/root_numpy/__init__.py:46: RuntimeWarning: numpy 1.18.5 is currently installed but you installed root_numpy against numpy 1.16.4. Please consider reinstalling root_numpy for this numpy version.\n",
      "  RuntimeWarning)\n",
      "/cvmfs/sft.cern.ch/lcg/views/LCG_97apython3/x86_64-centos7-gcc8-opt/lib/python3.7/site-packages/sklearn/externals/joblib/__init__.py:15: DeprecationWarning: sklearn.externals.joblib is deprecated in 0.21 and will be removed in 0.23. Please import this functionality directly from joblib, which can be installed with: pip install joblib. If this warning is raised when loading pickled models, you may need to re-serialize those models with scikit-learn 0.21+.\n",
      "  warnings.warn(msg, category=DeprecationWarning)\n"
     ]
    }
   ],
   "source": [
    "import sys,os\n",
    "import json\n",
    "import numpy as np\n",
    "import matplotlib.pyplot as plt\n",
    "from fcc_python_tools.locations import loc\n",
    "from fcc_python_tools import plotting\n",
    "import pandas as pd\n",
    "from root_pandas import read_root, to_root\n",
    "import xgboost as xgb\n",
    "from sklearn.model_selection import train_test_split\n",
    "from sklearn.ensemble import GradientBoostingClassifier\n",
    "from sklearn.metrics import classification_report, roc_auc_score\n",
    "from sklearn.metrics import roc_curve, auc\n",
    "from sklearn.externals import joblib\n",
    "from sklearn.utils.class_weight import compute_sample_weight\n",
    "from scipy.stats import ks_2samp\n",
    "import xgboost as xgb\n",
    "\n",
    "from matplotlib import rc\n",
    "rc('font',**{'family':'serif','serif':['Roman']})\n",
    "rc('text', usetex=True)"
   ]
  },
  {
   "cell_type": "code",
   "execution_count": 2,
   "metadata": {},
   "outputs": [],
   "source": [
    "#Variables to use in the MVA\n",
    "training_vars = [\"EVT_thrutshemis_e_min\",\n",
    "                 \"EVT_thrutshemis_e_max\",\n",
    "                 \"echarged_min\",\n",
    "                 \"echarged_max\",\n",
    "                 \"eneutral_min\",\n",
    "                 \"eneutral_max\",\n",
    "                 \"ncharged_min\",\n",
    "                 \"ncharged_max\",\n",
    "                 \"nneutral_min\",\n",
    "                 \"nneutral_max\"\n",
    "                ]"
   ]
  },
  {
   "cell_type": "code",
   "execution_count": 3,
   "metadata": {},
   "outputs": [],
   "source": [
    "#Bc -> tau nu signal\n",
    "path = f\"{loc.OUT}/ROOT\"\n",
    "df_sig = read_root(f\"{path}/Bc2TauNu.root\",\"events\",columns=training_vars)"
   ]
  },
  {
   "cell_type": "code",
   "execution_count": 4,
   "metadata": {},
   "outputs": [
    {
     "name": "stdout",
     "output_type": "stream",
     "text": [
      "Total size of uds sample: 9980004\n",
      "Size of uds in combined sample: 611643\n",
      "Total size of cc sample: 4655078\n",
      "Size of cc in combined sample: 172078\n",
      "Total size of bb sample: 9882716\n",
      "Size of bb in combined sample: 216278\n"
     ]
    }
   ],
   "source": [
    "#Z -> qq inclusive\n",
    "n_tot_bkg = 1e6\n",
    "BF = {}\n",
    "BF[\"bb\"] = 0.1512\n",
    "BF[\"cc\"] = 0.1203\n",
    "BF[\"uds\"] = 0.6991 - BF[\"bb\"] - BF[\"cc\"]\n",
    "BF_tot = BF[\"uds\"] + BF[\"cc\"] + BF[\"bb\"]\n",
    "df_bkg = {}\n",
    "for q in [\"uds\",\"cc\",\"bb\"]:\n",
    "    df_bkg[q] = read_root(f\"{path}/inclusive_Z{q}.root\",\"events\",columns=training_vars)\n",
    "    print(f\"Total size of {q} sample: {len(df_bkg[q])}\")\n",
    "    df_bkg[q] = df_bkg[q].sample(n=int(n_tot_bkg*(BF[q]/BF_tot)),random_state=10)\n",
    "    print(f\"Size of {q} in combined sample: {len(df_bkg[q])}\")\n",
    "    "
   ]
  },
  {
   "cell_type": "code",
   "execution_count": 5,
   "metadata": {},
   "outputs": [],
   "source": [
    "#Make a combined background sample according to BFs\n",
    "df_bkg_tot = df_bkg[\"uds\"].append(df_bkg[\"cc\"])\n",
    "df_bkg_tot = df_bkg_tot.append(df_bkg[\"bb\"])\n",
    "#Shuffle the background so it is an even mixture of the modes\n",
    "df_bkg_tot = df_bkg_tot.sample(frac=1)"
   ]
  },
  {
   "cell_type": "code",
   "execution_count": 6,
   "metadata": {},
   "outputs": [],
   "source": [
    "#Signal and background labels\n",
    "df_sig[\"label\"] = 1\n",
    "df_bkg_tot[\"label\"] = 0\n",
    "\n",
    "#Combine the datasets\n",
    "df_tot = df_sig.append(df_bkg_tot)"
   ]
  },
  {
   "cell_type": "code",
   "execution_count": 7,
   "metadata": {},
   "outputs": [],
   "source": [
    "#Split into class label (y) and training vars (x)\n",
    "y = df_tot[\"label\"]\n",
    "x = df_tot[training_vars]"
   ]
  },
  {
   "cell_type": "code",
   "execution_count": 8,
   "metadata": {},
   "outputs": [],
   "source": [
    "#Split into samples to be used in the two BDTs, which will be used to make predictions for each other\n",
    "x_A, x_B, y_A, y_B = train_test_split(x, y, test_size=0.5, random_state=100)"
   ]
  },
  {
   "cell_type": "code",
   "execution_count": 9,
   "metadata": {},
   "outputs": [],
   "source": [
    "#Sample weights to balance the classes\n",
    "weights_A = compute_sample_weight(class_weight='balanced', y=y_A)\n",
    "weights_B = compute_sample_weight(class_weight='balanced', y=y_B)"
   ]
  },
  {
   "cell_type": "code",
   "execution_count": 10,
   "metadata": {},
   "outputs": [],
   "source": [
    "#BDTs for each sample, which we will apply to the other sample (cross BDT)\n",
    "config_dict = {\n",
    "        \"n_estimators\": 400,\n",
    "        \"learning_rate\": 0.3,\n",
    "        \"max_depth\": 3,\n",
    "        }\n",
    "\n",
    "bdt_A = xgb.XGBClassifier(n_estimators=config_dict[\"n_estimators\"], \n",
    "                                   max_depth=config_dict[\"max_depth\"], \n",
    "                                   learning_rate=config_dict[\"learning_rate\"], \n",
    "                                  )\n",
    "\n",
    "bdt_B = xgb.XGBClassifier(n_estimators=config_dict[\"n_estimators\"], \n",
    "                                   max_depth=config_dict[\"max_depth\"], \n",
    "                                   learning_rate=config_dict[\"learning_rate\"], \n",
    "                                  )"
   ]
  },
  {
   "cell_type": "code",
   "execution_count": 11,
   "metadata": {
    "scrolled": false
   },
   "outputs": [
    {
     "data": {
      "text/plain": [
       "XGBClassifier(base_score=0.5, booster='gbtree', colsample_bylevel=1,\n",
       "              colsample_bynode=1, colsample_bytree=1, gamma=0,\n",
       "              learning_rate=0.3, max_delta_step=0, max_depth=3,\n",
       "              min_child_weight=1, missing=None, n_estimators=400, n_jobs=1,\n",
       "              nthread=None, objective='binary:logistic', random_state=0,\n",
       "              reg_alpha=0, reg_lambda=1, scale_pos_weight=1, seed=None,\n",
       "              silent=None, subsample=1, verbosity=1)"
      ]
     },
     "execution_count": 11,
     "metadata": {},
     "output_type": "execute_result"
    }
   ],
   "source": [
    "#Fit the models\n",
    "bdt_A.fit(x_A, y_A, sample_weight=weights_A)\n",
    "bdt_B.fit(x_B, y_B, sample_weight=weights_B) "
   ]
  },
  {
   "cell_type": "code",
   "execution_count": 12,
   "metadata": {},
   "outputs": [
    {
     "name": "stdout",
     "output_type": "stream",
     "text": [
      "Feature importances for BDT A\n",
      "                       importance\n",
      "EVT_thrutshemis_e_min    0.608349\n",
      "eneutral_min             0.111191\n",
      "echarged_min             0.097065\n",
      "EVT_thrutshemis_e_max    0.071433\n",
      "eneutral_max             0.033231\n",
      "echarged_max             0.024955\n",
      "ncharged_min             0.022656\n",
      "ncharged_max             0.013196\n",
      "nneutral_min             0.009692\n",
      "nneutral_max             0.008231\n",
      "Feature importances for BDT B\n",
      "                       importance\n",
      "EVT_thrutshemis_e_min    0.594734\n",
      "eneutral_min             0.123289\n",
      "echarged_min             0.097628\n",
      "EVT_thrutshemis_e_max    0.067322\n",
      "echarged_max             0.034260\n",
      "ncharged_min             0.029771\n",
      "eneutral_max             0.024758\n",
      "nneutral_min             0.010500\n",
      "ncharged_max             0.008969\n",
      "nneutral_max             0.008770\n"
     ]
    }
   ],
   "source": [
    "#Get the feature importances \n",
    "feature_importances_A = pd.DataFrame(bdt_A.feature_importances_,\n",
    "                                     index = training_vars,\n",
    "                                     columns=['importance']).sort_values('importance',ascending=False)\n",
    "\n",
    "print(\"Feature importances for BDT A\")\n",
    "print(feature_importances_A)\n",
    "\n",
    "feature_importances_B = pd.DataFrame(bdt_B.feature_importances_,\n",
    "                                     index = training_vars,\n",
    "                                     columns=['importance']).sort_values('importance',ascending=False)\n",
    "\n",
    "print(\"Feature importances for BDT B\")\n",
    "print(feature_importances_B)"
   ]
  },
  {
   "cell_type": "code",
   "execution_count": 13,
   "metadata": {},
   "outputs": [
    {
     "name": "stdout",
     "output_type": "stream",
     "text": [
      "              precision    recall  f1-score   support\n",
      "\n",
      "  background       1.00      0.98      0.99    499972\n",
      "      signal       0.56      0.96      0.71     15321\n",
      "\n",
      "    accuracy                           0.98    515293\n",
      "   macro avg       0.78      0.97      0.85    515293\n",
      "weighted avg       0.99      0.98      0.98    515293\n",
      "\n",
      "Area under ROC curve A: 0.9695\n",
      "              precision    recall  f1-score   support\n",
      "\n",
      "  background       1.00      0.98      0.99    500027\n",
      "      signal       0.54      0.96      0.69     15265\n",
      "\n",
      "    accuracy                           0.97    515292\n",
      "   macro avg       0.77      0.97      0.84    515292\n",
      "weighted avg       0.99      0.97      0.98    515292\n",
      "\n",
      "Area under ROC curve A: 0.9680\n"
     ]
    }
   ],
   "source": [
    "#Assess the performance on the sample not used in the training\n",
    "y_predicted_B = bdt_A.predict(x_B)\n",
    "print(classification_report(y_B, \n",
    "                            y_predicted_B,\n",
    "                            target_names=[\"background\", \"signal\"])\n",
    "     )\n",
    "print(\"Area under ROC curve A: %.4f\"%(roc_auc_score(y_B, bdt_A.predict(x_B))))\n",
    "\n",
    "y_predicted_A = bdt_B.predict(x_A)\n",
    "print(classification_report(y_A, \n",
    "                            y_predicted_A,\n",
    "                            target_names=[\"background\", \"signal\"])\n",
    "     )\n",
    "print(\"Area under ROC curve A: %.4f\"%(roc_auc_score(y_A, bdt_B.predict(x_A))))"
   ]
  },
  {
   "cell_type": "code",
   "execution_count": 14,
   "metadata": {},
   "outputs": [],
   "source": [
    "#Create ROC curves\n",
    "decisions_B = bdt_A.predict_proba(x_B)[:,1]\n",
    "decisions_A = bdt_B.predict_proba(x_A)[:,1]\n",
    "\n",
    "# Compute ROC curves and area under the curve\n",
    "fpr_A, tpr_A, thresholds_A = roc_curve(y_A, decisions_A)\n",
    "roc_auc_A = auc(fpr_A, tpr_A)\n",
    "\n",
    "fpr_B, tpr_B, thresholds_B = roc_curve(y_B, decisions_B)\n",
    "roc_auc_B = auc(fpr_B, tpr_B)"
   ]
  },
  {
   "cell_type": "code",
   "execution_count": 15,
   "metadata": {},
   "outputs": [
    {
     "name": "stderr",
     "output_type": "stream",
     "text": [
      "findfont: Font family ['serif'] not found. Falling back to DejaVu Sans.\n"
     ]
    },
    {
     "data": {
      "image/png": "[encoded data removed]",
      "text/plain": [
       "<Figure size 576x576 with 1 Axes>"
      ]
     },
     "metadata": {
      "needs_background": "light"
     },
     "output_type": "display_data"
    }
   ],
   "source": [
    "fig, ax = plt.subplots(figsize=(8,8))\n",
    "plt.plot(tpr_A, 1-fpr_A, lw=1.5, color=\"#7fcdbb\", label='ROC A (area = %0.3f)'%(roc_auc_A))\n",
    "plt.plot(tpr_B, 1-fpr_B, lw=1.5, color=\"#2c7fb8\", label='ROC B (area = %0.3f)'%(roc_auc_B))\n",
    "\n",
    "plt.plot([0.45, 1.], [0.45, 1.], linestyle=\"--\", color=\"k\", label='50/50')\n",
    "plt.xlim(0.45,1.)\n",
    "plt.ylim(0.45,1.)\n",
    "plt.ylabel('Background rejection',fontsize=30)\n",
    "plt.xlabel('Signal efficiency',fontsize=30)\n",
    "ax.tick_params(axis='both', which='major', labelsize=25)\n",
    "plt.legend(loc=\"upper left\",fontsize=20)\n",
    "plt.grid()\n",
    "plt.tight_layout()\n",
    "plt.show()\n",
    "fig.savefig(f\"{loc.PLOTS}/Bc2TauNu_vs_inclusive_Zuds_cc_bb_ROC.pdf\")"
   ]
  },
  {
   "cell_type": "code",
   "execution_count": 16,
   "metadata": {},
   "outputs": [
    {
     "name": "stderr",
     "output_type": "stream",
     "text": [
      "/usr/local/bin/start_ipykernel.py:9: SettingWithCopyWarning: \n",
      "A value is trying to be set on a copy of a slice from a DataFrame.\n",
      "Try using .loc[row_indexer,col_indexer] = value instead\n",
      "\n",
      "See the caveats in the documentation: http://pandas.pydata.org/pandas-docs/stable/indexing.html#indexing-view-versus-copy\n",
      "/usr/local/bin/start_ipykernel.py:10: SettingWithCopyWarning: \n",
      "A value is trying to be set on a copy of a slice from a DataFrame.\n",
      "Try using .loc[row_indexer,col_indexer] = value instead\n",
      "\n",
      "See the caveats in the documentation: http://pandas.pydata.org/pandas-docs/stable/indexing.html#indexing-view-versus-copy\n",
      "/usr/local/bin/start_ipykernel.py:11: SettingWithCopyWarning: \n",
      "A value is trying to be set on a copy of a slice from a DataFrame.\n",
      "Try using .loc[row_indexer,col_indexer] = value instead\n",
      "\n",
      "See the caveats in the documentation: http://pandas.pydata.org/pandas-docs/stable/indexing.html#indexing-view-versus-copy\n",
      "/usr/local/bin/start_ipykernel.py:12: SettingWithCopyWarning: \n",
      "A value is trying to be set on a copy of a slice from a DataFrame.\n",
      "Try using .loc[row_indexer,col_indexer] = value instead\n",
      "\n",
      "See the caveats in the documentation: http://pandas.pydata.org/pandas-docs/stable/indexing.html#indexing-view-versus-copy\n",
      "/usr/local/bin/start_ipykernel.py:13: SettingWithCopyWarning: \n",
      "A value is trying to be set on a copy of a slice from a DataFrame.\n",
      "Try using .loc[row_indexer,col_indexer] = value instead\n",
      "\n",
      "See the caveats in the documentation: http://pandas.pydata.org/pandas-docs/stable/indexing.html#indexing-view-versus-copy\n",
      "/usr/local/bin/start_ipykernel.py:14: SettingWithCopyWarning: \n",
      "A value is trying to be set on a copy of a slice from a DataFrame.\n",
      "Try using .loc[row_indexer,col_indexer] = value instead\n",
      "\n",
      "See the caveats in the documentation: http://pandas.pydata.org/pandas-docs/stable/indexing.html#indexing-view-versus-copy\n",
      "/usr/local/bin/start_ipykernel.py:15: SettingWithCopyWarning: \n",
      "A value is trying to be set on a copy of a slice from a DataFrame.\n",
      "Try using .loc[row_indexer,col_indexer] = value instead\n",
      "\n",
      "See the caveats in the documentation: http://pandas.pydata.org/pandas-docs/stable/indexing.html#indexing-view-versus-copy\n",
      "/usr/local/bin/start_ipykernel.py:16: SettingWithCopyWarning: \n",
      "A value is trying to be set on a copy of a slice from a DataFrame.\n",
      "Try using .loc[row_indexer,col_indexer] = value instead\n",
      "\n",
      "See the caveats in the documentation: http://pandas.pydata.org/pandas-docs/stable/indexing.html#indexing-view-versus-copy\n"
     ]
    }
   ],
   "source": [
    "#Get BDT scores\n",
    "sig_A, sig_B = train_test_split(df_sig, test_size=0.5, random_state=10)\n",
    "bkg_A, bkg_B = train_test_split(df_bkg_tot, test_size=0.5, random_state=10)\n",
    "sig_A_train_vars = sig_A[training_vars]\n",
    "sig_B_train_vars = sig_B[training_vars]\n",
    "bkg_A_train_vars = bkg_A[training_vars]\n",
    "bkg_B_train_vars = bkg_B[training_vars]\n",
    "\n",
    "sig_A[\"BDT_all\"] = bdt_B.predict_proba(sig_A_train_vars).tolist()\n",
    "sig_B[\"BDT_all\"] = bdt_A.predict_proba(sig_B_train_vars).tolist()\n",
    "bkg_A[\"BDT_all\"] = bdt_B.predict_proba(bkg_A_train_vars).tolist()\n",
    "bkg_B[\"BDT_all\"] = bdt_A.predict_proba(bkg_B_train_vars).tolist()\n",
    "sig_A['BDT_all'] = sig_A['BDT_all'].apply(lambda x: x[1] if isinstance(x, list) else x)\n",
    "sig_B['BDT_all'] = sig_B['BDT_all'].apply(lambda x: x[1] if isinstance(x, list) else x)\n",
    "bkg_A['BDT_all'] = bkg_A['BDT_all'].apply(lambda x: x[1] if isinstance(x, list) else x)\n",
    "bkg_B['BDT_all'] = bkg_B['BDT_all'].apply(lambda x: x[1] if isinstance(x, list) else x)"
   ]
  },
  {
   "cell_type": "code",
   "execution_count": 17,
   "metadata": {},
   "outputs": [],
   "source": [
    "#Combine the samples and plot signal and background BDTs\n",
    "sig_tot = sig_A.append(sig_B)\n",
    "bkg_tot = bkg_A.append(bkg_B)"
   ]
  },
  {
   "cell_type": "code",
   "execution_count": 18,
   "metadata": {},
   "outputs": [
    {
     "name": "stdout",
     "output_type": "stream",
     "text": [
      "BDT cut that keeps 10^-6 bkg = 0.9945\n",
      "Signal eff. for this cut = 0.653893938403191\n"
     ]
    }
   ],
   "source": [
    "#Find cut which keeps 1 background event i.e. 1e-6 eff\n",
    "eff_bkg = 1\n",
    "BDT_cut = 0.\n",
    "n_bkg_tot = len(bkg_tot)\n",
    "df_bkg_cut = bkg_tot.copy()\n",
    "for i in range(0,10000):\n",
    "    cut = float(i)/10000.\n",
    "    df_bkg_cut = df_bkg_cut.query(f\"BDT_all > {cut}\")\n",
    "    n_bkg_cut = float(len(df_bkg_cut))\n",
    "    if(n_bkg_cut == 1):\n",
    "        BDT_cut = cut\n",
    "        break\n",
    "print(\"BDT cut that keeps 10^-6 bkg = %s\" % BDT_cut)\n",
    "\n",
    "#Signal efficiency at this BDT cut\n",
    "n_sig_pass = float(len(sig_tot.query(f\"BDT_all > {BDT_cut}\")))\n",
    "eff_sig_pass = n_sig_pass / len(sig_tot)\n",
    "print(\"Signal eff. for this cut = %s\" % eff_sig_pass)"
   ]
  },
  {
   "cell_type": "code",
   "execution_count": 19,
   "metadata": {},
   "outputs": [
    {
     "name": "stdout",
     "output_type": "stream",
     "text": [
      "KS score for signal A vs. B: 0.020597659059700457\n",
      "KS score for background A vs. B: 0.17203056726513452\n"
     ]
    }
   ],
   "source": [
    "#KS tests for signal and background\n",
    "ks_sig = ks_2samp(sig_A[\"BDT_all\"],sig_B[\"BDT_all\"])\n",
    "\n",
    "ks_bkg = ks_2samp(bkg_A[\"BDT_all\"],bkg_B[\"BDT_all\"])\n",
    "\n",
    "print(f\"KS score for signal A vs. B: {ks_sig[0]}\")\n",
    "print(f\"KS score for background A vs. B: {ks_bkg[0]}\")"
   ]
  },
  {
   "cell_type": "code",
   "execution_count": 20,
   "metadata": {},
   "outputs": [
    {
     "name": "stderr",
     "output_type": "stream",
     "text": [
      "findfont: Font family ['serif'] not found. Falling back to DejaVu Sans.\n"
     ]
    },
    {
     "data": {
      "image/png": "[encoded data removed]",
      "text/plain": [
       "<Figure size 864x576 with 1 Axes>"
      ]
     },
     "metadata": {
      "needs_background": "light"
     },
     "output_type": "display_data"
    }
   ],
   "source": [
    "fig, ax = plt.subplots(figsize=(12,8))\n",
    "xmin = 0\n",
    "xmax = 1\n",
    "bins_bkg = int(np.sqrt(len(bkg_A)))\n",
    "bins_sig = int(np.sqrt(len(sig_A)))\n",
    "plt.hist(sig_A[\"BDT_all\"],bins=bins_sig,range=(xmin,xmax),density=True,color=\"crimson\",histtype='step',linewidth=2,label=\"$B_c^+ \\\\to \\\\tau^+ \\\\nu_\\\\tau$ (BDT A)\")\n",
    "plt.hist(sig_B[\"BDT_all\"],bins=bins_sig,range=(xmin,xmax),density=True,color=\"crimson\",histtype='stepfilled',alpha=0.5,linewidth=2,label=\"$B_c^+ \\\\to \\\\tau^+ \\\\nu_\\\\tau$ (BDT B)\")\n",
    "plt.hist(bkg_tot[\"BDT_all\"],bins=bins_bkg,range=(xmin,xmax),density=True,color=\"k\",histtype='step',linewidth=2,label=\"Inclusive $Z^0 \\\\to q\\\\bar{q},c\\\\bar{c},b\\\\bar{b}$ (BDT A)\")\n",
    "plt.hist(bkg_B[\"BDT_all\"],bins=bins_bkg,range=(xmin,xmax),density=True,color=\"k\",histtype='stepfilled',alpha=0.5,linewidth=2,label=\"Inclusive $Z^0 \\\\to q\\\\bar{q},c\\\\bar{c},b\\\\bar{b}$ (BDT B)\")\n",
    "ax.tick_params(axis='both', which='major', labelsize=25)\n",
    "plt.xlim(xmin,xmax)\n",
    "plt.xlabel(\"BDT score ($q\\\\bar{q},c\\\\bar{c},b\\\\bar{b}$)\",fontsize=30)\n",
    "plt.ylabel(\"Normalised counts\",fontsize=30)\n",
    "plt.yscale('log')\n",
    "ymin,ymax = plt.ylim()\n",
    "plt.ylim(ymin,50*ymax)\n",
    "plt.legend(fontsize=18, loc=\"upper left\")\n",
    "plt.tight_layout()\n",
    "plt.show()\n",
    "fig.savefig(f\"{loc.PLOTS}/Bc2TauNu_vs_inclusive_Zuds_cc_bb_BDT.pdf\")"
   ]
  },
  {
   "cell_type": "code",
   "execution_count": 21,
   "metadata": {},
   "outputs": [],
   "source": [
    "#Save signal sample to ROOT file\n",
    "df_sig_out = read_root(f\"{path}/Bc2TauNu.root\",\"events\",columns=training_vars)\n",
    "df_sig_out[\"BDT_A\"] = bdt_A.predict_proba(df_sig_out).tolist()\n",
    "df_sig_out[\"BDT_A\"] = df_sig_out[\"BDT_A\"].apply(lambda x: x[1] if isinstance(x, list) else x)\n",
    "df_sig_out[\"BDT_B\"] = bdt_B.predict_proba(df_sig_out[training_vars]).tolist()\n",
    "df_sig_out[\"BDT_B\"] = df_sig_out[\"BDT_B\"].apply(lambda x: x[1] if isinstance(x, list) else x)\n",
    "df_sig_out[\"BDT_all\"] = 0.5*(df_sig_out[\"BDT_A\"] + df_sig_out[\"BDT_B\"])\n",
    "df_sig_out = df_sig_out.drop(\"BDT_A\",1)\n",
    "df_sig_out = df_sig_out.drop(\"BDT_B\",1)\n",
    "\n",
    "root_file_name = f\"{path}/Bc2TauNu_all_BDT.root\"\n",
    "if os.path.exists(root_file_name):\n",
    "    os.remove(root_file_name)\n",
    "df_sig_out.to_root(root_file_name,\"events\")"
   ]
  },
  {
   "cell_type": "code",
   "execution_count": 23,
   "metadata": {},
   "outputs": [],
   "source": [
    "#Save B+ -> tau nu sample to ROOT file\n",
    "root_file_name = f\"{path}/Bu2TauNu_all_BDT.root\"\n",
    "if os.path.exists(root_file_name):\n",
    "    os.remove(root_file_name)\n",
    "    \n",
    "for df_Bu_out in read_root(f\"{path}/Bu2TauNu.root\",\"events\",columns=training_vars,chunksize=100000):\n",
    "    df_Bu_out[\"BDT_A\"] = bdt_A.predict_proba(df_Bu_out).tolist()\n",
    "    df_Bu_out[\"BDT_A\"] = df_Bu_out[\"BDT_A\"].apply(lambda x: x[1] if isinstance(x, list) else x)\n",
    "    df_Bu_out[\"BDT_B\"] = bdt_B.predict_proba(df_Bu_out[training_vars]).tolist()\n",
    "    df_Bu_out[\"BDT_B\"] = df_Bu_out[\"BDT_B\"].apply(lambda x: x[1] if isinstance(x, list) else x)\n",
    "    df_Bu_out[\"BDT_all\"] = 0.5*(df_Bu_out[\"BDT_A\"] + df_Bu_out[\"BDT_B\"])\n",
    "    df_Bu_out = df_Bu_out.drop(\"BDT_A\",1)\n",
    "    df_Bu_out = df_Bu_out.drop(\"BDT_B\",1)\n",
    "    df_Bu_out.to_root(root_file_name,\"events\",mode='a')"
   ]
  },
  {
   "cell_type": "code",
   "execution_count": 24,
   "metadata": {},
   "outputs": [],
   "source": [
    "#Also apply MVA to the Z -> qq background samples\n",
    "for qq in [\"uds\",\"cc\",\"bb\"]:\n",
    "    root_file_name = f\"{path}/inclusive_Z{qq}_all_BDT.root\"\n",
    "    if os.path.exists(root_file_name):\n",
    "        os.remove(root_file_name)\n",
    "        \n",
    "    for df_qq in read_root(f\"{path}/inclusive_Z{qq}.root\",\"events\",columns=training_vars,chunksize=100000):\n",
    "        df_qq[\"BDT_A\"] = bdt_A.predict_proba(df_qq).tolist()\n",
    "        df_qq[\"BDT_A\"] = df_qq[\"BDT_A\"].apply(lambda x: x[1] if isinstance(x, list) else x)\n",
    "        df_qq[\"BDT_B\"] = bdt_B.predict_proba(df_qq[training_vars]).tolist()\n",
    "        df_qq[\"BDT_B\"] = df_qq[\"BDT_B\"].apply(lambda x: x[1] if isinstance(x, list) else x)\n",
    "        df_qq[\"BDT_all\"] = 0.5*(df_qq[\"BDT_A\"] + df_qq[\"BDT_B\"])\n",
    "        df_qq = df_qq.drop(\"BDT_A\",1)\n",
    "        df_qq = df_qq.drop(\"BDT_B\",1)\n",
    "        df_qq.to_root(root_file_name,\"events\",mode='a')"
   ]
  }
 ],
 "metadata": {
  "kernelspec": {
   "display_name": "Python 3",
   "language": "python",
   "name": "python3"
  },
  "language_info": {
   "codemirror_mode": {
    "name": "ipython",
    "version": 3
   },
   "file_extension": ".py",
   "mimetype": "text/x-python",
   "name": "python",
   "nbconvert_exporter": "python",
   "pygments_lexer": "ipython3",
   "version": "3.7.6"
  }
 },
 "nbformat": 4,
 "nbformat_minor": 4
}

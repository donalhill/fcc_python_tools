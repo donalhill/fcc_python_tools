{
 "cells": [
  {
   "cell_type": "code",
   "execution_count": 1,
   "metadata": {},
   "outputs": [],
   "source": [
    "import sys,os\n",
    "import uproot4 as uproot\n",
    "import awkward1 as ak\n",
    "import json\n",
    "import numpy as np\n",
    "import matplotlib.pyplot as plt\n",
    "from fcc_python_tools.locations import loc\n",
    "from fcc_python_tools import kinematics_flat\n",
    "from particle import literals as lp\n",
    "from fcc_python_tools import plotting\n",
    "\n",
    "from matplotlib import rc\n",
    "rc('font',**{'family':'serif','serif':['Roman']})\n",
    "rc('text', usetex=True)"
   ]
  },
  {
   "cell_type": "code",
   "execution_count": 2,
   "metadata": {},
   "outputs": [],
   "source": [
    "path = \"/eos/experiment/fcc/ee/tmp/testmatching/\"\n",
    "mode = \"Bd2DstTauNu\"\n",
    "\n",
    "file = uproot.open(path+f\"events_{mode}.root\")\n",
    "tree = file['events']\n",
    "events = tree.arrays(library=\"ak\", how=\"zip\")\n",
    "\n",
    "n_keep = 100000\n",
    "events = events[:n_keep] "
   ]
  },
  {
   "cell_type": "markdown",
   "metadata": {},
   "source": [
    "Get the parent info for the pions, using `RPMC_parentindex` to find the info in the MC particle container"
   ]
  },
  {
   "cell_type": "code",
   "execution_count": 3,
   "metadata": {},
   "outputs": [],
   "source": [
    "events[\"RP\",\"pdg\"] = events[\"MC\",\"pdg\"][events[\"RP\",\"MC_parentindex\"]]"
   ]
  },
  {
   "cell_type": "markdown",
   "metadata": {},
   "source": [
    "Keep the reco particle info"
   ]
  },
  {
   "cell_type": "code",
   "execution_count": 4,
   "metadata": {},
   "outputs": [],
   "source": [
    "rp = events[\"RP\"]"
   ]
  },
  {
   "cell_type": "markdown",
   "metadata": {},
   "source": [
    "Keep the pions"
   ]
  },
  {
   "cell_type": "code",
   "execution_count": 6,
   "metadata": {},
   "outputs": [],
   "source": [
    "pi_cut = abs(rp[\"mass\"] - lp.pi_plus.mass/1000.) < 1e-4\n",
    "pions = rp[pi_cut]"
   ]
  },
  {
   "cell_type": "markdown",
   "metadata": {},
   "source": [
    "Make $3\\pi$ combinations"
   ]
  },
  {
   "cell_type": "code",
   "execution_count": 7,
   "metadata": {},
   "outputs": [],
   "source": [
    "tau = ak.combinations(pions,3)\n",
    "tau[\"pi_1\"], tau[\"pi_2\"], tau[\"pi_3\"] = ak.unzip(tau)\n",
    "\n",
    "#Charge cut on the pions\n",
    "tau_charge_cut_1 = np.sign(tau[\"pi_1\",\"charge\"]) != np.sign(tau[\"pi_3\",\"charge\"]) \n",
    "tau_charge_cut_2 = np.sign(tau[\"pi_2\",\"charge\"]) != np.sign(tau[\"pi_3\",\"charge\"])\n",
    "tau_charge_cut = np.logical_and(tau_charge_cut_1, tau_charge_cut_2)\n",
    "\n",
    "tau = tau[tau_charge_cut]\n",
    "\n",
    "PDG_pi_m = lp.pi_plus.mass/1000.\n",
    "tau[\"mass\"] = kinematics_flat.mass([tau[\"pi_1\"], tau[\"pi_2\"], tau[\"pi_3\"]], [PDG_pi_m, PDG_pi_m, PDG_pi_m])\n",
    "tau_m_low_cut_val = 3*PDG_pi_m\n",
    "tau_m_high_cut_val = lp.tau_plus.mass/1000.\n",
    "tau_m_low_cut = tau[\"mass\"] >= tau_m_low_cut_val\n",
    "tau_m_high_cut = tau[\"mass\"] <= lp.tau_plus.mass/1000.\n",
    "tau_m_cut = np.logical_and(tau_m_low_cut, tau_m_high_cut)\n",
    "tau = tau[tau_m_cut]"
   ]
  },
  {
   "cell_type": "markdown",
   "metadata": {},
   "source": [
    "Keep only the pions which come from a $\\tau$"
   ]
  },
  {
   "cell_type": "code",
   "execution_count": 8,
   "metadata": {},
   "outputs": [],
   "source": [
    "tau_parent_cut_pi1 = abs(tau[\"pi_1\"][\"pdg\"]) == abs(lp.tau_plus.pdgid)\n",
    "tau_parent_cut_pi2 = abs(tau[\"pi_2\"][\"pdg\"]) == abs(lp.tau_plus.pdgid) \n",
    "tau_parent_cut_pi3 = abs(tau[\"pi_3\"][\"pdg\"]) == abs(lp.tau_plus.pdgid)\n",
    "tau_parent_cut_12 = np.logical_and(tau_parent_cut_pi1, tau_parent_cut_pi2)\n",
    "tau_parent_cut_all = np.logical_and(tau_parent_cut_12, tau_parent_cut_pi3)\n",
    "tau = tau[tau_parent_cut_all]"
   ]
  },
  {
   "cell_type": "code",
   "execution_count": 9,
   "metadata": {},
   "outputs": [
    {
     "data": {
      "image/png": "[encoded data removed]",
      "text/plain": [
       "<Figure size 432x288 with 1 Axes>"
      ]
     },
     "metadata": {
      "needs_background": "light"
     },
     "output_type": "display_data"
    }
   ],
   "source": [
    "plt.hist(ak.flatten(tau[\"mass\"]),bins=50)\n",
    "plt.show()"
   ]
  }
 ],
 "metadata": {
  "kernelspec": {
   "display_name": "Python 3",
   "language": "python",
   "name": "python3"
  },
  "language_info": {
   "codemirror_mode": {
    "name": "ipython",
    "version": 3
   },
   "file_extension": ".py",
   "mimetype": "text/x-python",
   "name": "python",
   "nbconvert_exporter": "python",
   "pygments_lexer": "ipython3",
   "version": "3.7.6"
  }
 },
 "nbformat": 4,
 "nbformat_minor": 4
}

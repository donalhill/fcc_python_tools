{
 "cells": [
  {
   "cell_type": "code",
   "execution_count": 14,
   "metadata": {},
   "outputs": [],
   "source": [
    "import json\n",
    "from fcc_python_tools.locations import loc\n",
    "\n",
    "#Load species yields per year per IP at FCC-ee\n",
    "with open(f'{loc.JSON}/FCCee_species_yields.json','r') as json_file:\n",
    "    dict = json.load(json_file)"
   ]
  },
  {
   "cell_type": "code",
   "execution_count": 15,
   "metadata": {},
   "outputs": [
    {
     "name": "stdout",
     "output_type": "stream",
     "text": [
      "N(FCC-ee) = 16742\n"
     ]
    }
   ],
   "source": [
    "#K*ee branching fraction\n",
    "BF = (1./3.) * 1.03e-6\n",
    "\n",
    "#Total number expected at FCC-ee per year per IP\n",
    "N_FCCee = dict[\"Bd\"] * BF\n",
    "print(\"N(FCC-ee) = %.0f\" % N_FCCee)"
   ]
  },
  {
   "cell_type": "code",
   "execution_count": 16,
   "metadata": {},
   "outputs": [
    {
     "name": "stdout",
     "output_type": "stream",
     "text": [
      "N(LHCb UII) = 123750\n"
     ]
    }
   ],
   "source": [
    "#LHCb Run 2 (9 fb-1) yield of K*ee\n",
    "N_LHCb_9fb = 450.\n",
    "\n",
    "#Efficiency of q2 cut\n",
    "q2_cut_eff = 0.14\n",
    "\n",
    "#300 fb-1 yield (300/8 where 8 is used because first 3 fb-1 count as 2 fb-1 at 13 TeV)\n",
    "N_LHCb_300fb = N_LHCb_9fb + N_LHCb_9fb*(300./8.)\n",
    "#Undo q2 cut efficiency\n",
    "N_LHCb_300fb = N_LHCb_300fb * (1./q2_cut_eff)\n",
    "\n",
    "print(\"N(LHCb UII) = %.0f\" % N_LHCb_300fb)"
   ]
  }
 ],
 "metadata": {
  "kernelspec": {
   "display_name": "Python 3",
   "language": "python",
   "name": "python3"
  },
  "language_info": {
   "codemirror_mode": {
    "name": "ipython",
    "version": 3
   },
   "file_extension": ".py",
   "mimetype": "text/x-python",
   "name": "python",
   "nbconvert_exporter": "python",
   "pygments_lexer": "ipython3",
   "version": "3.7.6"
  }
 },
 "nbformat": 4,
 "nbformat_minor": 4
}

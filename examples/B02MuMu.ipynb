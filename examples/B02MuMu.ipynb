{
 "cells": [
  {
   "cell_type": "markdown",
   "metadata": {},
   "source": [
    "# Exclusive $B^0 \\to \\mu^+ \\mu^-$ mass peak reconstruction"
   ]
  },
  {
   "cell_type": "code",
   "execution_count": 1,
   "metadata": {},
   "outputs": [],
   "source": [
    "import sys,os\n",
    "import uproot4 as uproot\n",
    "import awkward1 as ak\n",
    "import json\n",
    "import numpy as np\n",
    "import matplotlib.pyplot as plt\n",
    "from fcc_python_tools.locations import loc\n",
    "from fcc_python_tools import kinematics\n",
    "from particle import literals as lp\n",
    "from fcc_python_tools import plotting\n",
    "import tensorflow as tf\n",
    "import zfit\n",
    "import random\n",
    "\n",
    "from matplotlib import rc\n",
    "rc('font',**{'family':'serif','serif':['Roman']})\n",
    "rc('text', usetex=True)\n",
    "\n",
    "file_type = \"p8_ee_Zbb_ecm91_EvtGen_Bd2MuMu\"\n",
    "\n",
    "#Load 1 sub-file of 100k events\n",
    "file = uproot.open(f\"/eos/experiment/fcc/ee/generation/DelphesEvents/fcc_tmp/{file_type}/events_000216660.root\")\n",
    "tree = file['events']\n",
    "\n",
    "#Get all the variables in the tree\n",
    "vars = tree.keys()\n",
    "\n",
    "#Loacation of the reco particles\n",
    "r_container = \"ReconstructedParticles\"\n",
    "r_c = f'{r_container}/{r_container}'\n",
    "\n",
    "#Keep the variables that aren't covMatrix\n",
    "keep_vars = []\n",
    "for v in vars:\n",
    "    if(\"covMatrix\" not in v and r_c in v):\n",
    "        keep_vars.append(v)\n",
    "\n",
    "r = tree.arrays(keep_vars,how=\"zip\")"
   ]
  },
  {
   "cell_type": "markdown",
   "metadata": {},
   "source": [
    "Calculate momentum and apply a cut, then select the muons:"
   ]
  },
  {
   "cell_type": "code",
   "execution_count": 2,
   "metadata": {},
   "outputs": [],
   "source": [
    "r[r_c,'p'] = kinematics.calc_p(r,r_c)\n",
    "p_cut = r[r_c,\"p\"] > 1.\n",
    "r = r[p_cut]\n",
    "\n",
    "#Muons\n",
    "mu_cut = abs(r[r_c,\"mass\"] - lp.mu_plus.mass/1000.) < 1e-4\n",
    "r[\"mu\"] = r[r_c][mu_cut]"
   ]
  },
  {
   "cell_type": "markdown",
   "metadata": {},
   "source": [
    "Make combinations of two muons:"
   ]
  },
  {
   "cell_type": "code",
   "execution_count": 24,
   "metadata": {},
   "outputs": [],
   "source": [
    "B = ak.combinations(r[\"mu\"],2)\n",
    "mu1, mu2 = ak.unzip(B)\n",
    "\n",
    "#Require physical charge combination\n",
    "charge_cut = mu1[\"charge\"] != mu2[\"charge\"]\n",
    "B = B[charge_cut]\n",
    "\n",
    "PDG_mu_m = lp.mu_plus.mass/1000.\n",
    "mass = kinematics.mass([mu1, mu2], [PDG_mu_m, PDG_mu_m])"
   ]
  },
  {
   "cell_type": "markdown",
   "metadata": {},
   "source": [
    "Apply mass window around the $B^0$ mass:"
   ]
  },
  {
   "cell_type": "code",
   "execution_count": 25,
   "metadata": {},
   "outputs": [],
   "source": [
    "PDG_B_m = lp.B_0.mass/1000.\n",
    "window = 0.06\n",
    "mass_cut = abs(mass - PDG_B_m) < window\n",
    "mass = mass[mass_cut]"
   ]
  },
  {
   "cell_type": "markdown",
   "metadata": {},
   "source": [
    "Fit mass peak with zfit:"
   ]
  },
  {
   "cell_type": "code",
   "execution_count": 37,
   "metadata": {},
   "outputs": [],
   "source": [
    "low = PDG_B_m - window\n",
    "high = PDG_B_m + window\n",
    "obs = zfit.Space('mB', limits=(low, high))\n",
    "\n",
    "#Signal PDF\n",
    "rand = random.randint(0,9999)\n",
    "mu = zfit.Parameter(f\"mu_{rand}\", 5.279, low, high)\n",
    "sigma = zfit.Parameter(f\"sigma_{rand}\", 0.006, 0., 0.1)\n",
    "alphaL = zfit.Parameter(f\"alphaL_{rand}\", 0.5, 0., 5.)\n",
    "nL = zfit.Parameter(f\"nL_{rand}\", 100., 0., 500.)\n",
    "alphaR = zfit.Parameter(f\"alphaR_{rand}\", -0.5, -5., 0.)\n",
    "nR = zfit.Parameter(f\"nR_{rand}\", 100., 0., 500.)\n",
    "frac = zfit.Parameter(f\"frac_{rand}\", 0.2, 0., 1.)\n",
    "\n",
    "pdf_sigL = zfit.pdf.CrystalBall(obs=obs, mu=mu, sigma=sigma, alpha=alphaL, n=nL)\n",
    "pdf_sigR = zfit.pdf.CrystalBall(obs=obs, mu=mu, sigma=sigma, alpha=alphaR, n=nR)\n",
    "pdf = zfit.pdf.SumPDF([pdf_sigL, pdf_sigR], frac)"
   ]
  },
  {
   "cell_type": "code",
   "execution_count": 26,
   "metadata": {},
   "outputs": [],
   "source": [
    "data_np = ak.to_numpy(ak.flatten(mass))[0:10000]\n",
    "data = zfit.Data.from_numpy(obs=obs, array=data_np)"
   ]
  },
  {
   "cell_type": "code",
   "execution_count": 38,
   "metadata": {},
   "outputs": [
    {
     "name": "stdout",
     "output_type": "stream",
     "text": [
      "┌──────────────────────────────────┬──────────────────────────────────────┐\n",
      "│ FCN = -3.127e+04                 │      Ncalls = 1127 (1127 total)      │\n",
      "│ EDM = 1.01e-08 (Goal: 1e-05)     │               up = 0.5               │\n",
      "├───────────────┬──────────────────┼──────────────────────────────────────┤\n",
      "│ Valid Minimum │ Valid Parameters │        No Parameters at limit        │\n",
      "├───────────────┴──────────────────┼──────────────────────────────────────┤\n",
      "│ Below EDM threshold (goal x 10)  │           Below call limit           │\n",
      "├───────────────┬──────────────────┼───────────┬─────────────┬────────────┤\n",
      "│   Hesse ok    │  Has Covariance  │ Accurate  │  Pos. def.  │ Not forced │\n",
      "└───────────────┴──────────────────┴───────────┴─────────────┴────────────┘\n",
      "m(B) fit function minimum: -31270.601216520467\n",
      "m(B) fit converged: True\n",
      "m(B) fit full minimizer information: {'n_eval': 1127, 'n_iter': 1127, 'original': FMin(fval=-31270.601216520467, edm=1.0075741127274342e-08, tolerance=0.01, nfcn=1127, ncalls=1127, up=0.5, is_valid=True, has_valid_parameters=True, has_accurate_covar=True, has_posdef_covar=True, has_made_posdef_covar=False, hesse_failed=False, has_covariance=True, is_above_max_edm=False, has_reached_call_limit=False, has_parameters_at_limit=False)}\n",
      "name            value         minuit_minos    at limit\n",
      "-----------  --------  -------------------  ----------\n",
      "frac_6289      0.5227  -  0.028   +  0.027       False\n",
      "alphaL_6289    0.5486  -  0.022   +  0.047       False\n",
      "mu_6289          5.28  -0.00011   +0.00011       False\n",
      "nL_6289         128.7  -  0.005   +  0.005       False\n",
      "sigma_6289   0.005668  -0.00014   +0.00015       False\n",
      "alphaR_6289   -0.5606  -  0.023   +  0.023       False\n",
      "nR_6289         126.2  -7.2e-08   +7.2e-08       False\n"
     ]
    }
   ],
   "source": [
    "nll = zfit.loss.UnbinnedNLL(model=pdf, data=data)\n",
    "minimizer = zfit.minimize.Minuit(tolerance=1e-5)\n",
    "result = minimizer.minimize(nll)\n",
    "param_errors, _ = result.errors(method=\"minuit_minos\")\n",
    "\n",
    "print(\"m(B) fit function minimum:\", result.fmin)\n",
    "print(\"m(B) fit converged:\", result.converged)\n",
    "print(\"m(B) fit full minimizer information:\", result.info)\n",
    "\n",
    "params = result.params\n",
    "print(params)"
   ]
  },
  {
   "cell_type": "code",
   "execution_count": 39,
   "metadata": {},
   "outputs": [
    {
     "name": "stdout",
     "output_type": "stream",
     "text": [
      "WARNING:tensorflow:5 out of the last 7 calls to <function crystalball_func at 0x7f1b184f7ef0> triggered tf.function retracing. Tracing is expensive and the excessive number of tracings could be due to (1) creating @tf.function repeatedly in a loop, (2) passing tensors with different shapes, (3) passing Python objects instead of tensors. For (1), please define your @tf.function outside of the loop. For (2), @tf.function has experimental_relax_shapes=True option that relaxes argument shapes that can avoid unnecessary retracing. For (3), please refer to https://www.tensorflow.org/tutorials/customization/performance#python_or_tensor_args and https://www.tensorflow.org/api_docs/python/tf/function for  more details.\n",
      "WARNING:tensorflow:6 out of the last 8 calls to <function crystalball_func at 0x7f1b184f7ef0> triggered tf.function retracing. Tracing is expensive and the excessive number of tracings could be due to (1) creating @tf.function repeatedly in a loop, (2) passing tensors with different shapes, (3) passing Python objects instead of tensors. For (1), please define your @tf.function outside of the loop. For (2), @tf.function has experimental_relax_shapes=True option that relaxes argument shapes that can avoid unnecessary retracing. For (3), please refer to https://www.tensorflow.org/tutorials/customization/performance#python_or_tensor_args and https://www.tensorflow.org/api_docs/python/tf/function for  more details.\n"
     ]
    },
    {
     "data": {
      "image/png": "[encoded data removed]",
      "text/plain": [
       "<Figure size 576x576 with 1 Axes>"
      ]
     },
     "metadata": {
      "needs_background": "light"
     },
     "output_type": "display_data"
    }
   ],
   "source": [
    "fig,ax = plt.subplots(figsize=(8,8))\n",
    "lower, upper = obs.limits\n",
    "low = lower[-1][0]\n",
    "high = upper[0][0]\n",
    "bin_width = 0.001\n",
    "bins = int(float(high - low)/bin_width)\n",
    "counts, bin_edges = np.histogram(data_np, bins, range=(low,high))\n",
    "bin_centres = (bin_edges[:-1] + bin_edges[1:])/2.\n",
    "err = np.sqrt(counts)\n",
    "plt.errorbar(bin_centres, counts, yerr=err, fmt='o', markersize=3, color='black')\n",
    "x_plot = np.linspace(low, high, num=1000)\n",
    "y_plot_tot = zfit.run(pdf.pdf(x_plot, norm_range=obs))\n",
    "plt.plot(x_plot, y_plot_tot*len(data_np)/bins*obs.area(), color='navy', linewidth=2.5, alpha=0.6)\n",
    "ax.tick_params(axis='both', which='major', labelsize=25)\n",
    "plt.ylabel(\"Candidates / (%.3f GeV/$c^2$)\" % bin_width,fontsize=25)\n",
    "plt.xlabel(\"$m(\\mu^\\pm \\mu^\\mp)$ [GeV/$c^2$]\",fontsize=25)\n",
    "plt.xlim(low,high)\n",
    "ymin, ymax = plt.ylim()\n",
    "plt.ylim(0,1.05*ymax)\n",
    "plt.tight_layout()\n",
    "fig.savefig(loc.PLOTS+\"/Bd2MuMu_fit.pdf\")"
   ]
  }
 ],
 "metadata": {
  "kernelspec": {
   "display_name": "Python 3",
   "language": "python",
   "name": "python3"
  },
  "language_info": {
   "codemirror_mode": {
    "name": "ipython",
    "version": 3
   },
   "file_extension": ".py",
   "mimetype": "text/x-python",
   "name": "python",
   "nbconvert_exporter": "python",
   "pygments_lexer": "ipython3",
   "version": "3.7.6"
  }
 },
 "nbformat": 4,
 "nbformat_minor": 4
}
